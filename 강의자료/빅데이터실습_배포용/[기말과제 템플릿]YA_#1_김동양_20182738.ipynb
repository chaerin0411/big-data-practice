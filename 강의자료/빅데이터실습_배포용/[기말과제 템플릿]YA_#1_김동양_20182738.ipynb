{
 "cells": [
  {
   "cell_type": "markdown",
   "metadata": {},
   "source": [
    "### 1. 과제 개요\n",
    "  - 제공 받은 데이터를 분석하고 시각화하는 분석 프로젝트 과제 (개별 과제)\n",
    "\n",
    "### 2. 과제 주제 ( --> 아래 2개 주제 중 원하는 주제를 하나를 선택하여 과제 수행)\n",
    "  - 주제 #1. 코로나 데이터 분석 (첨부파일 #1.covid.xlsx)\n",
    "\n",
    "  - 주제 #2. 자유 주제 : 자신이 분석하고 싶은 주제를 선정하고, 관련 데이터를 수집하여 자유롭게 과제를 수행\n",
    "\n",
    "\n",
    "### 3. 과제 상세 내용\n",
    " - 과제에서 수행할 내용들은 수업 시간 때 했던 방식과 비슷하게 하면 됩니다. (e.g. 나라별 확진자 수 추이)\n",
    "\n",
    " - 예를 들어, 주제 #1을 한다면 13주차 3차시의 수업 내용과 비슷한 형태로, 몇 가지 주제를 선정하여 분석을 수행하고 분석 결과를 시각화하면 됩니다. \n",
    "\n",
    " - 분석 및 시각화는 수업 시간에 배웠던 내용들을 최대한 많이 활용하는 것을 권장합니다. (동일한 목적의 시각화 라이브러리를 여러 개 사용할 필요는 없습니다.)\n",
    "\n",
    "\n",
    "### 4. 과제 채점 기준\n",
    "  - 수업 시간에 배웠던 내용들을 얼마나 많이 다양하게 활용하였는지를 기준으로 평가합니다.\n",
    "\n",
    "  - 총 40점 기준이며, 분석 내용 20점, 시각화 20점으로 평가합니다. \n",
    "\n",
    " - 수업 시간에 배우지 않았던 문법들을 활용하면 가산점을 부여합니다. (최대 5점)\n",
    " - 제공되지 않은 추가 데이터 사용 시 가산점을 부여합니다. (최대 5점) (주제 #2 선택 시, 자동 5점 부여, #1를 선택하더라도 코로나 백신 현황, 국내 코로나 상황 데이터, 코로나 이후 외국인 관광객 추이 데이터, 관련 뉴스나 SNS 데이터 등을 추가하여 분석하는 경우 가산점 부여)\n",
    "\n",
    "\n",
    "### 5. 과제 제출 방법 및 기한\n",
    "  - 15주차에 생성될 과제함에 제출\n",
    "\n",
    "  ~ 12/19(일) 23:59까지 \n",
    "\n",
    "\n",
    "### 6. 제출 파일\n",
    " - jupyter notebook 소스 코드(ipynb) \n",
    " - 파일명은 분반_주제번호_학번_이름.ipynb 으로 저장 (e.g. YA_#1_박홍규_20192038.ipynb)\n",
    " - txt나 다른 형태의 파일은 받지 않으니, 꼭 ipynb 파일로 제출해 주세요. (colab으로 작업한 학생들도 ipynb 파일로 다운로드 받을 수 있으니, 다운로드 받아서 제출해주세요.)\n",
    "- 추가로 사용한 데이터가 있는 경우, 데이터 파일들과 ipynb 파일을 압축해서 하나의 압축 파일로 제출 바랍니다. \n",
    "\n",
    " - 설명 동영상 유튜브 링크 : 자신의 코드를 5분 이내로 설명하는 영상을 제작 \n",
    " - 자신의 분석 코드를 설명하는 동영상 : 영상 원본이 아닌 youtube에 업로드한 후, 유투브 링크를 jupyter notebook 내에 적어주세요. (영상 길이는 5분 내외, 최대 10분)\n",
    "\n",
    "\n"
   ]
  },
  {
   "cell_type": "markdown",
   "metadata": {},
   "source": [
    "-------\n",
    "## 주제를 선정한 후 자유롭게 작성 ###\n",
    "1. 데이터 읽기(read_csv)\n",
    "2. 데이터 탐색(데이터의 특징 파악)\n",
    "3. 데이터 분석 및 시각화\n",
    "   - 예시[#1 코로나 데이터] 나라별 코로나 확진자수 추이, 분기별 코로나 확진자수 추이 등"
   ]
  },
  {
   "cell_type": "code",
   "execution_count": null,
   "metadata": {},
   "outputs": [],
   "source": []
  },
  {
   "cell_type": "code",
   "execution_count": null,
   "metadata": {},
   "outputs": [],
   "source": []
  },
  {
   "cell_type": "code",
   "execution_count": null,
   "metadata": {},
   "outputs": [],
   "source": []
  },
  {
   "cell_type": "code",
   "execution_count": null,
   "metadata": {},
   "outputs": [],
   "source": []
  },
  {
   "cell_type": "code",
   "execution_count": null,
   "metadata": {},
   "outputs": [],
   "source": []
  },
  {
   "cell_type": "markdown",
   "metadata": {},
   "source": [
    "### 자신의 소스코드를 설명하는 동영상 링크 ###\n",
    " - 5분 이내 권장. 최대 10분 이내\n",
    " - e.g. https://www.youtube.com/ejeinsljh"
   ]
  },
  {
   "cell_type": "code",
   "execution_count": null,
   "metadata": {},
   "outputs": [],
   "source": []
  }
 ],
 "metadata": {
  "kernelspec": {
   "display_name": "Python 3",
   "language": "python",
   "name": "python3"
  },
  "language_info": {
   "codemirror_mode": {
    "name": "ipython",
    "version": 3
   },
   "file_extension": ".py",
   "mimetype": "text/x-python",
   "name": "python",
   "nbconvert_exporter": "python",
   "pygments_lexer": "ipython3",
   "version": "3.8.5"
  }
 },
 "nbformat": 4,
 "nbformat_minor": 4
}
