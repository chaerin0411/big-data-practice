{
 "cells": [
  {
   "cell_type": "code",
   "execution_count": 2,
   "metadata": {},
   "outputs": [],
   "source": [
    "import pandas as pd\n",
    "from pandas import Series, DataFrame"
   ]
  },
  {
   "cell_type": "code",
   "execution_count": 3,
   "metadata": {},
   "outputs": [],
   "source": [
    "# Covid-19 데이터 분석 시각화\n",
    "# plotly를 통한 시각화\n",
    "# Dash 라이브러리를 통한 웹 서비스\n",
    "# 01. Covid-19 데이터 전처리 및 분석\n",
    "# 02. Covid-19 데이터 시각화(feat. plotly)\n",
    "# 03. plotly + Dash로 데이터 분석 웹서버 구축하기"
   ]
  },
  {
   "cell_type": "code",
   "execution_count": 4,
   "metadata": {},
   "outputs": [],
   "source": [
    "# 01. Covid-19 데이터 전처리 및 분석\n",
    "# Covid-19 데이터 분석 및 plotly 시각화 실습하기\n",
    "# 데이터 분석\n",
    "# 시각화\n",
    "# 웹서버 구축 및 웹서비스"
   ]
  },
  {
   "cell_type": "markdown",
   "metadata": {},
   "source": [
    "## 1. Covid-19 데이터 가져오기\n",
    "- https://github.com/owid/covid-19-data/tree/master/public/data : 매일 업데이트된 파일을 제공함"
   ]
  },
  {
   "cell_type": "code",
   "execution_count": 5,
   "metadata": {},
   "outputs": [],
   "source": [
    "covid = pd.read_excel('data/owid-covid-data.xlsx')"
   ]
  },
  {
   "cell_type": "markdown",
   "metadata": {},
   "source": [
    "## 2. 데이터 탐색 및 전처리"
   ]
  },
  {
   "cell_type": "markdown",
   "metadata": {},
   "source": [
    "##### 데이터 크기, 컬럼들의 개수와 타입 등 확인"
   ]
  },
  {
   "cell_type": "code",
   "execution_count": 6,
   "metadata": {},
   "outputs": [
    {
     "name": "stdout",
     "output_type": "stream",
     "text": [
      "<class 'pandas.core.frame.DataFrame'>\n",
      "RangeIndex: 137839 entries, 0 to 137838\n",
      "Data columns (total 67 columns):\n",
      " #   Column                                      Non-Null Count   Dtype  \n",
      "---  ------                                      --------------   -----  \n",
      " 0   iso_code                                    137839 non-null  object \n",
      " 1   continent                                   129066 non-null  object \n",
      " 2   location                                    137839 non-null  object \n",
      " 3   date                                        137839 non-null  object \n",
      " 4   total_cases                                 130171 non-null  float64\n",
      " 5   new_cases                                   130166 non-null  float64\n",
      " 6   new_cases_smoothed                          129126 non-null  float64\n",
      " 7   total_deaths                                118870 non-null  float64\n",
      " 8   new_deaths                                  119066 non-null  float64\n",
      " 9   new_deaths_smoothed                         129126 non-null  float64\n",
      " 10  total_cases_per_million                     129504 non-null  float64\n",
      " 11  new_cases_per_million                       129499 non-null  float64\n",
      " 12  new_cases_smoothed_per_million              128464 non-null  float64\n",
      " 13  total_deaths_per_million                    118216 non-null  float64\n",
      " 14  new_deaths_per_million                      118412 non-null  float64\n",
      " 15  new_deaths_smoothed_per_million             128464 non-null  float64\n",
      " 16  reproduction_rate                           108865 non-null  float64\n",
      " 17  icu_patients                                16927 non-null   float64\n",
      " 18  icu_patients_per_million                    16927 non-null   float64\n",
      " 19  hosp_patients                               19345 non-null   float64\n",
      " 20  hosp_patients_per_million                   19345 non-null   float64\n",
      " 21  weekly_icu_admissions                       1318 non-null    float64\n",
      " 22  weekly_icu_admissions_per_million           1318 non-null    float64\n",
      " 23  weekly_hosp_admissions                      2202 non-null    float64\n",
      " 24  weekly_hosp_admissions_per_million          2202 non-null    float64\n",
      " 25  new_tests                                   57273 non-null   float64\n",
      " 26  total_tests                                 57565 non-null   float64\n",
      " 27  total_tests_per_thousand                    57565 non-null   float64\n",
      " 28  new_tests_per_thousand                      57273 non-null   float64\n",
      " 29  new_tests_smoothed                          69703 non-null   float64\n",
      " 30  new_tests_smoothed_per_thousand             69703 non-null   float64\n",
      " 31  positive_rate                               65091 non-null   float64\n",
      " 32  tests_per_case                              64430 non-null   float64\n",
      " 33  tests_units                                 71776 non-null   object \n",
      " 34  total_vaccinations                          36070 non-null   float64\n",
      " 35  people_vaccinated                           34466 non-null   float64\n",
      " 36  people_fully_vaccinated                     31497 non-null   float64\n",
      " 37  total_boosters                              8777 non-null    float64\n",
      " 38  new_vaccinations                            30050 non-null   float64\n",
      " 39  new_vaccinations_smoothed                   64304 non-null   float64\n",
      " 40  total_vaccinations_per_hundred              36070 non-null   float64\n",
      " 41  people_vaccinated_per_hundred               34466 non-null   float64\n",
      " 42  people_fully_vaccinated_per_hundred         31497 non-null   float64\n",
      " 43  total_boosters_per_hundred                  8777 non-null    float64\n",
      " 44  new_vaccinations_smoothed_per_million       64304 non-null   float64\n",
      " 45  new_people_vaccinated_smoothed              63137 non-null   float64\n",
      " 46  new_people_vaccinated_smoothed_per_hundred  63137 non-null   float64\n",
      " 47  stringency_index                            112124 non-null  float64\n",
      " 48  population                                  136855 non-null  float64\n",
      " 49  population_density                          124758 non-null  float64\n",
      " 50  median_age                                  118809 non-null  float64\n",
      " 51  aged_65_older                               117497 non-null  float64\n",
      " 52  aged_70_older                               118161 non-null  float64\n",
      " 53  gdp_per_capita                              119586 non-null  float64\n",
      " 54  extreme_poverty                             79899 non-null   float64\n",
      " 55  cardiovasc_death_rate                       119002 non-null  float64\n",
      " 56  diabetes_prevalence                         122998 non-null  float64\n",
      " 57  female_smokers                              92690 non-null   float64\n",
      " 58  male_smokers                                91352 non-null   float64\n",
      " 59  handwashing_facilities                      59898 non-null   float64\n",
      " 60  hospital_beds_per_thousand                  108121 non-null  float64\n",
      " 61  life_expectancy                             128149 non-null  float64\n",
      " 62  human_development_index                     119121 non-null  float64\n",
      " 63  excess_mortality_cumulative_absolute        4853 non-null    float64\n",
      " 64  excess_mortality_cumulative                 4853 non-null    float64\n",
      " 65  excess_mortality                            4853 non-null    float64\n",
      " 66  excess_mortality_cumulative_per_million     4853 non-null    float64\n",
      "dtypes: float64(62), object(5)\n",
      "memory usage: 70.5+ MB\n"
     ]
    }
   ],
   "source": [
    "# Covid-19 데이터는 약 200개 이상의 국가에서 2020년 1월부터 수집된 데이터로써, 약 60개 컬럼으로 구성되어 있음\n",
    "covid.info()"
   ]
  },
  {
   "cell_type": "markdown",
   "metadata": {},
   "source": [
    "##### date 컬럼을 datetime으로 변경하기"
   ]
  },
  {
   "cell_type": "code",
   "execution_count": 7,
   "metadata": {},
   "outputs": [],
   "source": [
    "# to_datetime() 함수\n",
    "# 컬럼의 데이터타입을 datetime으로 변환\n",
    "covid['date'] =  pd.to_datetime(covid['date'], format='%Y-%m-%d')"
   ]
  },
  {
   "cell_type": "code",
   "execution_count": 8,
   "metadata": {},
   "outputs": [
    {
     "name": "stdout",
     "output_type": "stream",
     "text": [
      "<class 'pandas.core.frame.DataFrame'>\n",
      "RangeIndex: 137839 entries, 0 to 137838\n",
      "Data columns (total 67 columns):\n",
      " #   Column                                      Non-Null Count   Dtype         \n",
      "---  ------                                      --------------   -----         \n",
      " 0   iso_code                                    137839 non-null  object        \n",
      " 1   continent                                   129066 non-null  object        \n",
      " 2   location                                    137839 non-null  object        \n",
      " 3   date                                        137839 non-null  datetime64[ns]\n",
      " 4   total_cases                                 130171 non-null  float64       \n",
      " 5   new_cases                                   130166 non-null  float64       \n",
      " 6   new_cases_smoothed                          129126 non-null  float64       \n",
      " 7   total_deaths                                118870 non-null  float64       \n",
      " 8   new_deaths                                  119066 non-null  float64       \n",
      " 9   new_deaths_smoothed                         129126 non-null  float64       \n",
      " 10  total_cases_per_million                     129504 non-null  float64       \n",
      " 11  new_cases_per_million                       129499 non-null  float64       \n",
      " 12  new_cases_smoothed_per_million              128464 non-null  float64       \n",
      " 13  total_deaths_per_million                    118216 non-null  float64       \n",
      " 14  new_deaths_per_million                      118412 non-null  float64       \n",
      " 15  new_deaths_smoothed_per_million             128464 non-null  float64       \n",
      " 16  reproduction_rate                           108865 non-null  float64       \n",
      " 17  icu_patients                                16927 non-null   float64       \n",
      " 18  icu_patients_per_million                    16927 non-null   float64       \n",
      " 19  hosp_patients                               19345 non-null   float64       \n",
      " 20  hosp_patients_per_million                   19345 non-null   float64       \n",
      " 21  weekly_icu_admissions                       1318 non-null    float64       \n",
      " 22  weekly_icu_admissions_per_million           1318 non-null    float64       \n",
      " 23  weekly_hosp_admissions                      2202 non-null    float64       \n",
      " 24  weekly_hosp_admissions_per_million          2202 non-null    float64       \n",
      " 25  new_tests                                   57273 non-null   float64       \n",
      " 26  total_tests                                 57565 non-null   float64       \n",
      " 27  total_tests_per_thousand                    57565 non-null   float64       \n",
      " 28  new_tests_per_thousand                      57273 non-null   float64       \n",
      " 29  new_tests_smoothed                          69703 non-null   float64       \n",
      " 30  new_tests_smoothed_per_thousand             69703 non-null   float64       \n",
      " 31  positive_rate                               65091 non-null   float64       \n",
      " 32  tests_per_case                              64430 non-null   float64       \n",
      " 33  tests_units                                 71776 non-null   object        \n",
      " 34  total_vaccinations                          36070 non-null   float64       \n",
      " 35  people_vaccinated                           34466 non-null   float64       \n",
      " 36  people_fully_vaccinated                     31497 non-null   float64       \n",
      " 37  total_boosters                              8777 non-null    float64       \n",
      " 38  new_vaccinations                            30050 non-null   float64       \n",
      " 39  new_vaccinations_smoothed                   64304 non-null   float64       \n",
      " 40  total_vaccinations_per_hundred              36070 non-null   float64       \n",
      " 41  people_vaccinated_per_hundred               34466 non-null   float64       \n",
      " 42  people_fully_vaccinated_per_hundred         31497 non-null   float64       \n",
      " 43  total_boosters_per_hundred                  8777 non-null    float64       \n",
      " 44  new_vaccinations_smoothed_per_million       64304 non-null   float64       \n",
      " 45  new_people_vaccinated_smoothed              63137 non-null   float64       \n",
      " 46  new_people_vaccinated_smoothed_per_hundred  63137 non-null   float64       \n",
      " 47  stringency_index                            112124 non-null  float64       \n",
      " 48  population                                  136855 non-null  float64       \n",
      " 49  population_density                          124758 non-null  float64       \n",
      " 50  median_age                                  118809 non-null  float64       \n",
      " 51  aged_65_older                               117497 non-null  float64       \n",
      " 52  aged_70_older                               118161 non-null  float64       \n",
      " 53  gdp_per_capita                              119586 non-null  float64       \n",
      " 54  extreme_poverty                             79899 non-null   float64       \n",
      " 55  cardiovasc_death_rate                       119002 non-null  float64       \n",
      " 56  diabetes_prevalence                         122998 non-null  float64       \n",
      " 57  female_smokers                              92690 non-null   float64       \n",
      " 58  male_smokers                                91352 non-null   float64       \n",
      " 59  handwashing_facilities                      59898 non-null   float64       \n",
      " 60  hospital_beds_per_thousand                  108121 non-null  float64       \n",
      " 61  life_expectancy                             128149 non-null  float64       \n",
      " 62  human_development_index                     119121 non-null  float64       \n",
      " 63  excess_mortality_cumulative_absolute        4853 non-null    float64       \n",
      " 64  excess_mortality_cumulative                 4853 non-null    float64       \n",
      " 65  excess_mortality                            4853 non-null    float64       \n",
      " 66  excess_mortality_cumulative_per_million     4853 non-null    float64       \n",
      "dtypes: datetime64[ns](1), float64(62), object(4)\n",
      "memory usage: 70.5+ MB\n"
     ]
    }
   ],
   "source": [
    "covid.info()"
   ]
  },
  {
   "cell_type": "markdown",
   "metadata": {},
   "source": [
    "##### 년도(year), 달(month), 일(day), 주차(WeekNumber, %U)과 요일(weekDay, %a) 컬럼 추가하기"
   ]
  },
  {
   "cell_type": "code",
   "execution_count": 9,
   "metadata": {},
   "outputs": [],
   "source": [
    "covid['year'] = covid['date'].apply(lambda x: x.strftime('%Y'))\n",
    "covid['month'] = covid['date'].apply(lambda x: x.strftime('%m'))\n",
    "covid['day'] = covid['date'].apply(lambda x: x.strftime('%d'))\n",
    "covid['weekNumber'] = covid['date'].apply(lambda x: x.strftime('%U'))\n",
    "covid['weekDay'] = covid['date'].apply(lambda x: x.strftime('%a'))"
   ]
  },
  {
   "cell_type": "code",
   "execution_count": 10,
   "metadata": {},
   "outputs": [
    {
     "data": {
      "text/html": [
       "<div>\n",
       "<style scoped>\n",
       "    .dataframe tbody tr th:only-of-type {\n",
       "        vertical-align: middle;\n",
       "    }\n",
       "\n",
       "    .dataframe tbody tr th {\n",
       "        vertical-align: top;\n",
       "    }\n",
       "\n",
       "    .dataframe thead th {\n",
       "        text-align: right;\n",
       "    }\n",
       "</style>\n",
       "<table border=\"1\" class=\"dataframe\">\n",
       "  <thead>\n",
       "    <tr style=\"text-align: right;\">\n",
       "      <th></th>\n",
       "      <th>iso_code</th>\n",
       "      <th>continent</th>\n",
       "      <th>location</th>\n",
       "      <th>date</th>\n",
       "      <th>total_cases</th>\n",
       "      <th>new_cases</th>\n",
       "      <th>new_cases_smoothed</th>\n",
       "      <th>total_deaths</th>\n",
       "      <th>new_deaths</th>\n",
       "      <th>new_deaths_smoothed</th>\n",
       "      <th>...</th>\n",
       "      <th>human_development_index</th>\n",
       "      <th>excess_mortality_cumulative_absolute</th>\n",
       "      <th>excess_mortality_cumulative</th>\n",
       "      <th>excess_mortality</th>\n",
       "      <th>excess_mortality_cumulative_per_million</th>\n",
       "      <th>year</th>\n",
       "      <th>month</th>\n",
       "      <th>day</th>\n",
       "      <th>weekNumber</th>\n",
       "      <th>weekDay</th>\n",
       "    </tr>\n",
       "  </thead>\n",
       "  <tbody>\n",
       "    <tr>\n",
       "      <th>0</th>\n",
       "      <td>AFG</td>\n",
       "      <td>Asia</td>\n",
       "      <td>Afghanistan</td>\n",
       "      <td>2020-02-24</td>\n",
       "      <td>5.0</td>\n",
       "      <td>5.0</td>\n",
       "      <td>NaN</td>\n",
       "      <td>NaN</td>\n",
       "      <td>NaN</td>\n",
       "      <td>NaN</td>\n",
       "      <td>...</td>\n",
       "      <td>0.511</td>\n",
       "      <td>NaN</td>\n",
       "      <td>NaN</td>\n",
       "      <td>NaN</td>\n",
       "      <td>NaN</td>\n",
       "      <td>2020</td>\n",
       "      <td>02</td>\n",
       "      <td>24</td>\n",
       "      <td>08</td>\n",
       "      <td>Mon</td>\n",
       "    </tr>\n",
       "    <tr>\n",
       "      <th>1</th>\n",
       "      <td>AFG</td>\n",
       "      <td>Asia</td>\n",
       "      <td>Afghanistan</td>\n",
       "      <td>2020-02-25</td>\n",
       "      <td>5.0</td>\n",
       "      <td>0.0</td>\n",
       "      <td>NaN</td>\n",
       "      <td>NaN</td>\n",
       "      <td>NaN</td>\n",
       "      <td>NaN</td>\n",
       "      <td>...</td>\n",
       "      <td>0.511</td>\n",
       "      <td>NaN</td>\n",
       "      <td>NaN</td>\n",
       "      <td>NaN</td>\n",
       "      <td>NaN</td>\n",
       "      <td>2020</td>\n",
       "      <td>02</td>\n",
       "      <td>25</td>\n",
       "      <td>08</td>\n",
       "      <td>Tue</td>\n",
       "    </tr>\n",
       "    <tr>\n",
       "      <th>2</th>\n",
       "      <td>AFG</td>\n",
       "      <td>Asia</td>\n",
       "      <td>Afghanistan</td>\n",
       "      <td>2020-02-26</td>\n",
       "      <td>5.0</td>\n",
       "      <td>0.0</td>\n",
       "      <td>NaN</td>\n",
       "      <td>NaN</td>\n",
       "      <td>NaN</td>\n",
       "      <td>NaN</td>\n",
       "      <td>...</td>\n",
       "      <td>0.511</td>\n",
       "      <td>NaN</td>\n",
       "      <td>NaN</td>\n",
       "      <td>NaN</td>\n",
       "      <td>NaN</td>\n",
       "      <td>2020</td>\n",
       "      <td>02</td>\n",
       "      <td>26</td>\n",
       "      <td>08</td>\n",
       "      <td>Wed</td>\n",
       "    </tr>\n",
       "    <tr>\n",
       "      <th>3</th>\n",
       "      <td>AFG</td>\n",
       "      <td>Asia</td>\n",
       "      <td>Afghanistan</td>\n",
       "      <td>2020-02-27</td>\n",
       "      <td>5.0</td>\n",
       "      <td>0.0</td>\n",
       "      <td>NaN</td>\n",
       "      <td>NaN</td>\n",
       "      <td>NaN</td>\n",
       "      <td>NaN</td>\n",
       "      <td>...</td>\n",
       "      <td>0.511</td>\n",
       "      <td>NaN</td>\n",
       "      <td>NaN</td>\n",
       "      <td>NaN</td>\n",
       "      <td>NaN</td>\n",
       "      <td>2020</td>\n",
       "      <td>02</td>\n",
       "      <td>27</td>\n",
       "      <td>08</td>\n",
       "      <td>Thu</td>\n",
       "    </tr>\n",
       "    <tr>\n",
       "      <th>4</th>\n",
       "      <td>AFG</td>\n",
       "      <td>Asia</td>\n",
       "      <td>Afghanistan</td>\n",
       "      <td>2020-02-28</td>\n",
       "      <td>5.0</td>\n",
       "      <td>0.0</td>\n",
       "      <td>NaN</td>\n",
       "      <td>NaN</td>\n",
       "      <td>NaN</td>\n",
       "      <td>NaN</td>\n",
       "      <td>...</td>\n",
       "      <td>0.511</td>\n",
       "      <td>NaN</td>\n",
       "      <td>NaN</td>\n",
       "      <td>NaN</td>\n",
       "      <td>NaN</td>\n",
       "      <td>2020</td>\n",
       "      <td>02</td>\n",
       "      <td>28</td>\n",
       "      <td>08</td>\n",
       "      <td>Fri</td>\n",
       "    </tr>\n",
       "  </tbody>\n",
       "</table>\n",
       "<p>5 rows × 72 columns</p>\n",
       "</div>"
      ],
      "text/plain": [
       "  iso_code continent     location       date  total_cases  new_cases  \\\n",
       "0      AFG      Asia  Afghanistan 2020-02-24          5.0        5.0   \n",
       "1      AFG      Asia  Afghanistan 2020-02-25          5.0        0.0   \n",
       "2      AFG      Asia  Afghanistan 2020-02-26          5.0        0.0   \n",
       "3      AFG      Asia  Afghanistan 2020-02-27          5.0        0.0   \n",
       "4      AFG      Asia  Afghanistan 2020-02-28          5.0        0.0   \n",
       "\n",
       "   new_cases_smoothed  total_deaths  new_deaths  new_deaths_smoothed  ...  \\\n",
       "0                 NaN           NaN         NaN                  NaN  ...   \n",
       "1                 NaN           NaN         NaN                  NaN  ...   \n",
       "2                 NaN           NaN         NaN                  NaN  ...   \n",
       "3                 NaN           NaN         NaN                  NaN  ...   \n",
       "4                 NaN           NaN         NaN                  NaN  ...   \n",
       "\n",
       "   human_development_index  excess_mortality_cumulative_absolute  \\\n",
       "0                    0.511                                   NaN   \n",
       "1                    0.511                                   NaN   \n",
       "2                    0.511                                   NaN   \n",
       "3                    0.511                                   NaN   \n",
       "4                    0.511                                   NaN   \n",
       "\n",
       "   excess_mortality_cumulative  excess_mortality  \\\n",
       "0                          NaN               NaN   \n",
       "1                          NaN               NaN   \n",
       "2                          NaN               NaN   \n",
       "3                          NaN               NaN   \n",
       "4                          NaN               NaN   \n",
       "\n",
       "   excess_mortality_cumulative_per_million  year  month  day  weekNumber  \\\n",
       "0                                      NaN  2020     02   24          08   \n",
       "1                                      NaN  2020     02   25          08   \n",
       "2                                      NaN  2020     02   26          08   \n",
       "3                                      NaN  2020     02   27          08   \n",
       "4                                      NaN  2020     02   28          08   \n",
       "\n",
       "   weekDay  \n",
       "0      Mon  \n",
       "1      Tue  \n",
       "2      Wed  \n",
       "3      Thu  \n",
       "4      Fri  \n",
       "\n",
       "[5 rows x 72 columns]"
      ]
     },
     "execution_count": 10,
     "metadata": {},
     "output_type": "execute_result"
    }
   ],
   "source": [
    "covid.head()"
   ]
  },
  {
   "cell_type": "markdown",
   "metadata": {},
   "source": [
    "##### date를 row index로 설정하기"
   ]
  },
  {
   "cell_type": "code",
   "execution_count": 11,
   "metadata": {},
   "outputs": [],
   "source": [
    "covid2 = covid.set_index(['date']).sort_index()"
   ]
  },
  {
   "cell_type": "code",
   "execution_count": 12,
   "metadata": {},
   "outputs": [
    {
     "data": {
      "text/plain": [
       "pandas.core.indexes.datetimes.DatetimeIndex"
      ]
     },
     "execution_count": 12,
     "metadata": {},
     "output_type": "execute_result"
    }
   ],
   "source": [
    "# DatetimeIndex인지 확인\n",
    "type(covid2.index)"
   ]
  },
  {
   "cell_type": "markdown",
   "metadata": {},
   "source": [
    "##### 데이터 분석에 활용할 데이터의 범위 정하기 (나라, 기간)"
   ]
  },
  {
   "cell_type": "markdown",
   "metadata": {},
   "source": [
    "1) 수집되고 있는 나라의 개수 확인"
   ]
  },
  {
   "cell_type": "code",
   "execution_count": 13,
   "metadata": {},
   "outputs": [
    {
     "data": {
      "text/plain": [
       "237"
      ]
     },
     "execution_count": 13,
     "metadata": {},
     "output_type": "execute_result"
    }
   ],
   "source": [
    "# 결과 목록의 개수(size)가 수집 국가의 개수\n",
    "covid2.location.unique().size"
   ]
  },
  {
   "cell_type": "code",
   "execution_count": 14,
   "metadata": {},
   "outputs": [
    {
     "ename": "AttributeError",
     "evalue": "'Series' object has no attribute 'Unique'",
     "output_type": "error",
     "traceback": [
      "\u001b[1;31m---------------------------------------------------------------------------\u001b[0m",
      "\u001b[1;31mAttributeError\u001b[0m                            Traceback (most recent call last)",
      "\u001b[1;32m<ipython-input-14-28d7b9423d8f>\u001b[0m in \u001b[0;36m<module>\u001b[1;34m\u001b[0m\n\u001b[0;32m      1\u001b[0m \u001b[1;31m# World, Asia, European Union 등 나라가 아닌 대륙 정보가 혼재되어 있음\u001b[0m\u001b[1;33m\u001b[0m\u001b[1;33m\u001b[0m\u001b[1;33m\u001b[0m\u001b[0m\n\u001b[0;32m      2\u001b[0m \u001b[1;31m# Location 컬럼에는 나라와 대륙 정보가 혼재되어 있으므로, 대륙 정보를 삭제해야 함\u001b[0m\u001b[1;33m\u001b[0m\u001b[1;33m\u001b[0m\u001b[1;33m\u001b[0m\u001b[0m\n\u001b[1;32m----> 3\u001b[1;33m \u001b[0mcovid2\u001b[0m\u001b[1;33m.\u001b[0m\u001b[0mlocation\u001b[0m\u001b[1;33m.\u001b[0m\u001b[0mUnique\u001b[0m\u001b[1;33m(\u001b[0m\u001b[1;33m)\u001b[0m\u001b[1;33m\u001b[0m\u001b[1;33m\u001b[0m\u001b[0m\n\u001b[0m",
      "\u001b[1;32m~\\anaconda3\\lib\\site-packages\\pandas\\core\\generic.py\u001b[0m in \u001b[0;36m__getattr__\u001b[1;34m(self, name)\u001b[0m\n\u001b[0;32m   5463\u001b[0m             \u001b[1;32mif\u001b[0m \u001b[0mself\u001b[0m\u001b[1;33m.\u001b[0m\u001b[0m_info_axis\u001b[0m\u001b[1;33m.\u001b[0m\u001b[0m_can_hold_identifiers_and_holds_name\u001b[0m\u001b[1;33m(\u001b[0m\u001b[0mname\u001b[0m\u001b[1;33m)\u001b[0m\u001b[1;33m:\u001b[0m\u001b[1;33m\u001b[0m\u001b[1;33m\u001b[0m\u001b[0m\n\u001b[0;32m   5464\u001b[0m                 \u001b[1;32mreturn\u001b[0m \u001b[0mself\u001b[0m\u001b[1;33m[\u001b[0m\u001b[0mname\u001b[0m\u001b[1;33m]\u001b[0m\u001b[1;33m\u001b[0m\u001b[1;33m\u001b[0m\u001b[0m\n\u001b[1;32m-> 5465\u001b[1;33m             \u001b[1;32mreturn\u001b[0m \u001b[0mobject\u001b[0m\u001b[1;33m.\u001b[0m\u001b[0m__getattribute__\u001b[0m\u001b[1;33m(\u001b[0m\u001b[0mself\u001b[0m\u001b[1;33m,\u001b[0m \u001b[0mname\u001b[0m\u001b[1;33m)\u001b[0m\u001b[1;33m\u001b[0m\u001b[1;33m\u001b[0m\u001b[0m\n\u001b[0m\u001b[0;32m   5466\u001b[0m \u001b[1;33m\u001b[0m\u001b[0m\n\u001b[0;32m   5467\u001b[0m     \u001b[1;32mdef\u001b[0m \u001b[0m__setattr__\u001b[0m\u001b[1;33m(\u001b[0m\u001b[0mself\u001b[0m\u001b[1;33m,\u001b[0m \u001b[0mname\u001b[0m\u001b[1;33m:\u001b[0m \u001b[0mstr\u001b[0m\u001b[1;33m,\u001b[0m \u001b[0mvalue\u001b[0m\u001b[1;33m)\u001b[0m \u001b[1;33m->\u001b[0m \u001b[1;32mNone\u001b[0m\u001b[1;33m:\u001b[0m\u001b[1;33m\u001b[0m\u001b[1;33m\u001b[0m\u001b[0m\n",
      "\u001b[1;31mAttributeError\u001b[0m: 'Series' object has no attribute 'Unique'"
     ]
    }
   ],
   "source": [
    "# World, Asia, European Union 등 나라가 아닌 대륙 정보가 혼재되어 있음\n",
    "# Location 컬럼에는 나라와 대륙 정보가 혼재되어 있으므로, 대륙 정보를 삭제해야 함\n",
    "covid2.location.Unique()"
   ]
  },
  {
   "cell_type": "code",
   "execution_count": null,
   "metadata": {},
   "outputs": [],
   "source": [
    "# continent 컬럼의 값 = null\n",
    "# location 컬럼의 값이 대륙임을 알 수 있음\n",
    "covid2[covid2.continent.isnull()].location.unique()"
   ]
  },
  {
   "cell_type": "code",
   "execution_count": null,
   "metadata": {},
   "outputs": [],
   "source": [
    "covid2[covid2.continent.isnull()]"
   ]
  },
  {
   "cell_type": "code",
   "execution_count": null,
   "metadata": {},
   "outputs": [],
   "source": [
    "covid2[covid2.location == 'Asia']"
   ]
  },
  {
   "cell_type": "code",
   "execution_count": null,
   "metadata": {},
   "outputs": [],
   "source": [
    "# 더 정확히 알아보기\n",
    "# continent(대륙) 컬럼이 null이 아닌 데이터만 선택하면 정확한 나라의 개수를 알 수 있음\n",
    "# 224개의 나라에서 데이터 수집 중\n",
    "covid2[covid2.continent.notnull()].location.unique().size"
   ]
  },
  {
   "cell_type": "markdown",
   "metadata": {},
   "source": [
    "2) 데이터 수집 기간 확인"
   ]
  },
  {
   "cell_type": "code",
   "execution_count": null,
   "metadata": {},
   "outputs": [],
   "source": [
    "print(covid2.index.min(), covid2.index.max())"
   ]
  },
  {
   "cell_type": "markdown",
   "metadata": {},
   "source": [
    "3) 날짜별 데이터 수집 개수 확인"
   ]
  },
  {
   "cell_type": "code",
   "execution_count": null,
   "metadata": {},
   "outputs": [],
   "source": [
    "# 정보를 전체 확인하고 싶다면?\n",
    "# pandas의 set_option에서 display.max_rows를 늘리면 됨\n",
    "# 출력되는 컬럼의 개수를 늘리고자 한다면, display.max_columns의 값을 수정하면 됨\n",
    "\n",
    "# 결과에 표현되는 최대 row 갯수\n",
    "pd.set_option('display.max_rows', 500)\n",
    "\n",
    "# 결과에 표현되는 최대 columns 갯수\n",
    "#pd.set_option('display.max_columns', 100)"
   ]
  },
  {
   "cell_type": "code",
   "execution_count": null,
   "metadata": {},
   "outputs": [],
   "source": [
    "covid2.index.value_counts().sort_index()"
   ]
  },
  {
   "cell_type": "code",
   "execution_count": null,
   "metadata": {},
   "outputs": [],
   "source": [
    "# 데이터 분석에 활용할 데이터의 범위 정하기(나라, 기간)"
   ]
  },
  {
   "cell_type": "markdown",
   "metadata": {},
   "source": [
    "4) 코로나 바이러스가 가장 많이 걸린 상위 100개 나라만 선택"
   ]
  },
  {
   "cell_type": "code",
   "execution_count": null,
   "metadata": {},
   "outputs": [],
   "source": [
    "covid2[covid2.location == 'South Korea'] # total_cases가 누적 값인 것을 확인"
   ]
  },
  {
   "cell_type": "code",
   "execution_count": null,
   "metadata": {
    "code_folding": []
   },
   "outputs": [],
   "source": [
    "# 1. covid2.index.max() 가장 최근 날짜 구하기\n",
    "covid2.index.max()"
   ]
  },
  {
   "cell_type": "code",
   "execution_count": null,
   "metadata": {},
   "outputs": [],
   "source": [
    "# 2. 가장 최신 날짜의 데이터만 선택\n",
    "# recent : 최신 데이터 저장\n",
    "recent = covid2[covid2.index == covid2.index.max()]\n",
    "recent"
   ]
  },
  {
   "cell_type": "code",
   "execution_count": null,
   "metadata": {
    "scrolled": true
   },
   "outputs": [],
   "source": [
    "# 3. 값이 가장 큰 100개의 나라(location) 선택\n",
    "top100 = recent.nlargest(100, 'total_cases').location.values\n",
    "top100"
   ]
  },
  {
   "cell_type": "code",
   "execution_count": null,
   "metadata": {},
   "outputs": [],
   "source": [
    "# 4. covid2에서 top100 나라 데이터만 선택하여, covid2에 다시 저장하기\n",
    "covid2 = covid2[covid2.location.isin(top100)]"
   ]
  },
  {
   "cell_type": "markdown",
   "metadata": {},
   "source": [
    "5) 분석에 활용할 데이터의 수집 기간 정하기"
   ]
  },
  {
   "cell_type": "code",
   "execution_count": null,
   "metadata": {},
   "outputs": [],
   "source": [
    "# 2020-03-27~2021-12-04까지는 빠짐 없이 수집됨을 확인하였으므로, 해당 기간의 데이터만 활용하기로 함\n",
    "covid2.index.value_counts().sort_index()"
   ]
  },
  {
   "cell_type": "code",
   "execution_count": null,
   "metadata": {},
   "outputs": [],
   "source": [
    "data = covid2['2020-03-27':'2021-12-04']"
   ]
  },
  {
   "cell_type": "code",
   "execution_count": null,
   "metadata": {},
   "outputs": [],
   "source": [
    "data # 최종 데이터"
   ]
  },
  {
   "cell_type": "markdown",
   "metadata": {},
   "source": [
    "## 3. 데이터 분석"
   ]
  },
  {
   "cell_type": "markdown",
   "metadata": {},
   "source": [
    "#### [실습 #1] 누적 확진자수가 가장 많은 국가 10개 찾아보기"
   ]
  },
  {
   "cell_type": "code",
   "execution_count": null,
   "metadata": {},
   "outputs": [],
   "source": [
    "# 조건 색인\n",
    "# 01. 제일 최근 데이터\n",
    "# data.index == data.index.max()\n",
    "# 02. 대륙 데이터 제외\n",
    "# data.continent.notnull()"
   ]
  },
  {
   "cell_type": "code",
   "execution_count": null,
   "metadata": {},
   "outputs": [],
   "source": [
    "data[(data.index == data.index.max()) & (data.continent.notnull())].nlargest(10, 'total_cases')"
   ]
  },
  {
   "cell_type": "markdown",
   "metadata": {},
   "source": [
    "#### [실습 #2] 2021-11 한 달 동안(21-11-01~21-11-31) 가장 많은 확진자가 발생한 국가 10개 찾아보기"
   ]
  },
  {
   "cell_type": "code",
   "execution_count": null,
   "metadata": {},
   "outputs": [],
   "source": [
    "data"
   ]
  },
  {
   "cell_type": "code",
   "execution_count": null,
   "metadata": {},
   "outputs": [],
   "source": [
    "# new_cases 값을 활용하여 한 달 동안의 신규 확진자 수를 구할 수 있음\n",
    "# 조건 색인\n",
    "# 01. 대륙 데이터 제외\n",
    "# 02. 11월 데이터 선택\n",
    "# 데이터 집계하기\n",
    "# 확진자 발생 상위 10개 국가 구하기\n",
    "ex2 = data[data.continent.notnull()]['2021-11']\\\n",
    "    .pivot_table(index = 'location', values = ['new_cases', 'new_deaths'], aggfunc = 'sum')\\\n",
    "    .nlargest(10, 'new_cases')"
   ]
  },
  {
   "cell_type": "code",
   "execution_count": null,
   "metadata": {
    "scrolled": true
   },
   "outputs": [],
   "source": [
    "ex2"
   ]
  },
  {
   "cell_type": "markdown",
   "metadata": {},
   "source": [
    "#### [실습 3] 실습 2에서 구한 나라들의 2021년 1월부터 2021년 11월까지의 월별 신규확진자수, 사망자수, 검사자수 구하기"
   ]
  },
  {
   "cell_type": "code",
   "execution_count": null,
   "metadata": {},
   "outputs": [],
   "source": [
    "# 1) data에서 실습2에서 구한 나라들의 데이터만 선택\n",
    "ex3 = data[data.location.isin(ex2.index)]"
   ]
  },
  {
   "cell_type": "code",
   "execution_count": null,
   "metadata": {},
   "outputs": [],
   "source": [
    "# 2) 2021년 1월부터 2021년 11월 데이터만 선택\n",
    "# ex3에는 2021년 1월부터 11월까지 최근 신규 확진자 수가 많이 발생한 상위 10개 국가의 데이터가 저장되어 있음\n",
    "ex3 = ex3['2021-01':'2021-11']"
   ]
  },
  {
   "cell_type": "code",
   "execution_count": null,
   "metadata": {},
   "outputs": [],
   "source": [
    "# 3) 월별 신규확진자수, 사망자수, 검사자수 구하기\n",
    "ex3 = ex3.pivot_table(index = 'month', columns = 'location', aggfunc = 'sum', values = ['new_cases', 'new_deaths', 'new_tests'])"
   ]
  },
  {
   "cell_type": "code",
   "execution_count": null,
   "metadata": {
    "scrolled": true
   },
   "outputs": [],
   "source": [
    "ex3"
   ]
  },
  {
   "cell_type": "code",
   "execution_count": null,
   "metadata": {},
   "outputs": [],
   "source": [
    "# 02. Covid-19 데이터 시각화(feat. plotly)\n",
    "# Matplotlib으로 그리기\n",
    "pd.options.plotting.backend = 'matplotlib'"
   ]
  },
  {
   "cell_type": "code",
   "execution_count": null,
   "metadata": {},
   "outputs": [],
   "source": [
    "ex3['new_cases'].plot()"
   ]
  },
  {
   "cell_type": "code",
   "execution_count": null,
   "metadata": {},
   "outputs": [],
   "source": [
    "# 4) plotly로 그리기\n",
    "# Error 발생\n",
    "# plotly.express는 아직 multiIndex(계층 색인)은 지원하지 않음\n",
    "pd.options.plotting.backend = \"plotly\"\n",
    "fig1 = ex3.plot()\n",
    "fig1.show()"
   ]
  },
  {
   "cell_type": "code",
   "execution_count": null,
   "metadata": {
    "scrolled": true
   },
   "outputs": [],
   "source": [
    "# 4) plotly로 그리기\n",
    "# 우회 방법\n",
    "# 계층 색인을 없애고 최상위 색인으로 하나씩 선택하기\n",
    "# 3개의 case에 대해 각각 figure을 그릴 수 있음\n",
    "# new_cases\n",
    "pd.options.plotting.backend = \"plotly\"\n",
    "fig1 = ex3['new_cases'].plot(width = 700, height = 400)\n",
    "fig1.show()"
   ]
  },
  {
   "cell_type": "code",
   "execution_count": null,
   "metadata": {},
   "outputs": [],
   "source": [
    "# new_deaths \n",
    "fig2 = ex3['new_deaths'].plot()\n",
    "fig2.show()"
   ]
  },
  {
   "cell_type": "code",
   "execution_count": null,
   "metadata": {},
   "outputs": [],
   "source": [
    "# new_tests\n",
    "fig3 = ex3['new_tests'].plot()\n",
    "fig3.show()"
   ]
  },
  {
   "cell_type": "code",
   "execution_count": null,
   "metadata": {},
   "outputs": [],
   "source": [
    "ex3"
   ]
  },
  {
   "cell_type": "code",
   "execution_count": null,
   "metadata": {},
   "outputs": [],
   "source": [
    "ex3.to_excel('data/covid_top10.xlsx')"
   ]
  },
  {
   "cell_type": "code",
   "execution_count": null,
   "metadata": {},
   "outputs": [],
   "source": [
    "# 이 부분은 하지 말자..## "
   ]
  },
  {
   "cell_type": "code",
   "execution_count": null,
   "metadata": {},
   "outputs": [],
   "source": [
    "ex3_1 = ex3.stack(0).reset_index()"
   ]
  },
  {
   "cell_type": "code",
   "execution_count": null,
   "metadata": {},
   "outputs": [],
   "source": [
    "ex3_1.columns[2:12]"
   ]
  },
  {
   "cell_type": "code",
   "execution_count": null,
   "metadata": {},
   "outputs": [],
   "source": [
    "# 하나의 figure 안에 각각의 subplot으로 그리기\n",
    "ex3_1.plot(x='month',y = ex_3_1.columns[2:12],\n",
    "                               facet_row = 'level_1')"
   ]
  },
  {
   "cell_type": "code",
   "execution_count": null,
   "metadata": {},
   "outputs": [],
   "source": [
    "# 5) 그래프를 html로 export 하기\n",
    "# 시각화된 그래프를 html로 export가 쉽게 가능\n",
    "# write_html 함수를 실행하여 html로 저장하기\n",
    "# 웹 서버에서 분석결과가 저장된 html 문서들의 링크를 사용하면, 분석 결과를 웹에서 볼 수 있음\n",
    "fig1.write_html('covid_top10_countries_new_cases.html')\n",
    "fig2.write_html('covid_top10_countries_new_deaths.html')\n",
    "fig3.write_html('covid_top10_countries_new_tests.html')"
   ]
  },
  {
   "cell_type": "code",
   "execution_count": null,
   "metadata": {},
   "outputs": [],
   "source": [
    "# 03. plotly + Dash로 데이터 분석 웹서버 구축하기\n",
    "# Dash를 통한 웹 서비스 구축하기\n",
    "# Sample 코드 실행 -> 웹 서버가 내 PC에서 구동 -> 웹 서버를 통한 웹 서비스 가능\n",
    "# 화면 구성 : layout\n",
    "# 화면에 그려질 그래프 : callback"
   ]
  },
  {
   "cell_type": "code",
   "execution_count": null,
   "metadata": {},
   "outputs": [],
   "source": [
    "# Dash\n",
    "# 대시보드 형태로 데이터 시각화된 결과를 웹 서버로 쉽게 구축할 수 있는 외부 라이브러리\n",
    "# 대시보드는 다양한 형태의 그래프를 한 웹 페이지 내에서 보여주는 것이 가장 기본적인 형태"
   ]
  },
  {
   "cell_type": "markdown",
   "metadata": {},
   "source": [
    "## 4. 데이터 분석 결과로 웹 서버 구축하기 with Dash\n",
    " - https://plotly.com/python/getting-started/"
   ]
  },
  {
   "cell_type": "code",
   "execution_count": null,
   "metadata": {},
   "outputs": [],
   "source": [
    "# https://plotly.com/python/getting-started/\n",
    "# 웹 브라우저에 접속하여 분석 결과 데이터가 그래프로 그려지는 지 실습하기\n",
    "# Dash 코드를 실행하면 웹 서비스를 실행할 수 있음\n",
    "# 관리자 권한으로 Anaconda Prompt를 실행해서 pip install dash하면 설치가 완료됨\n",
    "# flask : 웹 서버 프레임워크\n",
    "# Dash를 사용하면 flask와 같은 별도 프레임워크 없이, 웹 서버를 간단하게 구축할 수 있음\n",
    "# Error 발생\n",
    "# ctrl + c해서 파이썬 파일로 만들면 됨\n",
    "# 다운로드 후 파이썬 파일로 저장한 다음 파이썬 파일을 실행\n",
    "# python <파일명>을 실행하면 웹 서버가 구동\n",
    "# localhost:8050으로 접속하면 sample 화면을 확인할 수 있음\n",
    "# 웹 서버를 통해 다른 장소나 디바이스에서도 화면을 똑같이 볼 수 있고, 다른 사람과의 공유가 용이\n",
    "\n",
    "import dash\n",
    "import dash_core_components as dcc\n",
    "import dash_html_components as html\n",
    "from dash.dependencies import Input, Output\n",
    "import plotly.graph_objects as go\n",
    "\n",
    "app = dash.Dash(__name__)\n",
    "\n",
    "app.layout = html.Div([\n",
    "    html.P(\"Color:\"),\n",
    "    dcc.Dropdown(\n",
    "        id=\"dropdown\",\n",
    "        options=[\n",
    "            {'label': x, 'value': x}\n",
    "            for x in ['Gold', 'MediumTurquoise', 'LightGreen']\n",
    "        ],\n",
    "        value='Gold',\n",
    "        clearable=False,\n",
    "    ),\n",
    "    dcc.Graph(id=\"graph\"),\n",
    "])\n",
    "\n",
    "@app.callback(\n",
    "    Output(\"graph\", \"figure\"), \n",
    "    [Input(\"dropdown\", \"value\")])\n",
    "def display_color(color):\n",
    "    fig = go.Figure(\n",
    "        data=go.Bar(y=[2, 3, 1], marker_color=color))\n",
    "    return fig\n",
    "\n",
    "app.run_server(debug=True)"
   ]
  },
  {
   "cell_type": "code",
   "execution_count": null,
   "metadata": {},
   "outputs": [],
   "source": [
    "covid19_top10 = pd.read_excel('data/covid_top10.xlsx', header = [0,1])"
   ]
  },
  {
   "cell_type": "code",
   "execution_count": null,
   "metadata": {},
   "outputs": [],
   "source": [
    "covid19_top10"
   ]
  },
  {
   "cell_type": "code",
   "execution_count": null,
   "metadata": {},
   "outputs": [],
   "source": [
    "covid19_top10.set_index(covid19_top10.columns[0])[1:]\n",
    "# 데이터"
   ]
  },
  {
   "cell_type": "code",
   "execution_count": null,
   "metadata": {},
   "outputs": [],
   "source": [
    "# https://plotly.com/python/getting-started/\n",
    "# 웹 브라우저에 접속하여 분석 결과 데이터가 그래프로 그려지는 지 실습하기\n",
    "# Dash 코드를 실행하면 웹 서비스를 실행할 수 있음\n",
    "# 관리자 권한으로 Anaconda Prompt를 실행해서 pip install dash하면 설치가 완료됨\n",
    "# flask : 웹 서버 프레임워크\n",
    "# Dash를 사용하면 flask와 같은 별도 프레임워크 없이, 웹 서버를 간단하게 구축할 수 있음\n",
    "# Error 발생\n",
    "# ctrl + c해서 파이썬 파일로 만들면 됨\n",
    "# 다운로드 후 파이썬 파일로 저장한 다음 파이썬 파일을 실행\n",
    "# python <파일명>을 실행하면 웹 서버가 구동\n",
    "# localhost:8050으로 접속하면 sample 화면을 확인할 수 있음\n",
    "# 웹 서버를 통해 다른 장소나 디바이스에서도 화면을 똑같이 볼 수 있고, 다른 사람과의 공유가 용이\n",
    "\n",
    "# 저장한 파일을 읽어 그래프를 그리고 웹 서비스하기\n",
    "# 3개의 html 파일을 한 번에 볼 수 있는 대시보드 만들기\n",
    "# 01. Pandas의 plotly 기능 사용을 위한 내용 추가 및 파일 읽어 오기, 데이터 가공 구문 추가\n",
    "import dash\n",
    "import dash_core_components as dcc\n",
    "import dash_html_components as html\n",
    "from dash.dependencies import Input, Output\n",
    "import plotly.graph_objects as go\n",
    "import pandas as pd\n",
    "pd.options.plotting.backend = 'plotly'\n",
    "\n",
    "app = dash.Dash(__name__)\n",
    "# 웹 서버가 구동될 때, 저장된 분석 결과를 읽어오는 과정\n",
    "# 저장된 분석결과 데이터를 읽어서 data에 저장\n",
    "data = pd.read_excel('data/covid_top10.xlsx', header = [0, 1])\n",
    "# 첫 번째 컬럼을 로우 인덱스로 변경\n",
    "data = data.set_index(data.columns[0])[1:]\n",
    "\n",
    "# 02. html 관련 코드에 원하는 내용으로 변경하기\n",
    "app.layout = html.Div([\n",
    "    html.P(\"Type:\"), # 01. 데이터 타입 변경\n",
    "    dcc.Dropdown(\n",
    "        id=\"dropdown\",\n",
    "        options=[\n",
    "            {'label': x, 'value': x}\n",
    "            for x in ['new_cases', 'new_deaths', 'new_tests'] # 02. 3개의 컬럼명 변경\n",
    "        ],\n",
    "        value='new_cases',\n",
    "        clearable=False,\n",
    "    ),\n",
    "    dcc.Graph(id=\"graph\"),\n",
    "])\n",
    "\n",
    "# 03. 분석 결과를 그래프로 보여주기\n",
    "@app.callback(\n",
    "    Output(\"graph\", \"figure\"), \n",
    "    [Input(\"dropdown\", \"value\")])\n",
    "# 함수 변경하기\n",
    "def display_color(val): # 선택한 값(val)에 해당하는 데이터의 그래프를 그림\n",
    "    fig = data[val].plot()\n",
    "    return fig\n",
    "\n",
    "app.run_server(debug=True)"
   ]
  }
 ],
 "metadata": {
  "kernelspec": {
   "display_name": "Python 3",
   "language": "python",
   "name": "python3"
  },
  "language_info": {
   "codemirror_mode": {
    "name": "ipython",
    "version": 3
   },
   "file_extension": ".py",
   "mimetype": "text/x-python",
   "name": "python",
   "nbconvert_exporter": "python",
   "pygments_lexer": "ipython3",
   "version": "3.8.8"
  }
 },
 "nbformat": 4,
 "nbformat_minor": 4
}
