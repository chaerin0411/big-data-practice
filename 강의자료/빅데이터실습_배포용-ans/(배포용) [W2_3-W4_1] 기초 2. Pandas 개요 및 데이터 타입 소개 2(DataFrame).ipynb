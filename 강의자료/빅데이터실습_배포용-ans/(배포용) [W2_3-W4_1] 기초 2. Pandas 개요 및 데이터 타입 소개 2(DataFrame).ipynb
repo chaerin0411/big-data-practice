{
 "cells": [
  {
   "cell_type": "code",
   "execution_count": 1,
   "metadata": {},
   "outputs": [],
   "source": [
    "# Pandas 라이브러리 임포트\n",
    "# 시리즈와 DataFrame을 각각 import 함\n",
    "import pandas as pd \n",
    "from pandas import Series, DataFrame"
   ]
  },
  {
   "cell_type": "code",
   "execution_count": null,
   "metadata": {},
   "outputs": [],
   "source": [
    "# DataFrame\n",
    "# 01.2차원 데이터\n",
    "# 02.Pandas의 DataFrame의 구조\n",
    "# 03.DataFrame 생성 실습"
   ]
  },
  {
   "cell_type": "code",
   "execution_count": null,
   "metadata": {},
   "outputs": [],
   "source": [
    "# 1차원 데이터 타입\n",
    "# Series 데이터 타입\n",
    "# Series는 데이터의 저장과 처리, 분석을 위한 다양한 기능들을 함께 제공하기 때문에 매우 유용하게 사용할 수 있음\n",
    "# Series : 1차원 형태의 데이터(값, value)와 인덱스(index, 인덱스의 라벨(숫자 인덱스, 문자 인덱스)로 표현)로 구성\n",
    "# 2차원 데이터\n",
    "# 데이터 저장, 분석에 적합한 구조\n",
    "# 1차원 데이터로 이루어진 2차원 데이터\n",
    "# DataFrame은 여러 개의 시리즈의 묶음\n",
    "# DataFrame : 2차원 형태의 데이터(값, value)와 2개의 인덱스(index)로 구성\n",
    "# 값도 2차원으로 이루어져 있고, 이를 색인할 수 있는 인덱스도 2가지가 존재\n",
    "# 2차원 형태의 값으로 데이터 타입의 제약 X"
   ]
  },
  {
   "cell_type": "code",
   "execution_count": null,
   "metadata": {},
   "outputs": [],
   "source": [
    "# Pandas의 DataFrame\n",
    "# 로우 인덱스와 컬럼 인덱스의 차이점\n",
    "# 로우 인덱스는 데이터 간의 순서가 존재함, 숫자 인덱스나 문자 인덱스로 색인 가능함\n",
    "# 이는 첫 번째 데이터만 선택한다거나 혹은 두 번째부터 열 번째까지에 해당하는 데이터를 슬라이싱(slicing)해서 색인하거나 하는 등의 데이터 색인이 가능함을 의미\n",
    "# 컬럼 인덱스는 데이터 간의 순서가 존재하지 않음, 순서를 통해서 칼럼을 색인할 수 없음을 의미함\n",
    "# 대부분의 함수에서 axis(축) 인자 제공\n",
    "# axis는 두 가지의 인덱스를 지칭해줄 때 사용\n",
    "# axis = 0 : 컬럼 인덱스\n",
    "# axis = 1 : 로우 인덱스"
   ]
  },
  {
   "cell_type": "code",
   "execution_count": null,
   "metadata": {},
   "outputs": [],
   "source": [
    "# DataFrame을 생성하는 함수\n",
    "# 값(데이터), 인덱스(컬럼 인덱스 : columns 인자, 로우 인덱스 : index 인자), dtype, 데이터 타입, copy\n",
    "# 인자들을 활용하여 원하는 형태의 데이터프레임을 생성할 수 있음\n",
    "# 데이터 인자 : numpy(넘파이)의 ndarray이나 사전 타입, 리스트, 혹은 다양한 2차원 형태를 다루는 데이터 타입 활용\n",
    "# 로우 인덱스와 컬럼 인덱스를 지정하는 이 인자들은 데이터의 크기와 동일해야 함"
   ]
  },
  {
   "cell_type": "code",
   "execution_count": 2,
   "metadata": {},
   "outputs": [
    {
     "data": {
      "text/html": [
       "<div>\n",
       "<style scoped>\n",
       "    .dataframe tbody tr th:only-of-type {\n",
       "        vertical-align: middle;\n",
       "    }\n",
       "\n",
       "    .dataframe tbody tr th {\n",
       "        vertical-align: top;\n",
       "    }\n",
       "\n",
       "    .dataframe thead th {\n",
       "        text-align: right;\n",
       "    }\n",
       "</style>\n",
       "<table border=\"1\" class=\"dataframe\">\n",
       "  <thead>\n",
       "    <tr style=\"text-align: right;\">\n",
       "      <th></th>\n",
       "    </tr>\n",
       "  </thead>\n",
       "  <tbody>\n",
       "  </tbody>\n",
       "</table>\n",
       "</div>"
      ],
      "text/plain": [
       "Empty DataFrame\n",
       "Columns: []\n",
       "Index: []"
      ]
     },
     "execution_count": 2,
     "metadata": {},
     "output_type": "execute_result"
    }
   ],
   "source": [
    "# 1. 빈 데이터프레임 생성\n",
    "# 데이터를 가진 DataFrame을 생성하고 싶은 경우, 생성 함수에 인자를 활용\n",
    "DataFrame()"
   ]
  },
  {
   "cell_type": "code",
   "execution_count": 4,
   "metadata": {
    "scrolled": true
   },
   "outputs": [
    {
     "data": {
      "text/html": [
       "<div>\n",
       "<style scoped>\n",
       "    .dataframe tbody tr th:only-of-type {\n",
       "        vertical-align: middle;\n",
       "    }\n",
       "\n",
       "    .dataframe tbody tr th {\n",
       "        vertical-align: top;\n",
       "    }\n",
       "\n",
       "    .dataframe thead th {\n",
       "        text-align: right;\n",
       "    }\n",
       "</style>\n",
       "<table border=\"1\" class=\"dataframe\">\n",
       "  <thead>\n",
       "    <tr style=\"text-align: right;\">\n",
       "      <th></th>\n",
       "      <th>X</th>\n",
       "      <th>Y</th>\n",
       "      <th>Z</th>\n",
       "    </tr>\n",
       "  </thead>\n",
       "  <tbody>\n",
       "    <tr>\n",
       "      <th>A</th>\n",
       "      <td>1</td>\n",
       "      <td>2</td>\n",
       "      <td>3</td>\n",
       "    </tr>\n",
       "    <tr>\n",
       "      <th>B</th>\n",
       "      <td>kim</td>\n",
       "      <td>park</td>\n",
       "      <td>lee</td>\n",
       "    </tr>\n",
       "    <tr>\n",
       "      <th>C</th>\n",
       "      <td>1.5</td>\n",
       "      <td>3.2</td>\n",
       "      <td>9.1</td>\n",
       "    </tr>\n",
       "  </tbody>\n",
       "</table>\n",
       "</div>"
      ],
      "text/plain": [
       "     X     Y    Z\n",
       "A    1     2    3\n",
       "B  kim  park  lee\n",
       "C  1.5   3.2  9.1"
      ]
     },
     "execution_count": 4,
     "metadata": {},
     "output_type": "execute_result"
    }
   ],
   "source": [
    "# 2. 데이터프레임 생성하고 데이터 할당하기\n",
    "# 데이터를 가진 DataFrame을 생성하고 싶은 경우, 생성 함수에 인자를 활용\n",
    "# 2차원 데이터로 DataFrame 생성하기\n",
    "# DataFrame 생성 함수를 실행\n",
    "# 로우 인덱스와 칼럼 인덱스를 지정하지 않으면 기본값으로 할당됨\n",
    "# 로우 인덱스와 칼럼 인덱스를 같이 지정하고 싶은 경우, index와 columns 인자 활용\n",
    "# 로우 인덱스와 칼럼 인덱스의 길이는 데이터의 모양과 개수와 일치해야 함\n",
    "df2 = DataFrame(data = [[1,2,3],\n",
    "                 ['kim','park','lee'],\n",
    "                 [1.5, 3.2, 9.1]],\n",
    "                index = ['A','B','C'],\n",
    "                columns = ['X','Y','Z'])\n",
    "df2"
   ]
  },
  {
   "cell_type": "code",
   "execution_count": 8,
   "metadata": {},
   "outputs": [
    {
     "data": {
      "text/html": [
       "<div>\n",
       "<style scoped>\n",
       "    .dataframe tbody tr th:only-of-type {\n",
       "        vertical-align: middle;\n",
       "    }\n",
       "\n",
       "    .dataframe tbody tr th {\n",
       "        vertical-align: top;\n",
       "    }\n",
       "\n",
       "    .dataframe thead th {\n",
       "        text-align: right;\n",
       "    }\n",
       "</style>\n",
       "<table border=\"1\" class=\"dataframe\">\n",
       "  <thead>\n",
       "    <tr style=\"text-align: right;\">\n",
       "      <th></th>\n",
       "      <th>XX</th>\n",
       "      <th>YY</th>\n",
       "      <th>ZZ</th>\n",
       "    </tr>\n",
       "  </thead>\n",
       "  <tbody>\n",
       "    <tr>\n",
       "      <th>AA</th>\n",
       "      <td>1</td>\n",
       "      <td>2</td>\n",
       "      <td>3</td>\n",
       "    </tr>\n",
       "    <tr>\n",
       "      <th>BB</th>\n",
       "      <td>kim</td>\n",
       "      <td>park</td>\n",
       "      <td>lee</td>\n",
       "    </tr>\n",
       "    <tr>\n",
       "      <th>CC</th>\n",
       "      <td>1.5</td>\n",
       "      <td>3.2</td>\n",
       "      <td>9.1</td>\n",
       "    </tr>\n",
       "  </tbody>\n",
       "</table>\n",
       "</div>"
      ],
      "text/plain": [
       "     XX    YY   ZZ\n",
       "AA    1     2    3\n",
       "BB  kim  park  lee\n",
       "CC  1.5   3.2  9.1"
      ]
     },
     "execution_count": 8,
     "metadata": {},
     "output_type": "execute_result"
    }
   ],
   "source": [
    "# 인덱스 변경\n",
    "# index 속성 활용\n",
    "# columns 속성 활용\n",
    "df2.index = ['AA','BB','CC'] # 로우 인덱스 변경\n",
    "df2\n",
    "df2.columns = ['XX','YY','ZZ'] # 칼럼 인덱스 변경\n",
    "df2"
   ]
  },
  {
   "cell_type": "code",
   "execution_count": 9,
   "metadata": {},
   "outputs": [],
   "source": [
    "# 3. 사전 타입 데이터를 이용하여 데이터 프레임 생성하기\n",
    "# 사전 타입의 키 = 칼럼\n",
    "인구통계 = {'서울': [950, 945, 938.5],\n",
    "        '대전':[50, 151, 145],\n",
    "        '대구':[85, 88, 92],\n",
    "        '부산':[180, 187, 192],\n",
    "        '광주':[74, 80, 80]\n",
    "      }"
   ]
  },
  {
   "cell_type": "code",
   "execution_count": 10,
   "metadata": {},
   "outputs": [
    {
     "data": {
      "text/html": [
       "<div>\n",
       "<style scoped>\n",
       "    .dataframe tbody tr th:only-of-type {\n",
       "        vertical-align: middle;\n",
       "    }\n",
       "\n",
       "    .dataframe tbody tr th {\n",
       "        vertical-align: top;\n",
       "    }\n",
       "\n",
       "    .dataframe thead th {\n",
       "        text-align: right;\n",
       "    }\n",
       "</style>\n",
       "<table border=\"1\" class=\"dataframe\">\n",
       "  <thead>\n",
       "    <tr style=\"text-align: right;\">\n",
       "      <th></th>\n",
       "      <th>서울</th>\n",
       "      <th>대전</th>\n",
       "      <th>대구</th>\n",
       "      <th>부산</th>\n",
       "      <th>광주</th>\n",
       "    </tr>\n",
       "  </thead>\n",
       "  <tbody>\n",
       "    <tr>\n",
       "      <th>2018</th>\n",
       "      <td>950.0</td>\n",
       "      <td>50</td>\n",
       "      <td>85</td>\n",
       "      <td>180</td>\n",
       "      <td>74</td>\n",
       "    </tr>\n",
       "    <tr>\n",
       "      <th>2019</th>\n",
       "      <td>945.0</td>\n",
       "      <td>151</td>\n",
       "      <td>88</td>\n",
       "      <td>187</td>\n",
       "      <td>80</td>\n",
       "    </tr>\n",
       "    <tr>\n",
       "      <th>2020</th>\n",
       "      <td>938.5</td>\n",
       "      <td>145</td>\n",
       "      <td>92</td>\n",
       "      <td>192</td>\n",
       "      <td>80</td>\n",
       "    </tr>\n",
       "  </tbody>\n",
       "</table>\n",
       "</div>"
      ],
      "text/plain": [
       "         서울   대전  대구   부산  광주\n",
       "2018  950.0   50  85  180  74\n",
       "2019  945.0  151  88  187  80\n",
       "2020  938.5  145  92  192  80"
      ]
     },
     "execution_count": 10,
     "metadata": {},
     "output_type": "execute_result"
    }
   ],
   "source": [
    "# data 인자에 사전 타입의 변수를 지정함\n",
    "# index 인자에 연도 정보 할당\n",
    "df3 = DataFrame(data = 인구통계,\n",
    "                index = [2018, 2019, 2020]) # 로우 인덱스는 순서가 있고, 칼럼 인덱스는 순서가 없다\n",
    "df3"
   ]
  },
  {
   "cell_type": "code",
   "execution_count": null,
   "metadata": {},
   "outputs": [],
   "source": [
    "# DataFrame의 구조\n",
    "# 로우 인덱스(row index)\n",
    "# 칼럼 인덱스(column index)\n",
    "# 값(data) : numpy의 ndarray 타입\n",
    "# DataFrame\n",
    "# 2차원 데이터를 다루는 매우 중요한 데이터 타입\n",
    "# 데이터를 저장하고 관리하기 위해 많이 사용하는 형태의 데이터\n",
    "# 데이터 통계를 내거나 데이터 정렬, 집계하는 등의 여러 가지 기능 사용\n",
    "# 칼럼(column) 추가, 삭제 등 수행\n",
    "# DataFrame을 잘 활용하면 훨씬 더 쉽게 데이터를 저장, 관리, 처리하고 분석할 수 있음"
   ]
  },
  {
   "cell_type": "code",
   "execution_count": null,
   "metadata": {},
   "outputs": [],
   "source": [
    "# DataFrame의 다양한 기능\n",
    "# 01. DataFrame의 주요 속성(index, columns, values, size 등)\n",
    "# 02. DataFrame의 주요 함수(info(), describe(), sample(), filter() 등)"
   ]
  },
  {
   "cell_type": "markdown",
   "metadata": {},
   "source": [
    "### 2.2.2. DataFrame 속성 조회하기 (속성을 조회할 때에는 ()를 사용하지 않으니 유의)"
   ]
  },
  {
   "cell_type": "code",
   "execution_count": 11,
   "metadata": {},
   "outputs": [
    {
     "data": {
      "text/plain": [
       "Int64Index([2018, 2019, 2020], dtype='int64')"
      ]
     },
     "execution_count": 11,
     "metadata": {},
     "output_type": "execute_result"
    }
   ],
   "source": [
    "#1. index : 데이터프레임의 로우 인덱스를 리스트로 반환\n",
    "df3.index"
   ]
  },
  {
   "cell_type": "code",
   "execution_count": 12,
   "metadata": {},
   "outputs": [
    {
     "data": {
      "text/plain": [
       "Index(['서울', '대전', '대구', '부산', '광주'], dtype='object')"
      ]
     },
     "execution_count": 12,
     "metadata": {},
     "output_type": "execute_result"
    }
   ],
   "source": [
    "#2. columns : 데이터프레임의 컬럼을 리스트로 반환\n",
    "df3.columns"
   ]
  },
  {
   "cell_type": "code",
   "execution_count": 13,
   "metadata": {},
   "outputs": [
    {
     "data": {
      "text/plain": [
       "array([[950. ,  50. ,  85. , 180. ,  74. ],\n",
       "       [945. , 151. ,  88. , 187. ,  80. ],\n",
       "       [938.5, 145. ,  92. , 192. ,  80. ]])"
      ]
     },
     "execution_count": 13,
     "metadata": {},
     "output_type": "execute_result"
    }
   ],
   "source": [
    "#3. values : 데이터프레임의 데이터 반환 (ndarray)\n",
    "# 데이터 타입 : ndarray 형태의 데이터 타입\n",
    "df3.values"
   ]
  },
  {
   "cell_type": "code",
   "execution_count": 14,
   "metadata": {},
   "outputs": [
    {
     "data": {
      "text/plain": [
       "(3, 5)"
      ]
     },
     "execution_count": 14,
     "metadata": {},
     "output_type": "execute_result"
    }
   ],
   "source": [
    "#4. shape : 행(row)과 열(column)의 개수(차원)을 튜플로 반환\n",
    "df3.shape"
   ]
  },
  {
   "cell_type": "code",
   "execution_count": 15,
   "metadata": {},
   "outputs": [
    {
     "data": {
      "text/html": [
       "<div>\n",
       "<style scoped>\n",
       "    .dataframe tbody tr th:only-of-type {\n",
       "        vertical-align: middle;\n",
       "    }\n",
       "\n",
       "    .dataframe tbody tr th {\n",
       "        vertical-align: top;\n",
       "    }\n",
       "\n",
       "    .dataframe thead th {\n",
       "        text-align: right;\n",
       "    }\n",
       "</style>\n",
       "<table border=\"1\" class=\"dataframe\">\n",
       "  <thead>\n",
       "    <tr style=\"text-align: right;\">\n",
       "      <th></th>\n",
       "      <th>2018</th>\n",
       "      <th>2019</th>\n",
       "      <th>2020</th>\n",
       "    </tr>\n",
       "  </thead>\n",
       "  <tbody>\n",
       "    <tr>\n",
       "      <th>서울</th>\n",
       "      <td>950.0</td>\n",
       "      <td>945.0</td>\n",
       "      <td>938.5</td>\n",
       "    </tr>\n",
       "    <tr>\n",
       "      <th>대전</th>\n",
       "      <td>50.0</td>\n",
       "      <td>151.0</td>\n",
       "      <td>145.0</td>\n",
       "    </tr>\n",
       "    <tr>\n",
       "      <th>대구</th>\n",
       "      <td>85.0</td>\n",
       "      <td>88.0</td>\n",
       "      <td>92.0</td>\n",
       "    </tr>\n",
       "    <tr>\n",
       "      <th>부산</th>\n",
       "      <td>180.0</td>\n",
       "      <td>187.0</td>\n",
       "      <td>192.0</td>\n",
       "    </tr>\n",
       "    <tr>\n",
       "      <th>광주</th>\n",
       "      <td>74.0</td>\n",
       "      <td>80.0</td>\n",
       "      <td>80.0</td>\n",
       "    </tr>\n",
       "  </tbody>\n",
       "</table>\n",
       "</div>"
      ],
      "text/plain": [
       "     2018   2019   2020\n",
       "서울  950.0  945.0  938.5\n",
       "대전   50.0  151.0  145.0\n",
       "대구   85.0   88.0   92.0\n",
       "부산  180.0  187.0  192.0\n",
       "광주   74.0   80.0   80.0"
      ]
     },
     "execution_count": 15,
     "metadata": {},
     "output_type": "execute_result"
    }
   ],
   "source": [
    "#5. T (Transpose) : 행과 열을 바꾸기.\n",
    "df3.T"
   ]
  },
  {
   "cell_type": "code",
   "execution_count": 16,
   "metadata": {},
   "outputs": [
    {
     "data": {
      "text/plain": [
       "[Int64Index([2018, 2019, 2020], dtype='int64'),\n",
       " Index(['서울', '대전', '대구', '부산', '광주'], dtype='object')]"
      ]
     },
     "execution_count": 16,
     "metadata": {},
     "output_type": "execute_result"
    }
   ],
   "source": [
    "#6. axes : 행과 열 이름을 리스트로 반환\n",
    "df3.axes"
   ]
  },
  {
   "cell_type": "code",
   "execution_count": 17,
   "metadata": {},
   "outputs": [
    {
     "data": {
      "text/plain": [
       "서울    float64\n",
       "대전      int64\n",
       "대구      int64\n",
       "부산      int64\n",
       "광주      int64\n",
       "dtype: object"
      ]
     },
     "execution_count": 17,
     "metadata": {},
     "output_type": "execute_result"
    }
   ],
   "source": [
    "#7. dtypes : 컬럼별 데이터타입 반환\n",
    "# 데이터프레임은 시리즈의 묶음이며, 컬럼별로 시리즈가 생성됨\n",
    "# 변수에 값을 할당하면, 값의 형테에 따라 자동으로 데이터 타입 지정\n",
    "df3.dtypes"
   ]
  },
  {
   "cell_type": "code",
   "execution_count": 18,
   "metadata": {},
   "outputs": [
    {
     "data": {
      "text/plain": [
       "15"
      ]
     },
     "execution_count": 18,
     "metadata": {},
     "output_type": "execute_result"
    }
   ],
   "source": [
    "#8. size : DataFrame의 원소의 개수를 반환\n",
    "# 괄호 없이 데이터프레임 변수명.속성명 기입\n",
    "df3.size"
   ]
  },
  {
   "cell_type": "markdown",
   "metadata": {},
   "source": [
    "### 2.2.3. 데이터프레임 기본 함수"
   ]
  },
  {
   "cell_type": "code",
   "execution_count": 19,
   "metadata": {},
   "outputs": [
    {
     "name": "stdout",
     "output_type": "stream",
     "text": [
      "<class 'pandas.core.frame.DataFrame'>\n",
      "Int64Index: 3 entries, 2018 to 2020\n",
      "Data columns (total 5 columns):\n",
      " #   Column  Non-Null Count  Dtype  \n",
      "---  ------  --------------  -----  \n",
      " 0   서울      3 non-null      float64\n",
      " 1   대전      3 non-null      int64  \n",
      " 2   대구      3 non-null      int64  \n",
      " 3   부산      3 non-null      int64  \n",
      " 4   광주      3 non-null      int64  \n",
      "dtypes: float64(1), int64(4)\n",
      "memory usage: 252.0 bytes\n"
     ]
    }
   ],
   "source": [
    "#1. info() - 기본 정보 출력\n",
    "# 기본적으로 인자값들을 지정해 줄 수도 있고, 지정을 안 해 줄 수도 있음, 대부분의 인자들은 기본값이 지정되어 있는 경우가 많음\n",
    "# non-null 값의 개수를 통해 결측치 유무확인 가능\n",
    "# 컬럼별 데이터 타입 확인 가능\n",
    "# memory usage : 데이터프레임이 사용하고 있는 메모리 사용량도 함께 출력됨\n",
    "# Numpy라고 하는 것을 통해 데이터 분석을 하는 경우도 굉장히 많이 있음\n",
    "# Pandas는 numpy에 비해 간결한 데이터 처리가 가능함\n",
    "# Pandas는 메모리 사용량이 numpy에 비해 더 많이 사용함\n",
    "# 대용량 데이터 분석 시에는 메모리가 부족한 문제가 발생할 수 있음\n",
    "df3.info()"
   ]
  },
  {
   "cell_type": "code",
   "execution_count": 20,
   "metadata": {
    "scrolled": true
   },
   "outputs": [
    {
     "data": {
      "text/html": [
       "<div>\n",
       "<style scoped>\n",
       "    .dataframe tbody tr th:only-of-type {\n",
       "        vertical-align: middle;\n",
       "    }\n",
       "\n",
       "    .dataframe tbody tr th {\n",
       "        vertical-align: top;\n",
       "    }\n",
       "\n",
       "    .dataframe thead th {\n",
       "        text-align: right;\n",
       "    }\n",
       "</style>\n",
       "<table border=\"1\" class=\"dataframe\">\n",
       "  <thead>\n",
       "    <tr style=\"text-align: right;\">\n",
       "      <th></th>\n",
       "      <th>서울</th>\n",
       "      <th>대전</th>\n",
       "      <th>대구</th>\n",
       "      <th>부산</th>\n",
       "      <th>광주</th>\n",
       "    </tr>\n",
       "  </thead>\n",
       "  <tbody>\n",
       "    <tr>\n",
       "      <th>count</th>\n",
       "      <td>3.000000</td>\n",
       "      <td>3.000000</td>\n",
       "      <td>3.000000</td>\n",
       "      <td>3.000000</td>\n",
       "      <td>3.000000</td>\n",
       "    </tr>\n",
       "    <tr>\n",
       "      <th>mean</th>\n",
       "      <td>944.500000</td>\n",
       "      <td>115.333333</td>\n",
       "      <td>88.333333</td>\n",
       "      <td>186.333333</td>\n",
       "      <td>78.000000</td>\n",
       "    </tr>\n",
       "    <tr>\n",
       "      <th>std</th>\n",
       "      <td>5.766281</td>\n",
       "      <td>56.659804</td>\n",
       "      <td>3.511885</td>\n",
       "      <td>6.027714</td>\n",
       "      <td>3.464102</td>\n",
       "    </tr>\n",
       "    <tr>\n",
       "      <th>min</th>\n",
       "      <td>938.500000</td>\n",
       "      <td>50.000000</td>\n",
       "      <td>85.000000</td>\n",
       "      <td>180.000000</td>\n",
       "      <td>74.000000</td>\n",
       "    </tr>\n",
       "    <tr>\n",
       "      <th>25%</th>\n",
       "      <td>941.750000</td>\n",
       "      <td>97.500000</td>\n",
       "      <td>86.500000</td>\n",
       "      <td>183.500000</td>\n",
       "      <td>77.000000</td>\n",
       "    </tr>\n",
       "    <tr>\n",
       "      <th>50%</th>\n",
       "      <td>945.000000</td>\n",
       "      <td>145.000000</td>\n",
       "      <td>88.000000</td>\n",
       "      <td>187.000000</td>\n",
       "      <td>80.000000</td>\n",
       "    </tr>\n",
       "    <tr>\n",
       "      <th>75%</th>\n",
       "      <td>947.500000</td>\n",
       "      <td>148.000000</td>\n",
       "      <td>90.000000</td>\n",
       "      <td>189.500000</td>\n",
       "      <td>80.000000</td>\n",
       "    </tr>\n",
       "    <tr>\n",
       "      <th>max</th>\n",
       "      <td>950.000000</td>\n",
       "      <td>151.000000</td>\n",
       "      <td>92.000000</td>\n",
       "      <td>192.000000</td>\n",
       "      <td>80.000000</td>\n",
       "    </tr>\n",
       "  </tbody>\n",
       "</table>\n",
       "</div>"
      ],
      "text/plain": [
       "               서울          대전         대구          부산         광주\n",
       "count    3.000000    3.000000   3.000000    3.000000   3.000000\n",
       "mean   944.500000  115.333333  88.333333  186.333333  78.000000\n",
       "std      5.766281   56.659804   3.511885    6.027714   3.464102\n",
       "min    938.500000   50.000000  85.000000  180.000000  74.000000\n",
       "25%    941.750000   97.500000  86.500000  183.500000  77.000000\n",
       "50%    945.000000  145.000000  88.000000  187.000000  80.000000\n",
       "75%    947.500000  148.000000  90.000000  189.500000  80.000000\n",
       "max    950.000000  151.000000  92.000000  192.000000  80.000000"
      ]
     },
     "execution_count": 20,
     "metadata": {},
     "output_type": "execute_result"
    }
   ],
   "source": [
    "#2. describe() - 기본 통계 정보 출력\n",
    "# 각 컬럼들의 통계 정보 출력\n",
    "# 숫자형 데이터만 통계 처리가 가능하므로, describe() 함수는 숫자형 컬럼들의 통계 정보만 제공\n",
    "df3.describe()"
   ]
  },
  {
   "cell_type": "code",
   "execution_count": 21,
   "metadata": {},
   "outputs": [
    {
     "data": {
      "text/plain": [
       "서울    944.500000\n",
       "대전    115.333333\n",
       "대구     88.333333\n",
       "부산    186.333333\n",
       "광주     78.000000\n",
       "dtype: float64"
      ]
     },
     "execution_count": 21,
     "metadata": {},
     "output_type": "execute_result"
    }
   ],
   "source": [
    "# 통계 함수 (mean, sum, max, min, ...)\n",
    "# 각 통계 함수를 개별적으로 실행 가능\n",
    "df3.mean()"
   ]
  },
  {
   "cell_type": "code",
   "execution_count": 22,
   "metadata": {},
   "outputs": [
    {
     "data": {
      "text/plain": [
       "서울    2833.5\n",
       "대전     346.0\n",
       "대구     265.0\n",
       "부산     559.0\n",
       "광주     234.0\n",
       "dtype: float64"
      ]
     },
     "execution_count": 22,
     "metadata": {},
     "output_type": "execute_result"
    }
   ],
   "source": [
    "df3.sum()"
   ]
  },
  {
   "cell_type": "code",
   "execution_count": 23,
   "metadata": {},
   "outputs": [
    {
     "data": {
      "text/plain": [
       "2018    1339.0\n",
       "2019    1451.0\n",
       "2020    1447.5\n",
       "dtype: float64"
      ]
     },
     "execution_count": 23,
     "metadata": {},
     "output_type": "execute_result"
    }
   ],
   "source": [
    "# 연도별로 sum 값을 구하고 싶을 경우\n",
    "# axis 인자를 통해 함수를 적용하는 축 방향을 결정할 수 있음\n",
    "# axis 인자의 기본 값 : 0(행, 로우)\n",
    "# axis=1로 지정하면, 연도별 sum값을 구할 수 있음\n",
    "# axis라고 하는 축을 활용하면 로우 방향이나 칼럼 방향 모두 가능\n",
    "df3.sum(axis = 1)"
   ]
  },
  {
   "cell_type": "code",
   "execution_count": null,
   "metadata": {},
   "outputs": [],
   "source": [
    "# median() : 중위값을 구하는 함수\n",
    "df3.median()"
   ]
  },
  {
   "cell_type": "code",
   "execution_count": 24,
   "metadata": {},
   "outputs": [
    {
     "data": {
      "text/plain": [
       "서울    941.75\n",
       "대전     97.50\n",
       "대구     86.50\n",
       "부산    183.50\n",
       "광주     77.00\n",
       "Name: 0.25, dtype: float64"
      ]
     },
     "execution_count": 24,
     "metadata": {},
     "output_type": "execute_result"
    }
   ],
   "source": [
    "# quantile() : 분위 값을 구하는 함수\n",
    "# 인자 미지정 시 기본값은 0.5이므로 중위값과 동일하게 실행됨\n",
    "# 인자를 0과 1사이의 값으로 지정하면 해당 분위의 값을 볼 수 있음(e.g.0.25 -> 1/4분위수)\n",
    "df3.quantile(0.25)"
   ]
  },
  {
   "cell_type": "code",
   "execution_count": 26,
   "metadata": {
    "code_folding": [],
    "scrolled": true
   },
   "outputs": [
    {
     "data": {
      "text/html": [
       "<div>\n",
       "<style scoped>\n",
       "    .dataframe tbody tr th:only-of-type {\n",
       "        vertical-align: middle;\n",
       "    }\n",
       "\n",
       "    .dataframe tbody tr th {\n",
       "        vertical-align: top;\n",
       "    }\n",
       "\n",
       "    .dataframe thead th {\n",
       "        text-align: right;\n",
       "    }\n",
       "</style>\n",
       "<table border=\"1\" class=\"dataframe\">\n",
       "  <thead>\n",
       "    <tr style=\"text-align: right;\">\n",
       "      <th></th>\n",
       "      <th>서울</th>\n",
       "      <th>대전</th>\n",
       "      <th>대구</th>\n",
       "      <th>부산</th>\n",
       "      <th>광주</th>\n",
       "    </tr>\n",
       "  </thead>\n",
       "  <tbody>\n",
       "    <tr>\n",
       "      <th>2018</th>\n",
       "      <td>950.0</td>\n",
       "      <td>50</td>\n",
       "      <td>85</td>\n",
       "      <td>180</td>\n",
       "      <td>74</td>\n",
       "    </tr>\n",
       "    <tr>\n",
       "      <th>2020</th>\n",
       "      <td>938.5</td>\n",
       "      <td>145</td>\n",
       "      <td>92</td>\n",
       "      <td>192</td>\n",
       "      <td>80</td>\n",
       "    </tr>\n",
       "  </tbody>\n",
       "</table>\n",
       "</div>"
      ],
      "text/plain": [
       "         서울   대전  대구   부산  광주\n",
       "2018  950.0   50  85  180  74\n",
       "2020  938.5  145  92  192  80"
      ]
     },
     "execution_count": 26,
     "metadata": {},
     "output_type": "execute_result"
    }
   ],
   "source": [
    "# 3. sample() - 일부 데이터를 랜덤으로 선택\n",
    "# 전체 데이터가 너무 커서 한 번에 보기 어려운 경우 주로 사용\n",
    "# 랜덤히게 X개의 데이터를 선택해서 리턴하는 함수(기본값이 1이므로 인자가 없으면 1개를 리턴)\n",
    "# 무작위로 선택을 하는 것이기 때문에 실행을 할 때마다 변경되는 것을 확인해 볼 수 있음\n",
    "df3.sample()"
   ]
  },
  {
   "cell_type": "code",
   "execution_count": null,
   "metadata": {},
   "outputs": [],
   "source": [
    "# 인자를 2개로 지정하면, 2개의 데이터(행)가 선택\n",
    "df3.sample(2) "
   ]
  },
  {
   "cell_type": "code",
   "execution_count": null,
   "metadata": {},
   "outputs": [],
   "source": [
    "# 로우 인덱스에서 2개를 선택하고 싶은 경우 [axis=0]로 설정\n",
    "df3.sample(2, axis = 0)"
   ]
  },
  {
   "cell_type": "code",
   "execution_count": null,
   "metadata": {},
   "outputs": [],
   "source": [
    "# 칼럼 인덱스에서 2개를 선택하고 싶은 경우 [axis=1]로 설정\n",
    "df3.sample(2, axis = 1)"
   ]
  },
  {
   "cell_type": "code",
   "execution_count": 27,
   "metadata": {},
   "outputs": [
    {
     "data": {
      "text/html": [
       "<div>\n",
       "<style scoped>\n",
       "    .dataframe tbody tr th:only-of-type {\n",
       "        vertical-align: middle;\n",
       "    }\n",
       "\n",
       "    .dataframe tbody tr th {\n",
       "        vertical-align: top;\n",
       "    }\n",
       "\n",
       "    .dataframe thead th {\n",
       "        text-align: right;\n",
       "    }\n",
       "</style>\n",
       "<table border=\"1\" class=\"dataframe\">\n",
       "  <thead>\n",
       "    <tr style=\"text-align: right;\">\n",
       "      <th></th>\n",
       "      <th>서울</th>\n",
       "      <th>대전</th>\n",
       "      <th>대구</th>\n",
       "      <th>부산</th>\n",
       "      <th>광주</th>\n",
       "    </tr>\n",
       "  </thead>\n",
       "  <tbody>\n",
       "    <tr>\n",
       "      <th>2019</th>\n",
       "      <td>945.0</td>\n",
       "      <td>151</td>\n",
       "      <td>88</td>\n",
       "      <td>187</td>\n",
       "      <td>80</td>\n",
       "    </tr>\n",
       "    <tr>\n",
       "      <th>2020</th>\n",
       "      <td>938.5</td>\n",
       "      <td>145</td>\n",
       "      <td>92</td>\n",
       "      <td>192</td>\n",
       "      <td>80</td>\n",
       "    </tr>\n",
       "  </tbody>\n",
       "</table>\n",
       "</div>"
      ],
      "text/plain": [
       "         서울   대전  대구   부산  광주\n",
       "2019  945.0  151  88  187  80\n",
       "2020  938.5  145  92  192  80"
      ]
     },
     "execution_count": 27,
     "metadata": {},
     "output_type": "execute_result"
    }
   ],
   "source": [
    "# 4. head, tail(x) - 맨 앞 혹은 맨 뒤의 x개의 데이터만 출력\n",
    "# 기본값 : 5\n",
    "df3.head(2)\n",
    "df3.tail(2)"
   ]
  },
  {
   "cell_type": "code",
   "execution_count": 28,
   "metadata": {},
   "outputs": [
    {
     "data": {
      "text/plain": [
       "서울    3\n",
       "대전    3\n",
       "대구    3\n",
       "부산    3\n",
       "광주    2\n",
       "dtype: int64"
      ]
     },
     "execution_count": 28,
     "metadata": {},
     "output_type": "execute_result"
    }
   ],
   "source": [
    "# 5. nunique() - 각각의 컬럼 별로 unique한 값의 개수\n",
    "# 각각의 3년의 데이터 값이 다르기 때문에 unique한 값의 개수를 출력하면 모두 3이라고 나옴\n",
    "# '광주' 칼럼 같은 경우 실제로 unique한 값의 개수가 2가지만 있어 모두 2라고 나옴\n",
    "df3.nunique()"
   ]
  },
  {
   "cell_type": "code",
   "execution_count": 29,
   "metadata": {
    "scrolled": true
   },
   "outputs": [
    {
     "data": {
      "text/plain": [
       "<AxesSubplot:>"
      ]
     },
     "execution_count": 29,
     "metadata": {},
     "output_type": "execute_result"
    },
    {
     "data": {
      "image/png": "[encoded data removed]",
      "text/plain": [
       "<Figure size 432x288 with 1 Axes>"
      ]
     },
     "metadata": {
      "needs_background": "light"
     },
     "output_type": "display_data"
    }
   ],
   "source": [
    "# 6. plot() - 데이터 시각화 \n",
    "# 데이터를 시각화하여 그래프(차트)로 보여주는 함수\n",
    "import matplotlib as plt # 데이터 시각화를 위한 matplotlib 라이브러리 활용\n",
    "plt.rcParams['font.family'] = 'Malgun Gothic' # Font 정보 변경\n",
    "df3.plot()"
   ]
  },
  {
   "cell_type": "code",
   "execution_count": 30,
   "metadata": {
    "scrolled": true
   },
   "outputs": [
    {
     "data": {
      "text/html": [
       "<div>\n",
       "<style scoped>\n",
       "    .dataframe tbody tr th:only-of-type {\n",
       "        vertical-align: middle;\n",
       "    }\n",
       "\n",
       "    .dataframe tbody tr th {\n",
       "        vertical-align: top;\n",
       "    }\n",
       "\n",
       "    .dataframe thead th {\n",
       "        text-align: right;\n",
       "    }\n",
       "</style>\n",
       "<table border=\"1\" class=\"dataframe\">\n",
       "  <thead>\n",
       "    <tr style=\"text-align: right;\">\n",
       "      <th></th>\n",
       "      <th>서울</th>\n",
       "      <th>대전</th>\n",
       "      <th>대구</th>\n",
       "      <th>부산</th>\n",
       "      <th>광주</th>\n",
       "    </tr>\n",
       "  </thead>\n",
       "  <tbody>\n",
       "    <tr>\n",
       "      <th>2018</th>\n",
       "      <td>950.0</td>\n",
       "      <td>50</td>\n",
       "      <td>85</td>\n",
       "      <td>180</td>\n",
       "      <td>74</td>\n",
       "    </tr>\n",
       "  </tbody>\n",
       "</table>\n",
       "</div>"
      ],
      "text/plain": [
       "         서울  대전  대구   부산  광주\n",
       "2018  950.0  50  85  180  74"
      ]
     },
     "execution_count": 30,
     "metadata": {},
     "output_type": "execute_result"
    }
   ],
   "source": [
    "# 7. filter() - 원하는 데이터만 선택\n",
    "# df3.filter() 실행 시 오류\n",
    "# 일부 인자의 값을 필수적으로 지정해 주어야 함\n",
    "# 선택하는 기준은 데이터마다 다르므로 기본값으로 지정을 할 수가 없음\n",
    "# items, like, regex 중 하나의 인자에 값을 지정해야지만 filter()를 수행할 수 있음\n",
    "# 리스트로 담아서 전달\n",
    "df3.filter(['서울']) # 서울 데이터만 선택\n",
    "df3.filter(['서울', '부산']) # 서울, 부산 데이터만 선택\n",
    "df3.filter([2018], axis = 0) # 2018년 데이터만 선택, axis 인자를 통하여 행 단위의 데이터를 선택"
   ]
  },
  {
   "cell_type": "code",
   "execution_count": 47,
   "metadata": {},
   "outputs": [
    {
     "data": {
      "text/html": [
       "<div>\n",
       "<style scoped>\n",
       "    .dataframe tbody tr th:only-of-type {\n",
       "        vertical-align: middle;\n",
       "    }\n",
       "\n",
       "    .dataframe tbody tr th {\n",
       "        vertical-align: top;\n",
       "    }\n",
       "\n",
       "    .dataframe thead th {\n",
       "        text-align: right;\n",
       "    }\n",
       "</style>\n",
       "<table border=\"1\" class=\"dataframe\">\n",
       "  <thead>\n",
       "    <tr style=\"text-align: right;\">\n",
       "      <th></th>\n",
       "      <th>대전</th>\n",
       "      <th>대구</th>\n",
       "    </tr>\n",
       "  </thead>\n",
       "  <tbody>\n",
       "    <tr>\n",
       "      <th>2018</th>\n",
       "      <td>50</td>\n",
       "      <td>85</td>\n",
       "    </tr>\n",
       "    <tr>\n",
       "      <th>2019</th>\n",
       "      <td>151</td>\n",
       "      <td>88</td>\n",
       "    </tr>\n",
       "    <tr>\n",
       "      <th>2020</th>\n",
       "      <td>145</td>\n",
       "      <td>92</td>\n",
       "    </tr>\n",
       "  </tbody>\n",
       "</table>\n",
       "</div>"
      ],
      "text/plain": [
       "       대전  대구\n",
       "2018   50  85\n",
       "2019  151  88\n",
       "2020  145  92"
      ]
     },
     "execution_count": 47,
     "metadata": {},
     "output_type": "execute_result"
    }
   ],
   "source": [
    "# 정규표현식(regular expression) : 지정된 문자열 패턴에 맞는 것들을 찾을 수 있음'\n",
    "# regular expression(regex) 인자값에 어떤 문자열 패턴을 지정해 줄 수 있음\n",
    "# '대'로 시작하는 문자열 패턴\n",
    "# df3.filter(['대전', '대구'])\n",
    "# 문자열 패턴을 지정하는 방식의 꺽쇠 표시(^) 후 '대'\n",
    "df3.filter(regex = '^대')"
   ]
  },
  {
   "cell_type": "code",
   "execution_count": 31,
   "metadata": {},
   "outputs": [
    {
     "data": {
      "text/html": [
       "<div>\n",
       "<style scoped>\n",
       "    .dataframe tbody tr th:only-of-type {\n",
       "        vertical-align: middle;\n",
       "    }\n",
       "\n",
       "    .dataframe tbody tr th {\n",
       "        vertical-align: top;\n",
       "    }\n",
       "\n",
       "    .dataframe thead th {\n",
       "        text-align: right;\n",
       "    }\n",
       "</style>\n",
       "<table border=\"1\" class=\"dataframe\">\n",
       "  <thead>\n",
       "    <tr style=\"text-align: right;\">\n",
       "      <th></th>\n",
       "      <th>서울</th>\n",
       "      <th>대전</th>\n",
       "      <th>대구</th>\n",
       "      <th>부산</th>\n",
       "      <th>광주</th>\n",
       "    </tr>\n",
       "  </thead>\n",
       "  <tbody>\n",
       "    <tr>\n",
       "      <th>2018</th>\n",
       "      <td>950.0</td>\n",
       "      <td>50</td>\n",
       "      <td>85</td>\n",
       "      <td>180</td>\n",
       "      <td>74</td>\n",
       "    </tr>\n",
       "    <tr>\n",
       "      <th>2019</th>\n",
       "      <td>945.0</td>\n",
       "      <td>151</td>\n",
       "      <td>88</td>\n",
       "      <td>187</td>\n",
       "      <td>80</td>\n",
       "    </tr>\n",
       "  </tbody>\n",
       "</table>\n",
       "</div>"
      ],
      "text/plain": [
       "         서울   대전  대구   부산  광주\n",
       "2018  950.0   50  85  180  74\n",
       "2019  945.0  151  88  187  80"
      ]
     },
     "execution_count": 31,
     "metadata": {},
     "output_type": "execute_result"
    }
   ],
   "source": [
    "# 2010년대에 해당하는 데이터만 선택\n",
    "# filter 기능을 이용해 201로 시작하는 형태의 인덱스를 모두 선택\n",
    "# 2010년대 행만 선택(2010, 2011, 2012, ~ 2019)\n",
    "df3.filter(regex = '^201', axis = 0) # 기본적으로 칼럼 인덱스를 먼저 탐색하기 때문에 로우 인덱스를 탐색하라고 axis를 0으로 지정"
   ]
  },
  {
   "cell_type": "code",
   "execution_count": 32,
   "metadata": {},
   "outputs": [
    {
     "data": {
      "text/html": [
       "<div>\n",
       "<style scoped>\n",
       "    .dataframe tbody tr th:only-of-type {\n",
       "        vertical-align: middle;\n",
       "    }\n",
       "\n",
       "    .dataframe tbody tr th {\n",
       "        vertical-align: top;\n",
       "    }\n",
       "\n",
       "    .dataframe thead th {\n",
       "        text-align: right;\n",
       "    }\n",
       "</style>\n",
       "<table border=\"1\" class=\"dataframe\">\n",
       "  <thead>\n",
       "    <tr style=\"text-align: right;\">\n",
       "      <th></th>\n",
       "      <th>서울</th>\n",
       "      <th>대전</th>\n",
       "      <th>대구</th>\n",
       "      <th>부산</th>\n",
       "      <th>광주</th>\n",
       "    </tr>\n",
       "  </thead>\n",
       "  <tbody>\n",
       "    <tr>\n",
       "      <th>2020</th>\n",
       "      <td>938.5</td>\n",
       "      <td>145</td>\n",
       "      <td>92</td>\n",
       "      <td>192</td>\n",
       "      <td>80</td>\n",
       "    </tr>\n",
       "  </tbody>\n",
       "</table>\n",
       "</div>"
      ],
      "text/plain": [
       "         서울   대전  대구   부산  광주\n",
       "2020  938.5  145  92  192  80"
      ]
     },
     "execution_count": 32,
     "metadata": {},
     "output_type": "execute_result"
    }
   ],
   "source": [
    "# 10년 단위의 행만 선택(2000, 2010, 2020, 2030, ...)\n",
    "# regular expression : 0으로 끝나는 것(0하고 달러 표시($)\n",
    "df3.filter(regex = '0$', axis = 0)"
   ]
  },
  {
   "cell_type": "markdown",
   "metadata": {},
   "source": [
    "# 3-3차시\n",
    "- 01. 원하는 컬럼들만 선택하기\n",
    "- 02. 원하는 로우들만 선택하기\n",
    "- 03. 인덱스 슬라이싱으로 특정 범위 데이터 선택하기\n",
    "- 04. 조건 색인을 통해 특정 조건에 부합하는 데이터 선택하기"
   ]
  },
  {
   "cell_type": "markdown",
   "metadata": {},
   "source": [
    "### 2.2.3. 데이터프레임 조회하기"
   ]
  },
  {
   "cell_type": "code",
   "execution_count": 3,
   "metadata": {},
   "outputs": [
    {
     "data": {
      "text/html": [
       "<div>\n",
       "<style scoped>\n",
       "    .dataframe tbody tr th:only-of-type {\n",
       "        vertical-align: middle;\n",
       "    }\n",
       "\n",
       "    .dataframe tbody tr th {\n",
       "        vertical-align: top;\n",
       "    }\n",
       "\n",
       "    .dataframe thead th {\n",
       "        text-align: right;\n",
       "    }\n",
       "</style>\n",
       "<table border=\"1\" class=\"dataframe\">\n",
       "  <thead>\n",
       "    <tr style=\"text-align: right;\">\n",
       "      <th></th>\n",
       "      <th>Class</th>\n",
       "      <th>Year</th>\n",
       "      <th>Price</th>\n",
       "      <th>Location</th>\n",
       "    </tr>\n",
       "  </thead>\n",
       "  <tbody>\n",
       "    <tr>\n",
       "      <th>C01</th>\n",
       "      <td>IoT</td>\n",
       "      <td>2018</td>\n",
       "      <td>100</td>\n",
       "      <td>Korea</td>\n",
       "    </tr>\n",
       "    <tr>\n",
       "      <th>C02</th>\n",
       "      <td>Network</td>\n",
       "      <td>2017</td>\n",
       "      <td>125</td>\n",
       "      <td>Korea</td>\n",
       "    </tr>\n",
       "    <tr>\n",
       "      <th>C03</th>\n",
       "      <td>Economy</td>\n",
       "      <td>2018</td>\n",
       "      <td>132</td>\n",
       "      <td>Korea</td>\n",
       "    </tr>\n",
       "    <tr>\n",
       "      <th>C04</th>\n",
       "      <td>Big Data</td>\n",
       "      <td>2018</td>\n",
       "      <td>312</td>\n",
       "      <td>US</td>\n",
       "    </tr>\n",
       "    <tr>\n",
       "      <th>C05</th>\n",
       "      <td>Cloud</td>\n",
       "      <td>2019</td>\n",
       "      <td>250</td>\n",
       "      <td>Korea</td>\n",
       "    </tr>\n",
       "  </tbody>\n",
       "</table>\n",
       "</div>"
      ],
      "text/plain": [
       "        Class  Year  Price Location\n",
       "C01       IoT  2018    100    Korea\n",
       "C02   Network  2017    125    Korea\n",
       "C03   Economy  2018    132    Korea\n",
       "C04  Big Data  2018    312       US\n",
       "C05     Cloud  2019    250    Korea"
      ]
     },
     "execution_count": 3,
     "metadata": {},
     "output_type": "execute_result"
    }
   ],
   "source": [
    "# 테스트 데이터프레임 생성\n",
    "df4 = DataFrame({'Class': ['IoT','Network', 'Economy','Big Data', 'Cloud'],\n",
    "                       'Year': [2018, 2017, 2018, 2018, 2019],\n",
    "                       'Price': [100, 125, 132, 312, 250],\n",
    "                       'Location': ['Korea','Korea', 'Korea', 'US','Korea']},\n",
    "                      index=['C01','C02','C03', 'C04', 'C05'])\n",
    "df4"
   ]
  },
  {
   "cell_type": "code",
   "execution_count": 6,
   "metadata": {},
   "outputs": [
    {
     "data": {
      "text/plain": [
       "C01         IoT\n",
       "C02     Network\n",
       "C03     Economy\n",
       "C04    Big Data\n",
       "C05       Cloud\n",
       "Name: Class, dtype: object"
      ]
     },
     "execution_count": 6,
     "metadata": {},
     "output_type": "execute_result"
    }
   ],
   "source": [
    "# 1. 원하는 열(컬럼)만 조회하기\n",
    "# 색인 기호인 대괄호([]) 안에 색인하고자 하는 컬럼 인덱스의 이름을 지정하기\n",
    "# 데이터프레임에서 색인하게 되면 컬럼 인덱스를 기본적으로 탐색\n",
    "# 1-1) Class만 조회하기\n",
    "# 데이터프레임은 깔끔하게 정돈되어 출력\n",
    "df4['Class'] # Series로 출력"
   ]
  },
  {
   "cell_type": "code",
   "execution_count": 7,
   "metadata": {},
   "outputs": [
    {
     "name": "stdout",
     "output_type": "stream",
     "text": [
      "<class 'pandas.core.frame.DataFrame'>\n",
      "Index: 5 entries, C01 to C05\n",
      "Data columns (total 4 columns):\n",
      " #   Column    Non-Null Count  Dtype \n",
      "---  ------    --------------  ----- \n",
      " 0   Class     5 non-null      object\n",
      " 1   Year      5 non-null      int64 \n",
      " 2   Price     5 non-null      int64 \n",
      " 3   Location  5 non-null      object\n",
      "dtypes: int64(2), object(2)\n",
      "memory usage: 372.0+ bytes\n"
     ]
    }
   ],
   "source": [
    "# 시리즈(Series) 데이터프레임(Data Frame)인지에 따라 사용가능한 함수가 달라질 수 있다.\n",
    "# df4['Class'].info() 에러발생\n",
    "# 색인된 구문의 결과가 데이터 프레임이어야만 에러가 발생하지 않음\n",
    "df4.info()"
   ]
  },
  {
   "cell_type": "code",
   "execution_count": 8,
   "metadata": {},
   "outputs": [
    {
     "data": {
      "text/html": [
       "<div>\n",
       "<style scoped>\n",
       "    .dataframe tbody tr th:only-of-type {\n",
       "        vertical-align: middle;\n",
       "    }\n",
       "\n",
       "    .dataframe tbody tr th {\n",
       "        vertical-align: top;\n",
       "    }\n",
       "\n",
       "    .dataframe thead th {\n",
       "        text-align: right;\n",
       "    }\n",
       "</style>\n",
       "<table border=\"1\" class=\"dataframe\">\n",
       "  <thead>\n",
       "    <tr style=\"text-align: right;\">\n",
       "      <th></th>\n",
       "      <th>Class</th>\n",
       "      <th>Price</th>\n",
       "    </tr>\n",
       "  </thead>\n",
       "  <tbody>\n",
       "    <tr>\n",
       "      <th>C01</th>\n",
       "      <td>IoT</td>\n",
       "      <td>100</td>\n",
       "    </tr>\n",
       "    <tr>\n",
       "      <th>C02</th>\n",
       "      <td>Network</td>\n",
       "      <td>125</td>\n",
       "    </tr>\n",
       "    <tr>\n",
       "      <th>C03</th>\n",
       "      <td>Economy</td>\n",
       "      <td>132</td>\n",
       "    </tr>\n",
       "    <tr>\n",
       "      <th>C04</th>\n",
       "      <td>Big Data</td>\n",
       "      <td>312</td>\n",
       "    </tr>\n",
       "    <tr>\n",
       "      <th>C05</th>\n",
       "      <td>Cloud</td>\n",
       "      <td>250</td>\n",
       "    </tr>\n",
       "  </tbody>\n",
       "</table>\n",
       "</div>"
      ],
      "text/plain": [
       "        Class  Price\n",
       "C01       IoT    100\n",
       "C02   Network    125\n",
       "C03   Economy    132\n",
       "C04  Big Data    312\n",
       "C05     Cloud    250"
      ]
     },
     "execution_count": 8,
     "metadata": {},
     "output_type": "execute_result"
    }
   ],
   "source": [
    "# 1-2) Class와 Price 조회하기\n",
    "# 색인 기호([]) 안에 색인하고자 하는 컬럼 인덱스들을 각각 지정하기\n",
    "# df4['Class', 'Price'] 에러발생\n",
    "# Class와 Price 각각의 컬럼을 찾아 색인한 것이 아닌 (Class, Price)라는 하나의 컬럼을 찾았기 때문\n",
    "# 두 개 이상의 인자는 list로 담아서 전달\n",
    "# 바깥쪽의 대괄호는 색인 기호이며, 안쪽의 대괄호는 list를 지징\n",
    "df4[['Class', 'Price']]"
   ]
  },
  {
   "cell_type": "code",
   "execution_count": 9,
   "metadata": {},
   "outputs": [
    {
     "data": {
      "text/plain": [
       "Class       Big Data\n",
       "Year            2018\n",
       "Price            312\n",
       "Location          US\n",
       "Name: C04, dtype: object"
      ]
     },
     "execution_count": 9,
     "metadata": {},
     "output_type": "execute_result"
    }
   ],
   "source": [
    "# 2. 원하는 행(로우)만 조회하기 \n",
    "# 데이터프레임에서 색인을 하게 되면 컬럼 인덱스로 가정\n",
    "# df4['C04'] 에러발생\n",
    "# C04라는 컬럼 인덱스가 없기 때문\n",
    "# 로우 인덱스를 명시적으로 지정해 주어야 함\n",
    "# loc : location, iloc : integer location\n",
    "# 문자 인덱스는 .loc 사용\n",
    "df4.loc['C04']"
   ]
  },
  {
   "cell_type": "code",
   "execution_count": 10,
   "metadata": {
    "scrolled": true
   },
   "outputs": [
    {
     "data": {
      "text/plain": [
       "Class       Big Data\n",
       "Year            2018\n",
       "Price            312\n",
       "Location          US\n",
       "Name: C04, dtype: object"
      ]
     },
     "execution_count": 10,
     "metadata": {},
     "output_type": "execute_result"
    }
   ],
   "source": [
    "# 숫자 인덱스는 .iloc 사용\n",
    "df4.iloc[3]"
   ]
  },
  {
   "cell_type": "code",
   "execution_count": 11,
   "metadata": {},
   "outputs": [
    {
     "ename": "SyntaxError",
     "evalue": "invalid syntax (<ipython-input-11-00209912f7b9>, line 3)",
     "output_type": "error",
     "traceback": [
      "\u001b[1;36m  File \u001b[1;32m\"<ipython-input-11-00209912f7b9>\"\u001b[1;36m, line \u001b[1;32m3\u001b[0m\n\u001b[1;33m    df4.loc['C04', axis = 0] # 오류 발생\u001b[0m\n\u001b[1;37m                        ^\u001b[0m\n\u001b[1;31mSyntaxError\u001b[0m\u001b[1;31m:\u001b[0m invalid syntax\n"
     ]
    }
   ],
   "source": [
    "# loc에서 axis를 사용할 수 없음\n",
    "# loc와 iloc는 속성이며, axis는 함수에서 사용할 수 있는 인자이므로 사용할 수 없다.\n",
    "# 괄호 안에 인자값을 주는 함수와 달리, loc와 iloc는 대괄호([])에 색인 정보를 준다.\n",
    "df4.loc['C04', axis = 0] # 오류 발생"
   ]
  },
  {
   "cell_type": "code",
   "execution_count": 12,
   "metadata": {},
   "outputs": [
    {
     "data": {
      "text/html": [
       "<div>\n",
       "<style scoped>\n",
       "    .dataframe tbody tr th:only-of-type {\n",
       "        vertical-align: middle;\n",
       "    }\n",
       "\n",
       "    .dataframe tbody tr th {\n",
       "        vertical-align: top;\n",
       "    }\n",
       "\n",
       "    .dataframe thead th {\n",
       "        text-align: right;\n",
       "    }\n",
       "</style>\n",
       "<table border=\"1\" class=\"dataframe\">\n",
       "  <thead>\n",
       "    <tr style=\"text-align: right;\">\n",
       "      <th></th>\n",
       "      <th>Class</th>\n",
       "      <th>Year</th>\n",
       "      <th>Price</th>\n",
       "      <th>Location</th>\n",
       "    </tr>\n",
       "  </thead>\n",
       "  <tbody>\n",
       "    <tr>\n",
       "      <th>C02</th>\n",
       "      <td>Network</td>\n",
       "      <td>2017</td>\n",
       "      <td>125</td>\n",
       "      <td>Korea</td>\n",
       "    </tr>\n",
       "    <tr>\n",
       "      <th>C04</th>\n",
       "      <td>Big Data</td>\n",
       "      <td>2018</td>\n",
       "      <td>312</td>\n",
       "      <td>US</td>\n",
       "    </tr>\n",
       "  </tbody>\n",
       "</table>\n",
       "</div>"
      ],
      "text/plain": [
       "        Class  Year  Price Location\n",
       "C02   Network  2017    125    Korea\n",
       "C04  Big Data  2018    312       US"
      ]
     },
     "execution_count": 12,
     "metadata": {},
     "output_type": "execute_result"
    }
   ],
   "source": [
    "# 2개의 Class에 해당하는 정보를 조회하기\n",
    "# C02, C04 조회\n",
    "# 2차원 형태의 데이터는 데이터프레임으로, 1차원 형태의 데이터는 Series로 나타난다.\n",
    "df4.loc[['C02', 'C04']] # loc 또는 iloc를 사용하여 list로 담기"
   ]
  },
  {
   "cell_type": "code",
   "execution_count": 50,
   "metadata": {},
   "outputs": [],
   "source": [
    "# 3. 인덱스 슬라이싱 \n",
    "# 범위 값을 주고, 그 범위에 해당하는 데이터를 색인하는 방법\n",
    "# 숫자, 문자 인덱스 모두 슬라이싱 가능\n",
    "# 스타트 인덱스부터 엔드 인덱스까지의 범위 값에 해당하는 데이터 선택\n",
    "# 숫자 인덱스 사용 시 엔드 인덱스 미포함\n",
    "# 문자 인덱스 사용 시 엔드 인덱스 포함"
   ]
  },
  {
   "cell_type": "code",
   "execution_count": 13,
   "metadata": {},
   "outputs": [
    {
     "data": {
      "text/html": [
       "<div>\n",
       "<style scoped>\n",
       "    .dataframe tbody tr th:only-of-type {\n",
       "        vertical-align: middle;\n",
       "    }\n",
       "\n",
       "    .dataframe tbody tr th {\n",
       "        vertical-align: top;\n",
       "    }\n",
       "\n",
       "    .dataframe thead th {\n",
       "        text-align: right;\n",
       "    }\n",
       "</style>\n",
       "<table border=\"1\" class=\"dataframe\">\n",
       "  <thead>\n",
       "    <tr style=\"text-align: right;\">\n",
       "      <th></th>\n",
       "      <th>Class</th>\n",
       "      <th>Year</th>\n",
       "      <th>Price</th>\n",
       "      <th>Location</th>\n",
       "    </tr>\n",
       "  </thead>\n",
       "  <tbody>\n",
       "    <tr>\n",
       "      <th>C02</th>\n",
       "      <td>Network</td>\n",
       "      <td>2017</td>\n",
       "      <td>125</td>\n",
       "      <td>Korea</td>\n",
       "    </tr>\n",
       "    <tr>\n",
       "      <th>C03</th>\n",
       "      <td>Economy</td>\n",
       "      <td>2018</td>\n",
       "      <td>132</td>\n",
       "      <td>Korea</td>\n",
       "    </tr>\n",
       "    <tr>\n",
       "      <th>C04</th>\n",
       "      <td>Big Data</td>\n",
       "      <td>2018</td>\n",
       "      <td>312</td>\n",
       "      <td>US</td>\n",
       "    </tr>\n",
       "  </tbody>\n",
       "</table>\n",
       "</div>"
      ],
      "text/plain": [
       "        Class  Year  Price Location\n",
       "C02   Network  2017    125    Korea\n",
       "C03   Economy  2018    132    Korea\n",
       "C04  Big Data  2018    312       US"
      ]
     },
     "execution_count": 13,
     "metadata": {},
     "output_type": "execute_result"
    }
   ],
   "source": [
    "# C02~C04까지의 강의 조회\n",
    "# 색인의 조건이 인덱스 슬라이싱인 경우에는 loc 또는 iloc 생략 가능\n",
    "df4.loc['C02':'C04']\n",
    "df4['C02':'C04']"
   ]
  },
  {
   "cell_type": "code",
   "execution_count": 14,
   "metadata": {},
   "outputs": [
    {
     "data": {
      "text/html": [
       "<div>\n",
       "<style scoped>\n",
       "    .dataframe tbody tr th:only-of-type {\n",
       "        vertical-align: middle;\n",
       "    }\n",
       "\n",
       "    .dataframe tbody tr th {\n",
       "        vertical-align: top;\n",
       "    }\n",
       "\n",
       "    .dataframe thead th {\n",
       "        text-align: right;\n",
       "    }\n",
       "</style>\n",
       "<table border=\"1\" class=\"dataframe\">\n",
       "  <thead>\n",
       "    <tr style=\"text-align: right;\">\n",
       "      <th></th>\n",
       "      <th>Class</th>\n",
       "      <th>Year</th>\n",
       "      <th>Price</th>\n",
       "      <th>Location</th>\n",
       "    </tr>\n",
       "  </thead>\n",
       "  <tbody>\n",
       "    <tr>\n",
       "      <th>C02</th>\n",
       "      <td>Network</td>\n",
       "      <td>2017</td>\n",
       "      <td>125</td>\n",
       "      <td>Korea</td>\n",
       "    </tr>\n",
       "    <tr>\n",
       "      <th>C03</th>\n",
       "      <td>Economy</td>\n",
       "      <td>2018</td>\n",
       "      <td>132</td>\n",
       "      <td>Korea</td>\n",
       "    </tr>\n",
       "    <tr>\n",
       "      <th>C04</th>\n",
       "      <td>Big Data</td>\n",
       "      <td>2018</td>\n",
       "      <td>312</td>\n",
       "      <td>US</td>\n",
       "    </tr>\n",
       "  </tbody>\n",
       "</table>\n",
       "</div>"
      ],
      "text/plain": [
       "        Class  Year  Price Location\n",
       "C02   Network  2017    125    Korea\n",
       "C03   Economy  2018    132    Korea\n",
       "C04  Big Data  2018    312       US"
      ]
     },
     "execution_count": 14,
     "metadata": {},
     "output_type": "execute_result"
    }
   ],
   "source": [
    "# df4[['C02', 'C03', 'C04']] 에러발생\n",
    "# 컬럼 인덱스는 순서가 없다는 특징 때문에 나타나는 에러\n",
    "# df4에 색인 기호를 list로 담아서 전달하면, '컬럼' 인덱스를 찾게 됨\n",
    "# list로 담아서 전달할 때에는 반드시 loc를 명시해주어야 함\n",
    "df4.loc[['C02', 'C03', 'C04']]"
   ]
  },
  {
   "cell_type": "code",
   "execution_count": null,
   "metadata": {},
   "outputs": [],
   "source": [
    "# 슬라이싱\n",
    "# 순서가 있어야 범위 값 지정 가능\n",
    "# 순서가 있는 것은 로우 인덱스뿐\n",
    "# loc나 iloc가 없어도 루우 인덱스로 바로 적용"
   ]
  },
  {
   "cell_type": "code",
   "execution_count": 15,
   "metadata": {},
   "outputs": [
    {
     "data": {
      "text/html": [
       "<div>\n",
       "<style scoped>\n",
       "    .dataframe tbody tr th:only-of-type {\n",
       "        vertical-align: middle;\n",
       "    }\n",
       "\n",
       "    .dataframe tbody tr th {\n",
       "        vertical-align: top;\n",
       "    }\n",
       "\n",
       "    .dataframe thead th {\n",
       "        text-align: right;\n",
       "    }\n",
       "</style>\n",
       "<table border=\"1\" class=\"dataframe\">\n",
       "  <thead>\n",
       "    <tr style=\"text-align: right;\">\n",
       "      <th></th>\n",
       "      <th>Class</th>\n",
       "      <th>Year</th>\n",
       "      <th>Price</th>\n",
       "      <th>Location</th>\n",
       "    </tr>\n",
       "  </thead>\n",
       "  <tbody>\n",
       "    <tr>\n",
       "      <th>C02</th>\n",
       "      <td>Network</td>\n",
       "      <td>2017</td>\n",
       "      <td>125</td>\n",
       "      <td>Korea</td>\n",
       "    </tr>\n",
       "    <tr>\n",
       "      <th>C03</th>\n",
       "      <td>Economy</td>\n",
       "      <td>2018</td>\n",
       "      <td>132</td>\n",
       "      <td>Korea</td>\n",
       "    </tr>\n",
       "    <tr>\n",
       "      <th>C04</th>\n",
       "      <td>Big Data</td>\n",
       "      <td>2018</td>\n",
       "      <td>312</td>\n",
       "      <td>US</td>\n",
       "    </tr>\n",
       "  </tbody>\n",
       "</table>\n",
       "</div>"
      ],
      "text/plain": [
       "        Class  Year  Price Location\n",
       "C02   Network  2017    125    Korea\n",
       "C03   Economy  2018    132    Korea\n",
       "C04  Big Data  2018    312       US"
      ]
     },
     "execution_count": 15,
     "metadata": {},
     "output_type": "execute_result"
    }
   ],
   "source": [
    "# iloc 사용\n",
    "df4.iloc[1:4] # 숫자 인덱스인 경우에는 엔드 인덱스가 포함이 안되므로 [1:4]로 지정해야 함\n",
    "df4[1:4] # iloc 생략 가능"
   ]
  },
  {
   "cell_type": "code",
   "execution_count": null,
   "metadata": {},
   "outputs": [],
   "source": [
    "# 데이터프레임 색인 방법\n",
    "# 기본적으로는 컬럼 인덱스를 우선적으로 색인\n",
    "# 로우 인덱스로 색인을 하고 싶은 경우에는 loc 또는 iloc 속성 사용"
   ]
  },
  {
   "cell_type": "code",
   "execution_count": 16,
   "metadata": {
    "scrolled": true
   },
   "outputs": [
    {
     "data": {
      "text/html": [
       "<div>\n",
       "<style scoped>\n",
       "    .dataframe tbody tr th:only-of-type {\n",
       "        vertical-align: middle;\n",
       "    }\n",
       "\n",
       "    .dataframe tbody tr th {\n",
       "        vertical-align: top;\n",
       "    }\n",
       "\n",
       "    .dataframe thead th {\n",
       "        text-align: right;\n",
       "    }\n",
       "</style>\n",
       "<table border=\"1\" class=\"dataframe\">\n",
       "  <thead>\n",
       "    <tr style=\"text-align: right;\">\n",
       "      <th></th>\n",
       "      <th>Class</th>\n",
       "      <th>Year</th>\n",
       "    </tr>\n",
       "  </thead>\n",
       "  <tbody>\n",
       "    <tr>\n",
       "      <th>C02</th>\n",
       "      <td>Network</td>\n",
       "      <td>2017</td>\n",
       "    </tr>\n",
       "    <tr>\n",
       "      <th>C03</th>\n",
       "      <td>Economy</td>\n",
       "      <td>2018</td>\n",
       "    </tr>\n",
       "  </tbody>\n",
       "</table>\n",
       "</div>"
      ],
      "text/plain": [
       "       Class  Year\n",
       "C02  Network  2017\n",
       "C03  Economy  2018"
      ]
     },
     "execution_count": 16,
     "metadata": {},
     "output_type": "execute_result"
    }
   ],
   "source": [
    "# 4. 원하는 행과 열을 선택하여 조회하기 \n",
    "# C02, C03 강의의 Class와 Year만 조회\n",
    "# 01. 열(column)을 먼저 선택한 후 행(row)을 나중에 선택하기\n",
    "# Class와 Year을 list로 담기\n",
    "# C02와 C03 선택하기\n",
    "# C02와 C03은 로우 인덱스이므로 .loc를 사용하여 list로 전달\n",
    "df4[['Class', 'Year']].loc[['C02', 'C03']] \n",
    "df4[['Class', 'Year']]['C02':'C03'] # 색인 기호 안에 있는 조건이 슬라이싱인 경우에는 loc 또는iloc를 생략할 수 있음"
   ]
  },
  {
   "cell_type": "code",
   "execution_count": null,
   "metadata": {},
   "outputs": [],
   "source": [
    "# loc를 생략한다면?\n",
    "# df4[['Class', 'Year']][['C02', 'C03']] 에러발생\n",
    "# 컬럼 인덱스를 두 번 탐색하는 구문이므로 에러가 발생\n",
    "# list 기호를 없애고, 슬라이싱(:) 한다면?\n",
    "# df4[['Class', 'Year']]['C02', 'C03'] 실행 가능\n",
    "# 색인 기호 안에 있는 조건이 슬라이싱인 경우에는 loc 또는iloc를 생략할 수 있음"
   ]
  },
  {
   "cell_type": "code",
   "execution_count": 17,
   "metadata": {},
   "outputs": [
    {
     "data": {
      "text/html": [
       "<div>\n",
       "<style scoped>\n",
       "    .dataframe tbody tr th:only-of-type {\n",
       "        vertical-align: middle;\n",
       "    }\n",
       "\n",
       "    .dataframe tbody tr th {\n",
       "        vertical-align: top;\n",
       "    }\n",
       "\n",
       "    .dataframe thead th {\n",
       "        text-align: right;\n",
       "    }\n",
       "</style>\n",
       "<table border=\"1\" class=\"dataframe\">\n",
       "  <thead>\n",
       "    <tr style=\"text-align: right;\">\n",
       "      <th></th>\n",
       "      <th>Class</th>\n",
       "      <th>Year</th>\n",
       "    </tr>\n",
       "  </thead>\n",
       "  <tbody>\n",
       "    <tr>\n",
       "      <th>C02</th>\n",
       "      <td>Network</td>\n",
       "      <td>2017</td>\n",
       "    </tr>\n",
       "    <tr>\n",
       "      <th>C03</th>\n",
       "      <td>Economy</td>\n",
       "      <td>2018</td>\n",
       "    </tr>\n",
       "  </tbody>\n",
       "</table>\n",
       "</div>"
      ],
      "text/plain": [
       "       Class  Year\n",
       "C02  Network  2017\n",
       "C03  Economy  2018"
      ]
     },
     "execution_count": 17,
     "metadata": {},
     "output_type": "execute_result"
    }
   ],
   "source": [
    "# 02. 행(row)을 먼저 선택한 후 열(column)을 나중에 선택하기\n",
    "# .loc 입력 후 C02와 C03을 list로 담기\n",
    "# Class와 Year를 다시 list로 담기\n",
    "df4.loc[['C02', 'C03']][['Class', 'Year']]"
   ]
  },
  {
   "cell_type": "code",
   "execution_count": 18,
   "metadata": {},
   "outputs": [
    {
     "data": {
      "text/html": [
       "<div>\n",
       "<style scoped>\n",
       "    .dataframe tbody tr th:only-of-type {\n",
       "        vertical-align: middle;\n",
       "    }\n",
       "\n",
       "    .dataframe tbody tr th {\n",
       "        vertical-align: top;\n",
       "    }\n",
       "\n",
       "    .dataframe thead th {\n",
       "        text-align: right;\n",
       "    }\n",
       "</style>\n",
       "<table border=\"1\" class=\"dataframe\">\n",
       "  <thead>\n",
       "    <tr style=\"text-align: right;\">\n",
       "      <th></th>\n",
       "      <th>Class</th>\n",
       "      <th>Year</th>\n",
       "    </tr>\n",
       "  </thead>\n",
       "  <tbody>\n",
       "    <tr>\n",
       "      <th>C02</th>\n",
       "      <td>Network</td>\n",
       "      <td>2017</td>\n",
       "    </tr>\n",
       "    <tr>\n",
       "      <th>C03</th>\n",
       "      <td>Economy</td>\n",
       "      <td>2018</td>\n",
       "    </tr>\n",
       "  </tbody>\n",
       "</table>\n",
       "</div>"
      ],
      "text/plain": [
       "       Class  Year\n",
       "C02  Network  2017\n",
       "C03  Economy  2018"
      ]
     },
     "execution_count": 18,
     "metadata": {},
     "output_type": "execute_result"
    }
   ],
   "source": [
    "# 03. loc를 사용하여 로우 인덱스와 컬럼 인덱스 모두 지정하기\n",
    "# comma로 구분하여 앞에는 로우 인덱스, 뒤에는 컬럼 인덱스를 지정하기\n",
    "df4.loc[['C02', 'C03'], ['Class', 'Year']]"
   ]
  },
  {
   "cell_type": "code",
   "execution_count": 19,
   "metadata": {},
   "outputs": [
    {
     "data": {
      "text/html": [
       "<div>\n",
       "<style scoped>\n",
       "    .dataframe tbody tr th:only-of-type {\n",
       "        vertical-align: middle;\n",
       "    }\n",
       "\n",
       "    .dataframe tbody tr th {\n",
       "        vertical-align: top;\n",
       "    }\n",
       "\n",
       "    .dataframe thead th {\n",
       "        text-align: right;\n",
       "    }\n",
       "</style>\n",
       "<table border=\"1\" class=\"dataframe\">\n",
       "  <thead>\n",
       "    <tr style=\"text-align: right;\">\n",
       "      <th></th>\n",
       "      <th>Class</th>\n",
       "      <th>Year</th>\n",
       "    </tr>\n",
       "  </thead>\n",
       "  <tbody>\n",
       "    <tr>\n",
       "      <th>C02</th>\n",
       "      <td>Network</td>\n",
       "      <td>2017</td>\n",
       "    </tr>\n",
       "    <tr>\n",
       "      <th>C03</th>\n",
       "      <td>Economy</td>\n",
       "      <td>2018</td>\n",
       "    </tr>\n",
       "  </tbody>\n",
       "</table>\n",
       "</div>"
      ],
      "text/plain": [
       "       Class  Year\n",
       "C02  Network  2017\n",
       "C03  Economy  2018"
      ]
     },
     "execution_count": 19,
     "metadata": {},
     "output_type": "execute_result"
    }
   ],
   "source": [
    "# loc에 대하여 슬라이싱하기\n",
    "df4.loc['C02':'C03', 'Class': 'Year']"
   ]
  },
  {
   "cell_type": "code",
   "execution_count": 20,
   "metadata": {},
   "outputs": [
    {
     "data": {
      "text/html": [
       "<div>\n",
       "<style scoped>\n",
       "    .dataframe tbody tr th:only-of-type {\n",
       "        vertical-align: middle;\n",
       "    }\n",
       "\n",
       "    .dataframe tbody tr th {\n",
       "        vertical-align: top;\n",
       "    }\n",
       "\n",
       "    .dataframe thead th {\n",
       "        text-align: right;\n",
       "    }\n",
       "</style>\n",
       "<table border=\"1\" class=\"dataframe\">\n",
       "  <thead>\n",
       "    <tr style=\"text-align: right;\">\n",
       "      <th></th>\n",
       "      <th>Class</th>\n",
       "      <th>Year</th>\n",
       "      <th>Price</th>\n",
       "    </tr>\n",
       "  </thead>\n",
       "  <tbody>\n",
       "    <tr>\n",
       "      <th>C01</th>\n",
       "      <td>IoT</td>\n",
       "      <td>2018</td>\n",
       "      <td>100</td>\n",
       "    </tr>\n",
       "    <tr>\n",
       "      <th>C02</th>\n",
       "      <td>Network</td>\n",
       "      <td>2017</td>\n",
       "      <td>125</td>\n",
       "    </tr>\n",
       "    <tr>\n",
       "      <th>C03</th>\n",
       "      <td>Economy</td>\n",
       "      <td>2018</td>\n",
       "      <td>132</td>\n",
       "    </tr>\n",
       "    <tr>\n",
       "      <th>C04</th>\n",
       "      <td>Big Data</td>\n",
       "      <td>2018</td>\n",
       "      <td>312</td>\n",
       "    </tr>\n",
       "    <tr>\n",
       "      <th>C05</th>\n",
       "      <td>Cloud</td>\n",
       "      <td>2019</td>\n",
       "      <td>250</td>\n",
       "    </tr>\n",
       "  </tbody>\n",
       "</table>\n",
       "</div>"
      ],
      "text/plain": [
       "        Class  Year  Price\n",
       "C01       IoT  2018    100\n",
       "C02   Network  2017    125\n",
       "C03   Economy  2018    132\n",
       "C04  Big Data  2018    312\n",
       "C05     Cloud  2019    250"
      ]
     },
     "execution_count": 20,
     "metadata": {},
     "output_type": "execute_result"
    }
   ],
   "source": [
    "# 컬럼 인덱스는 순서가 없기 때문에 원칙적으로는 슬라이싱이 불가능\n",
    "# 슬라이싱을 하면 기본적으로 로우 인덱스를 찾게 된다.\n",
    "# 슬라이싱 조건을 충족하는 데이터가 없으므로 아무것도 출력되지 않음\n",
    "# 컬럼 인덱스를 슬라이싱하고 싶다면? loc를 사용하면 컬럼도 슬라이싱 가능\n",
    "# 콜론(:), 스타트 인덱스와 엔드 인덱스가 모두 생략되었으므로, 처음부터 끝까지 모든 데이터를 선택\n",
    "df4.loc[:, 'Class':'Price'] "
   ]
  },
  {
   "cell_type": "code",
   "execution_count": 21,
   "metadata": {},
   "outputs": [
    {
     "data": {
      "text/plain": [
       "Class         IoT\n",
       "Year         2018\n",
       "Price         100\n",
       "Location    Korea\n",
       "Name: C01, dtype: object"
      ]
     },
     "execution_count": 21,
     "metadata": {},
     "output_type": "execute_result"
    }
   ],
   "source": [
    "# 순서가 없는 컬럼 인덱스에 어떻게 적용이 될까?\n",
    "# 특정 행을 선택하면, 데이터프레임의 컬럼 인덱스 -> 시리즈의 인덱스 라벨\n",
    "# 인덱스의 라벨이 되면서 순서가 부여되므로 슬라이싱이 가능해짐\n",
    "df4.loc['C01']"
   ]
  },
  {
   "cell_type": "code",
   "execution_count": 24,
   "metadata": {},
   "outputs": [
    {
     "data": {
      "text/plain": [
       "C01    False\n",
       "C02    False\n",
       "C03    False\n",
       "C04     True\n",
       "C05     True\n",
       "Name: Price, dtype: bool"
      ]
     },
     "execution_count": 24,
     "metadata": {},
     "output_type": "execute_result"
    }
   ],
   "source": [
    "# 5. 조건 색인 \n",
    "# 특정 조건을 충족하는 데이터만 선택하는 방식\n",
    "# Price가 200 이상인 강의 선택\n",
    "# True/False로 이우어진 불리언 색인 생성\n",
    "# df4 >= 200 에러 발생\n",
    "# df4는 여러 개의 컬럼으로 이루어져있기 때문에 특정 컬럼도 함께 지정해주어야 합니다.\n",
    "# 200보다 크면 True, 작으면 False로 리턴\n",
    "df4['Price'] >= 200 # Series로 변환"
   ]
  },
  {
   "cell_type": "code",
   "execution_count": 25,
   "metadata": {},
   "outputs": [
    {
     "data": {
      "text/html": [
       "<div>\n",
       "<style scoped>\n",
       "    .dataframe tbody tr th:only-of-type {\n",
       "        vertical-align: middle;\n",
       "    }\n",
       "\n",
       "    .dataframe tbody tr th {\n",
       "        vertical-align: top;\n",
       "    }\n",
       "\n",
       "    .dataframe thead th {\n",
       "        text-align: right;\n",
       "    }\n",
       "</style>\n",
       "<table border=\"1\" class=\"dataframe\">\n",
       "  <thead>\n",
       "    <tr style=\"text-align: right;\">\n",
       "      <th></th>\n",
       "      <th>Class</th>\n",
       "      <th>Year</th>\n",
       "      <th>Price</th>\n",
       "      <th>Location</th>\n",
       "    </tr>\n",
       "  </thead>\n",
       "  <tbody>\n",
       "    <tr>\n",
       "      <th>C04</th>\n",
       "      <td>Big Data</td>\n",
       "      <td>2018</td>\n",
       "      <td>312</td>\n",
       "      <td>US</td>\n",
       "    </tr>\n",
       "    <tr>\n",
       "      <th>C05</th>\n",
       "      <td>Cloud</td>\n",
       "      <td>2019</td>\n",
       "      <td>250</td>\n",
       "      <td>Korea</td>\n",
       "    </tr>\n",
       "  </tbody>\n",
       "</table>\n",
       "</div>"
      ],
      "text/plain": [
       "        Class  Year  Price Location\n",
       "C04  Big Data  2018    312       US\n",
       "C05     Cloud  2019    250    Korea"
      ]
     },
     "execution_count": 25,
     "metadata": {},
     "output_type": "execute_result"
    }
   ],
   "source": [
    "df4[df4['Price'] >= 200]"
   ]
  },
  {
   "cell_type": "code",
   "execution_count": 28,
   "metadata": {},
   "outputs": [
    {
     "data": {
      "text/plain": [
       "C01    2018\n",
       "C02    2017\n",
       "C03    2018\n",
       "C04    2018\n",
       "C05    2019\n",
       "Name: Year, dtype: int64"
      ]
     },
     "execution_count": 28,
     "metadata": {},
     "output_type": "execute_result"
    }
   ],
   "source": [
    "# 아래 결과들이 출력되도록 코드를 완성하시오.\n",
    "# 실습 1. 'Year' 컬럼만 선택\n",
    "df4['Year']\n",
    "df4.Year # 특정 컬럼 하나만 선택할 때 사용할 수 있다."
   ]
  },
  {
   "cell_type": "code",
   "execution_count": 29,
   "metadata": {},
   "outputs": [
    {
     "data": {
      "text/html": [
       "<div>\n",
       "<style scoped>\n",
       "    .dataframe tbody tr th:only-of-type {\n",
       "        vertical-align: middle;\n",
       "    }\n",
       "\n",
       "    .dataframe tbody tr th {\n",
       "        vertical-align: top;\n",
       "    }\n",
       "\n",
       "    .dataframe thead th {\n",
       "        text-align: right;\n",
       "    }\n",
       "</style>\n",
       "<table border=\"1\" class=\"dataframe\">\n",
       "  <thead>\n",
       "    <tr style=\"text-align: right;\">\n",
       "      <th></th>\n",
       "      <th>Class</th>\n",
       "      <th>Location</th>\n",
       "    </tr>\n",
       "  </thead>\n",
       "  <tbody>\n",
       "    <tr>\n",
       "      <th>C01</th>\n",
       "      <td>IoT</td>\n",
       "      <td>Korea</td>\n",
       "    </tr>\n",
       "    <tr>\n",
       "      <th>C02</th>\n",
       "      <td>Network</td>\n",
       "      <td>Korea</td>\n",
       "    </tr>\n",
       "    <tr>\n",
       "      <th>C03</th>\n",
       "      <td>Economy</td>\n",
       "      <td>Korea</td>\n",
       "    </tr>\n",
       "    <tr>\n",
       "      <th>C04</th>\n",
       "      <td>Big Data</td>\n",
       "      <td>US</td>\n",
       "    </tr>\n",
       "    <tr>\n",
       "      <th>C05</th>\n",
       "      <td>Cloud</td>\n",
       "      <td>Korea</td>\n",
       "    </tr>\n",
       "  </tbody>\n",
       "</table>\n",
       "</div>"
      ],
      "text/plain": [
       "        Class Location\n",
       "C01       IoT    Korea\n",
       "C02   Network    Korea\n",
       "C03   Economy    Korea\n",
       "C04  Big Data       US\n",
       "C05     Cloud    Korea"
      ]
     },
     "execution_count": 29,
     "metadata": {},
     "output_type": "execute_result"
    }
   ],
   "source": [
    "# 실습 2. 'Class'와 'Location' 컬럼만 선택\n",
    "df4[['Class', 'Location']] # 색인 기호 안에 list로 2개의 컬럼을 담기"
   ]
  },
  {
   "cell_type": "code",
   "execution_count": 31,
   "metadata": {},
   "outputs": [
    {
     "data": {
      "text/html": [
       "<div>\n",
       "<style scoped>\n",
       "    .dataframe tbody tr th:only-of-type {\n",
       "        vertical-align: middle;\n",
       "    }\n",
       "\n",
       "    .dataframe tbody tr th {\n",
       "        vertical-align: top;\n",
       "    }\n",
       "\n",
       "    .dataframe thead th {\n",
       "        text-align: right;\n",
       "    }\n",
       "</style>\n",
       "<table border=\"1\" class=\"dataframe\">\n",
       "  <thead>\n",
       "    <tr style=\"text-align: right;\">\n",
       "      <th></th>\n",
       "      <th>Class</th>\n",
       "      <th>Year</th>\n",
       "      <th>Price</th>\n",
       "      <th>Location</th>\n",
       "    </tr>\n",
       "  </thead>\n",
       "  <tbody>\n",
       "    <tr>\n",
       "      <th>C01</th>\n",
       "      <td>IoT</td>\n",
       "      <td>2018</td>\n",
       "      <td>100</td>\n",
       "      <td>Korea</td>\n",
       "    </tr>\n",
       "    <tr>\n",
       "      <th>C02</th>\n",
       "      <td>Network</td>\n",
       "      <td>2017</td>\n",
       "      <td>125</td>\n",
       "      <td>Korea</td>\n",
       "    </tr>\n",
       "    <tr>\n",
       "      <th>C03</th>\n",
       "      <td>Economy</td>\n",
       "      <td>2018</td>\n",
       "      <td>132</td>\n",
       "      <td>Korea</td>\n",
       "    </tr>\n",
       "  </tbody>\n",
       "</table>\n",
       "</div>"
      ],
      "text/plain": [
       "       Class  Year  Price Location\n",
       "C01      IoT  2018    100    Korea\n",
       "C02  Network  2017    125    Korea\n",
       "C03  Economy  2018    132    Korea"
      ]
     },
     "execution_count": 31,
     "metadata": {},
     "output_type": "execute_result"
    }
   ],
   "source": [
    "# 실습 3. C01과 C03 강의의 모든 컬럼 선택\n",
    "# loc에 'C01'과 'C03'를 list로 담기\n",
    "df4.loc['C01':'C03']"
   ]
  },
  {
   "cell_type": "code",
   "execution_count": 32,
   "metadata": {
    "scrolled": true
   },
   "outputs": [
    {
     "data": {
      "text/html": [
       "<div>\n",
       "<style scoped>\n",
       "    .dataframe tbody tr th:only-of-type {\n",
       "        vertical-align: middle;\n",
       "    }\n",
       "\n",
       "    .dataframe tbody tr th {\n",
       "        vertical-align: top;\n",
       "    }\n",
       "\n",
       "    .dataframe thead th {\n",
       "        text-align: right;\n",
       "    }\n",
       "</style>\n",
       "<table border=\"1\" class=\"dataframe\">\n",
       "  <thead>\n",
       "    <tr style=\"text-align: right;\">\n",
       "      <th></th>\n",
       "      <th>Class</th>\n",
       "      <th>Price</th>\n",
       "    </tr>\n",
       "  </thead>\n",
       "  <tbody>\n",
       "    <tr>\n",
       "      <th>C01</th>\n",
       "      <td>IoT</td>\n",
       "      <td>100</td>\n",
       "    </tr>\n",
       "    <tr>\n",
       "      <th>C02</th>\n",
       "      <td>Network</td>\n",
       "      <td>125</td>\n",
       "    </tr>\n",
       "    <tr>\n",
       "      <th>C03</th>\n",
       "      <td>Economy</td>\n",
       "      <td>132</td>\n",
       "    </tr>\n",
       "  </tbody>\n",
       "</table>\n",
       "</div>"
      ],
      "text/plain": [
       "       Class  Price\n",
       "C01      IoT    100\n",
       "C02  Network    125\n",
       "C03  Economy    132"
      ]
     },
     "execution_count": 32,
     "metadata": {},
     "output_type": "execute_result"
    }
   ],
   "source": [
    "# 실습 4. C01~C03 강의의 Class와 Price만 선택\n",
    "# loc[로우 인덱스, 컬럼 인덱스]\n",
    "df4.loc['C01':'C03', ['Class', 'Price']]"
   ]
  },
  {
   "cell_type": "code",
   "execution_count": 33,
   "metadata": {},
   "outputs": [
    {
     "data": {
      "text/html": [
       "<div>\n",
       "<style scoped>\n",
       "    .dataframe tbody tr th:only-of-type {\n",
       "        vertical-align: middle;\n",
       "    }\n",
       "\n",
       "    .dataframe tbody tr th {\n",
       "        vertical-align: top;\n",
       "    }\n",
       "\n",
       "    .dataframe thead th {\n",
       "        text-align: right;\n",
       "    }\n",
       "</style>\n",
       "<table border=\"1\" class=\"dataframe\">\n",
       "  <thead>\n",
       "    <tr style=\"text-align: right;\">\n",
       "      <th></th>\n",
       "      <th>Class</th>\n",
       "      <th>Year</th>\n",
       "      <th>Price</th>\n",
       "      <th>Location</th>\n",
       "    </tr>\n",
       "  </thead>\n",
       "  <tbody>\n",
       "    <tr>\n",
       "      <th>C05</th>\n",
       "      <td>Cloud</td>\n",
       "      <td>2019</td>\n",
       "      <td>250</td>\n",
       "      <td>Korea</td>\n",
       "    </tr>\n",
       "  </tbody>\n",
       "</table>\n",
       "</div>"
      ],
      "text/plain": [
       "     Class  Year  Price Location\n",
       "C05  Cloud  2019    250    Korea"
      ]
     },
     "execution_count": 33,
     "metadata": {},
     "output_type": "execute_result"
    }
   ],
   "source": [
    "# 실습 4. 2019년도 강의만 조회\n",
    "df4[df4.Year == 2019]"
   ]
  },
  {
   "cell_type": "code",
   "execution_count": 35,
   "metadata": {},
   "outputs": [
    {
     "data": {
      "text/html": [
       "<div>\n",
       "<style scoped>\n",
       "    .dataframe tbody tr th:only-of-type {\n",
       "        vertical-align: middle;\n",
       "    }\n",
       "\n",
       "    .dataframe tbody tr th {\n",
       "        vertical-align: top;\n",
       "    }\n",
       "\n",
       "    .dataframe thead th {\n",
       "        text-align: right;\n",
       "    }\n",
       "</style>\n",
       "<table border=\"1\" class=\"dataframe\">\n",
       "  <thead>\n",
       "    <tr style=\"text-align: right;\">\n",
       "      <th></th>\n",
       "      <th>Class</th>\n",
       "      <th>Year</th>\n",
       "      <th>Price</th>\n",
       "      <th>Location</th>\n",
       "    </tr>\n",
       "  </thead>\n",
       "  <tbody>\n",
       "    <tr>\n",
       "      <th>C04</th>\n",
       "      <td>Big Data</td>\n",
       "      <td>2018</td>\n",
       "      <td>312</td>\n",
       "      <td>US</td>\n",
       "    </tr>\n",
       "  </tbody>\n",
       "</table>\n",
       "</div>"
      ],
      "text/plain": [
       "        Class  Year  Price Location\n",
       "C04  Big Data  2018    312       US"
      ]
     },
     "execution_count": 35,
     "metadata": {},
     "output_type": "execute_result"
    }
   ],
   "source": [
    "# 실습 5. 가장 가격이 비싼 강의 정보만 조회\n",
    "df4[df4.Price == df4.Price.max()]"
   ]
  },
  {
   "cell_type": "code",
   "execution_count": 38,
   "metadata": {},
   "outputs": [
    {
     "data": {
      "text/plain": [
       "C01     True\n",
       "C02    False\n",
       "C03     True\n",
       "C04     True\n",
       "C05     True\n",
       "Name: Year, dtype: bool"
      ]
     },
     "execution_count": 38,
     "metadata": {},
     "output_type": "execute_result"
    }
   ],
   "source": [
    "# 실습 6. 2018, 2019년도에 개설된 강의 조회\n",
    "# Year 컬럼 선택하기\n",
    "# isin 함수 사용\n",
    "# isin 함수 안의 list에 값이 포함되면 True, 포함되지 않으면 False로 리턴\n",
    "df4.Year.isin([2018, 2019]) "
   ]
  },
  {
   "cell_type": "code",
   "execution_count": 41,
   "metadata": {},
   "outputs": [
    {
     "data": {
      "text/html": [
       "<div>\n",
       "<style scoped>\n",
       "    .dataframe tbody tr th:only-of-type {\n",
       "        vertical-align: middle;\n",
       "    }\n",
       "\n",
       "    .dataframe tbody tr th {\n",
       "        vertical-align: top;\n",
       "    }\n",
       "\n",
       "    .dataframe thead th {\n",
       "        text-align: right;\n",
       "    }\n",
       "</style>\n",
       "<table border=\"1\" class=\"dataframe\">\n",
       "  <thead>\n",
       "    <tr style=\"text-align: right;\">\n",
       "      <th></th>\n",
       "      <th>Class</th>\n",
       "      <th>Year</th>\n",
       "      <th>Price</th>\n",
       "      <th>Location</th>\n",
       "    </tr>\n",
       "  </thead>\n",
       "  <tbody>\n",
       "    <tr>\n",
       "      <th>C01</th>\n",
       "      <td>IoT</td>\n",
       "      <td>2018</td>\n",
       "      <td>100</td>\n",
       "      <td>Korea</td>\n",
       "    </tr>\n",
       "    <tr>\n",
       "      <th>C03</th>\n",
       "      <td>Economy</td>\n",
       "      <td>2018</td>\n",
       "      <td>132</td>\n",
       "      <td>Korea</td>\n",
       "    </tr>\n",
       "  </tbody>\n",
       "</table>\n",
       "</div>"
      ],
      "text/plain": [
       "       Class  Year  Price Location\n",
       "C01      IoT  2018    100    Korea\n",
       "C03  Economy  2018    132    Korea"
      ]
     },
     "execution_count": 41,
     "metadata": {},
     "output_type": "execute_result"
    }
   ],
   "source": [
    "# 실습 7. 2018년도에 한국에서 개설된 강의 조회\n",
    "# 두 개의 조건을 모두 충족하기 위하여 and 연산 사용하기\n",
    "# and 연산을 실행하기 위해서는 각각의 조건을 괄호로 묶어주어야 함\n",
    "# 두 개의 조건을 모두 충족하는 경우에만 True로 나타남\n",
    "# 만들어진 조건을 색인 기호에 넣어주면 원하는 정보만 출력할 수 있음\n",
    "df4[(df4.Year == 2018) & (df4.Location == 'Korea')]"
   ]
  },
  {
   "cell_type": "code",
   "execution_count": 6,
   "metadata": {},
   "outputs": [
    {
     "data": {
      "text/plain": [
       "Class    Network\n",
       "Price        125\n",
       "Name: C02, dtype: object"
      ]
     },
     "execution_count": 6,
     "metadata": {},
     "output_type": "execute_result"
    }
   ],
   "source": [
    "# C02번 클래스의 Class, Price만 선택\n",
    "df4.loc['C02', ['Class', 'Price']]"
   ]
  },
  {
   "cell_type": "code",
   "execution_count": 7,
   "metadata": {},
   "outputs": [
    {
     "data": {
      "text/html": [
       "<div>\n",
       "<style scoped>\n",
       "    .dataframe tbody tr th:only-of-type {\n",
       "        vertical-align: middle;\n",
       "    }\n",
       "\n",
       "    .dataframe tbody tr th {\n",
       "        vertical-align: top;\n",
       "    }\n",
       "\n",
       "    .dataframe thead th {\n",
       "        text-align: right;\n",
       "    }\n",
       "</style>\n",
       "<table border=\"1\" class=\"dataframe\">\n",
       "  <thead>\n",
       "    <tr style=\"text-align: right;\">\n",
       "      <th></th>\n",
       "      <th>Class</th>\n",
       "      <th>Year</th>\n",
       "      <th>Price</th>\n",
       "    </tr>\n",
       "  </thead>\n",
       "  <tbody>\n",
       "    <tr>\n",
       "      <th>C02</th>\n",
       "      <td>Network</td>\n",
       "      <td>2017</td>\n",
       "      <td>125</td>\n",
       "    </tr>\n",
       "    <tr>\n",
       "      <th>C03</th>\n",
       "      <td>Economy</td>\n",
       "      <td>2018</td>\n",
       "      <td>132</td>\n",
       "    </tr>\n",
       "  </tbody>\n",
       "</table>\n",
       "</div>"
      ],
      "text/plain": [
       "       Class  Year  Price\n",
       "C02  Network  2017    125\n",
       "C03  Economy  2018    132"
      ]
     },
     "execution_count": 7,
     "metadata": {},
     "output_type": "execute_result"
    }
   ],
   "source": [
    "# C02, C03번 클래스의 Class~Price만 선택\n",
    "df4.loc[['C02', 'C03'], 'Class':'Price']"
   ]
  },
  {
   "cell_type": "code",
   "execution_count": null,
   "metadata": {},
   "outputs": [],
   "source": [
    "# 데이터프레임\n",
    "# 원하는 데이터만 선택하는 색인 방법과 원리"
   ]
  },
  {
   "cell_type": "code",
   "execution_count": null,
   "metadata": {},
   "outputs": [],
   "source": [
    "# filter()\n",
    "# 로우와 컬럼 인덱스를 동시에 색인\n",
    "# 조건색인 어려움이 있음"
   ]
  },
  {
   "cell_type": "code",
   "execution_count": null,
   "metadata": {},
   "outputs": [],
   "source": [
    "# 색인은 무조건 컬럼 인덱스를 우선한다.\n",
    "# 컬럼 인덱스 : 색인\n",
    "# 로우 인덱스 : loc, iloc 사용"
   ]
  },
  {
   "cell_type": "code",
   "execution_count": null,
   "metadata": {},
   "outputs": [],
   "source": [
    "# 인덱스 슬라이싱은 로우 인덱스에만 적용이 가능하다.\n",
    "# 로우 인덱스에는 순서가 있고 컬럼 인덱스에는 순서가 없기 때문이다.\n",
    "# 인덱스가 슬라이싱 형태로 지정된 경우라면 loc, iloc 생략 가능"
   ]
  },
  {
   "cell_type": "code",
   "execution_count": null,
   "metadata": {},
   "outputs": [],
   "source": [
    "# 조건색인\n",
    "# Series의 조건 색인 방법과 동일한 원리\n",
    "# 데이터프레임의 특정 컬럼을 선택하고 그 컬럼에 대한 조건을 만들어서 색인하기 때문"
   ]
  },
  {
   "cell_type": "markdown",
   "metadata": {},
   "source": [
    "# 4-1차시\n",
    "01. 새로운 컬럼 추가\n",
    "- 01. 고정 값 할당하기\n",
    "- 02. 기존 컬럼에 함수를 적용한 결과 할당하기\n",
    "- 03. 기존 컬럼들의 산술 연산 결과 할당하기\n",
    "02. 불필요한 컬럼 or 데이터 삭제하기(drop)"
   ]
  },
  {
   "cell_type": "markdown",
   "metadata": {},
   "source": [
    "### 1. 데이터프레임에 새로운 컬럼 추가하기"
   ]
  },
  {
   "cell_type": "code",
   "execution_count": 9,
   "metadata": {},
   "outputs": [
    {
     "data": {
      "text/html": [
       "<div>\n",
       "<style scoped>\n",
       "    .dataframe tbody tr th:only-of-type {\n",
       "        vertical-align: middle;\n",
       "    }\n",
       "\n",
       "    .dataframe tbody tr th {\n",
       "        vertical-align: top;\n",
       "    }\n",
       "\n",
       "    .dataframe thead th {\n",
       "        text-align: right;\n",
       "    }\n",
       "</style>\n",
       "<table border=\"1\" class=\"dataframe\">\n",
       "  <thead>\n",
       "    <tr style=\"text-align: right;\">\n",
       "      <th></th>\n",
       "      <th>Class</th>\n",
       "      <th>Year</th>\n",
       "      <th>Price</th>\n",
       "      <th>Location</th>\n",
       "      <th>limitStudent</th>\n",
       "    </tr>\n",
       "  </thead>\n",
       "  <tbody>\n",
       "    <tr>\n",
       "      <th>C01</th>\n",
       "      <td>IoT</td>\n",
       "      <td>2018</td>\n",
       "      <td>100</td>\n",
       "      <td>Korea</td>\n",
       "      <td>30</td>\n",
       "    </tr>\n",
       "    <tr>\n",
       "      <th>C02</th>\n",
       "      <td>Network</td>\n",
       "      <td>2017</td>\n",
       "      <td>125</td>\n",
       "      <td>Korea</td>\n",
       "      <td>30</td>\n",
       "    </tr>\n",
       "    <tr>\n",
       "      <th>C03</th>\n",
       "      <td>Economy</td>\n",
       "      <td>2018</td>\n",
       "      <td>132</td>\n",
       "      <td>Korea</td>\n",
       "      <td>30</td>\n",
       "    </tr>\n",
       "    <tr>\n",
       "      <th>C04</th>\n",
       "      <td>Big Data</td>\n",
       "      <td>2018</td>\n",
       "      <td>312</td>\n",
       "      <td>US</td>\n",
       "      <td>30</td>\n",
       "    </tr>\n",
       "    <tr>\n",
       "      <th>C05</th>\n",
       "      <td>Cloud</td>\n",
       "      <td>2019</td>\n",
       "      <td>250</td>\n",
       "      <td>Korea</td>\n",
       "      <td>30</td>\n",
       "    </tr>\n",
       "  </tbody>\n",
       "</table>\n",
       "</div>"
      ],
      "text/plain": [
       "        Class  Year  Price Location  limitStudent\n",
       "C01       IoT  2018    100    Korea            30\n",
       "C02   Network  2017    125    Korea            30\n",
       "C03   Economy  2018    132    Korea            30\n",
       "C04  Big Data  2018    312       US            30\n",
       "C05     Cloud  2019    250    Korea            30"
      ]
     },
     "execution_count": 9,
     "metadata": {},
     "output_type": "execute_result"
    }
   ],
   "source": [
    "# 컬럼 추가하기 1\n",
    "# 01. 컬럼 추가 후 값을 할당하는 방법\n",
    "# 내가 추가하고자 하는 컬럼의 명을 지정해 준 후 데이터 값을 할당해 줌\n",
    "# limitStudent 컬럼(정원)을 추가하고, 값을 모두 30으로 저장\n",
    "df4['limitStudent'] = 30\n",
    "df4"
   ]
  },
  {
   "cell_type": "code",
   "execution_count": 10,
   "metadata": {},
   "outputs": [
    {
     "data": {
      "text/html": [
       "<div>\n",
       "<style scoped>\n",
       "    .dataframe tbody tr th:only-of-type {\n",
       "        vertical-align: middle;\n",
       "    }\n",
       "\n",
       "    .dataframe tbody tr th {\n",
       "        vertical-align: top;\n",
       "    }\n",
       "\n",
       "    .dataframe thead th {\n",
       "        text-align: right;\n",
       "    }\n",
       "</style>\n",
       "<table border=\"1\" class=\"dataframe\">\n",
       "  <thead>\n",
       "    <tr style=\"text-align: right;\">\n",
       "      <th></th>\n",
       "      <th>Class</th>\n",
       "      <th>Year</th>\n",
       "      <th>Price</th>\n",
       "      <th>Location</th>\n",
       "      <th>limitStudent</th>\n",
       "    </tr>\n",
       "  </thead>\n",
       "  <tbody>\n",
       "    <tr>\n",
       "      <th>C01</th>\n",
       "      <td>IoT</td>\n",
       "      <td>2018</td>\n",
       "      <td>100</td>\n",
       "      <td>Korea</td>\n",
       "      <td>40</td>\n",
       "    </tr>\n",
       "    <tr>\n",
       "      <th>C02</th>\n",
       "      <td>Network</td>\n",
       "      <td>2017</td>\n",
       "      <td>125</td>\n",
       "      <td>Korea</td>\n",
       "      <td>40</td>\n",
       "    </tr>\n",
       "    <tr>\n",
       "      <th>C03</th>\n",
       "      <td>Economy</td>\n",
       "      <td>2018</td>\n",
       "      <td>132</td>\n",
       "      <td>Korea</td>\n",
       "      <td>40</td>\n",
       "    </tr>\n",
       "    <tr>\n",
       "      <th>C04</th>\n",
       "      <td>Big Data</td>\n",
       "      <td>2018</td>\n",
       "      <td>312</td>\n",
       "      <td>US</td>\n",
       "      <td>40</td>\n",
       "    </tr>\n",
       "    <tr>\n",
       "      <th>C05</th>\n",
       "      <td>Cloud</td>\n",
       "      <td>2019</td>\n",
       "      <td>250</td>\n",
       "      <td>Korea</td>\n",
       "      <td>40</td>\n",
       "    </tr>\n",
       "  </tbody>\n",
       "</table>\n",
       "</div>"
      ],
      "text/plain": [
       "        Class  Year  Price Location  limitStudent\n",
       "C01       IoT  2018    100    Korea            40\n",
       "C02   Network  2017    125    Korea            40\n",
       "C03   Economy  2018    132    Korea            40\n",
       "C04  Big Data  2018    312       US            40\n",
       "C05     Cloud  2019    250    Korea            40"
      ]
     },
     "execution_count": 10,
     "metadata": {},
     "output_type": "execute_result"
    }
   ],
   "source": [
    "# 할당 값을 변경하고 싶을 땐 동일한 구문을 똑같이 작성해 주면 됨\n",
    "# 데이터프레임의 특정 컬럼에 값을 할당하는 구문이 존재하는 컬럼이라면, 값이 업데이트되고, \n",
    "# 존재하지 않는 컬럼이라면, 새로운 컬럼으로 추가되고 값을 할당한다.\n",
    "df4['limitStudent'] = 40\n",
    "df4"
   ]
  },
  {
   "cell_type": "code",
   "execution_count": 11,
   "metadata": {
    "scrolled": true
   },
   "outputs": [
    {
     "data": {
      "text/html": [
       "<div>\n",
       "<style scoped>\n",
       "    .dataframe tbody tr th:only-of-type {\n",
       "        vertical-align: middle;\n",
       "    }\n",
       "\n",
       "    .dataframe tbody tr th {\n",
       "        vertical-align: top;\n",
       "    }\n",
       "\n",
       "    .dataframe thead th {\n",
       "        text-align: right;\n",
       "    }\n",
       "</style>\n",
       "<table border=\"1\" class=\"dataframe\">\n",
       "  <thead>\n",
       "    <tr style=\"text-align: right;\">\n",
       "      <th></th>\n",
       "      <th>Class</th>\n",
       "      <th>Year</th>\n",
       "      <th>Price</th>\n",
       "      <th>Location</th>\n",
       "      <th>limitStudent</th>\n",
       "      <th>numStudent</th>\n",
       "    </tr>\n",
       "  </thead>\n",
       "  <tbody>\n",
       "    <tr>\n",
       "      <th>C01</th>\n",
       "      <td>IoT</td>\n",
       "      <td>2018</td>\n",
       "      <td>100</td>\n",
       "      <td>Korea</td>\n",
       "      <td>40</td>\n",
       "      <td>25</td>\n",
       "    </tr>\n",
       "    <tr>\n",
       "      <th>C02</th>\n",
       "      <td>Network</td>\n",
       "      <td>2017</td>\n",
       "      <td>125</td>\n",
       "      <td>Korea</td>\n",
       "      <td>40</td>\n",
       "      <td>30</td>\n",
       "    </tr>\n",
       "    <tr>\n",
       "      <th>C03</th>\n",
       "      <td>Economy</td>\n",
       "      <td>2018</td>\n",
       "      <td>132</td>\n",
       "      <td>Korea</td>\n",
       "      <td>40</td>\n",
       "      <td>10</td>\n",
       "    </tr>\n",
       "    <tr>\n",
       "      <th>C04</th>\n",
       "      <td>Big Data</td>\n",
       "      <td>2018</td>\n",
       "      <td>312</td>\n",
       "      <td>US</td>\n",
       "      <td>40</td>\n",
       "      <td>23</td>\n",
       "    </tr>\n",
       "    <tr>\n",
       "      <th>C05</th>\n",
       "      <td>Cloud</td>\n",
       "      <td>2019</td>\n",
       "      <td>250</td>\n",
       "      <td>Korea</td>\n",
       "      <td>40</td>\n",
       "      <td>17</td>\n",
       "    </tr>\n",
       "  </tbody>\n",
       "</table>\n",
       "</div>"
      ],
      "text/plain": [
       "        Class  Year  Price Location  limitStudent  numStudent\n",
       "C01       IoT  2018    100    Korea            40          25\n",
       "C02   Network  2017    125    Korea            40          30\n",
       "C03   Economy  2018    132    Korea            40          10\n",
       "C04  Big Data  2018    312       US            40          23\n",
       "C05     Cloud  2019    250    Korea            40          17"
      ]
     },
     "execution_count": 11,
     "metadata": {},
     "output_type": "execute_result"
    }
   ],
   "source": [
    "# 컬럼 추가하기 2.\n",
    "# 02. 추가된 컬럼에 서로 다른 값을 할당하는 방법\n",
    "# numStudent 컬럼(수강학생수)을 추가하고, 값을 25,30,10,23,17로 저장 \n",
    "# 리스트 형태로 값을 할당\n",
    "# 새로운 컬럼을 추가할 경우, 원본 데이터프레임의 행(row)의 개수와 신규로 할당되는 값의 개수가 같아야 함\n",
    "# 값의 개수가 맞지 않을 경우 에러가 발생\n",
    "df4['numStudent'] = [25, 30, 10, 23, 17] \n",
    "df4"
   ]
  },
  {
   "cell_type": "code",
   "execution_count": 9,
   "metadata": {},
   "outputs": [],
   "source": [
    "# 컬럼 추가하기 3 (기존 컬럼에 함수를 적용한 결과로 값을 할당하기)\n",
    "# 03. 기존 컬럼의 값을 할당하여 새로운 컬럼을 추가하기\n",
    "# priceLevel 컬럼을 추가하고, \n",
    "# Price가 200과 같거나 크면, High, 200보다 작으면 Low\n",
    "# PriceLevel에 대한 컬럼은 이 Price라고 하는 값을 기준으로 자동으로 변환이 되도록\n",
    "# High, Low의 값으로 변환해주는 함수 정의하기\n",
    "# 이 함수를 기존 컬럼에 적용한 결과로 새로운 컬럼 추가하기\n",
    "# Price 컬럼의 각각의 값에 함수를 적용하기 위해 함수 생성\n",
    "# 함수 생성 방법\n",
    "# python 문법에 따라 def 키워드를 사용하여 함수명을 작성하면 됨\n",
    "# 함수 생성\n",
    "def get_plevel(X):\n",
    "    if X >= 200:\n",
    "        return 'High'\n",
    "    else:\n",
    "        return 'Low'"
   ]
  },
  {
   "cell_type": "code",
   "execution_count": null,
   "metadata": {},
   "outputs": [],
   "source": [
    "# 02. 함수의 input 값, 인자값을 작성함\n",
    "# Price 컬럼의 각각의 값에 함수를 적용하고 싶기 때문"
   ]
  },
  {
   "cell_type": "code",
   "execution_count": 13,
   "metadata": {},
   "outputs": [
    {
     "data": {
      "text/plain": [
       "Class           IoTNetworkEconomyBig DataCloud\n",
       "Year                                     10090\n",
       "Price                                      919\n",
       "Location                KoreaKoreaKoreaUSKorea\n",
       "limitStudent                               200\n",
       "numStudent                                 105\n",
       "dtype: object"
      ]
     },
     "execution_count": 13,
     "metadata": {},
     "output_type": "execute_result"
    }
   ],
   "source": [
    "# df4에 sum() 함수 실행하기\n",
    "# sum() 함수 --> 더하기 함수, 각 컬럼별로 더하기 연산을 수행함\n",
    "# 문자열(String)의 더하기 연산 = 문자열 연결(concatnate)\n",
    "# 컬럼 단위로 이 sum() 함수가 적용\n",
    "df4.sum()"
   ]
  },
  {
   "cell_type": "code",
   "execution_count": 16,
   "metadata": {},
   "outputs": [
    {
     "data": {
      "text/plain": [
       "Class           IoTNetworkEconomyBig DataCloud\n",
       "Year                                     10090\n",
       "Price                                      919\n",
       "Location                KoreaKoreaKoreaUSKorea\n",
       "limitStudent                               200\n",
       "numStudent                                 105\n",
       "dtype: object"
      ]
     },
     "execution_count": 16,
     "metadata": {},
     "output_type": "execute_result"
    }
   ],
   "source": [
    "# apply() 함수 --> 함수를 적용하기 위한 함수\n",
    "# sum() 함수를 적용하기 위한 apply() 함수를 쓸 수 있음\n",
    "# sum() 함수를 적용해도 되지만 apply() 함수를 사용해도 동일하게 동작되는 방식\n",
    "# df4에 apply() 한 후 실행하면 컬럼 단위로 sum() 함수가 적용됨\n",
    "# 각각의 컬럼들을 순회하면서 각각의 컬럼들에 sum() 이라고 하는 함수를 적용하는 것\n",
    "df4.apply('sum')\n",
    "# X값을 인자로 받아 X에 sum()을 적용한 것\n",
    "# 컬럼 단위로 순회하면서 lambda 함수의 입력값이 됨\n",
    "df4.apply(lambda X: X.sum()) "
   ]
  },
  {
   "cell_type": "code",
   "execution_count": 17,
   "metadata": {},
   "outputs": [
    {
     "name": "stdout",
     "output_type": "stream",
     "text": [
      "C01         IoT\n",
      "C02     Network\n",
      "C03     Economy\n",
      "C04    Big Data\n",
      "C05       Cloud\n",
      "Name: Class, dtype: object\n",
      "C01    2018\n",
      "C02    2017\n",
      "C03    2018\n",
      "C04    2018\n",
      "C05    2019\n",
      "Name: Year, dtype: int64\n",
      "C01    100\n",
      "C02    125\n",
      "C03    132\n",
      "C04    312\n",
      "C05    250\n",
      "Name: Price, dtype: int64\n",
      "C01    Korea\n",
      "C02    Korea\n",
      "C03    Korea\n",
      "C04       US\n",
      "C05    Korea\n",
      "Name: Location, dtype: object\n",
      "C01    40\n",
      "C02    40\n",
      "C03    40\n",
      "C04    40\n",
      "C05    40\n",
      "Name: limitStudent, dtype: int64\n",
      "C01    25\n",
      "C02    30\n",
      "C03    10\n",
      "C04    23\n",
      "C05    17\n",
      "Name: numStudent, dtype: int64\n"
     ]
    },
    {
     "data": {
      "text/plain": [
       "Class           None\n",
       "Year            None\n",
       "Price           None\n",
       "Location        None\n",
       "limitStudent    None\n",
       "numStudent      None\n",
       "dtype: object"
      ]
     },
     "execution_count": 17,
     "metadata": {},
     "output_type": "execute_result"
    }
   ],
   "source": [
    "# Price에 컬럼에 get_plevel() 함수를 적용\n",
    "# df4.apply('get_plevel') 에러발생\n",
    "# 어떤 특정 컬럼의 각각의 값에 새로운 값들을 할당하고 싶을 경우 익명 함수를 적용\n",
    "# 컬럼 단위로 X값이 할당되어 순회함\n",
    "# 컬럼 단위로 순회하면서 lambda 함수의 입력값이 됨\n",
    "df4.apply(lambda X: print(X)) "
   ]
  },
  {
   "cell_type": "code",
   "execution_count": 20,
   "metadata": {},
   "outputs": [
    {
     "name": "stdout",
     "output_type": "stream",
     "text": [
      "Class             IoT\n",
      "Year             2018\n",
      "Price             100\n",
      "Location        Korea\n",
      "limitStudent       40\n",
      "numStudent         25\n",
      "Name: C01, dtype: object\n",
      "Class           Network\n",
      "Year               2017\n",
      "Price               125\n",
      "Location          Korea\n",
      "limitStudent         40\n",
      "numStudent           30\n",
      "Name: C02, dtype: object\n",
      "Class           Economy\n",
      "Year               2018\n",
      "Price               132\n",
      "Location          Korea\n",
      "limitStudent         40\n",
      "numStudent           10\n",
      "Name: C03, dtype: object\n",
      "Class           Big Data\n",
      "Year                2018\n",
      "Price                312\n",
      "Location              US\n",
      "limitStudent          40\n",
      "numStudent            23\n",
      "Name: C04, dtype: object\n",
      "Class           Cloud\n",
      "Year             2019\n",
      "Price             250\n",
      "Location        Korea\n",
      "limitStudent       40\n",
      "numStudent         17\n",
      "Name: C05, dtype: object\n"
     ]
    },
    {
     "data": {
      "text/plain": [
       "C01    None\n",
       "C02    None\n",
       "C03    None\n",
       "C04    None\n",
       "C05    None\n",
       "dtype: object"
      ]
     },
     "execution_count": 20,
     "metadata": {},
     "output_type": "execute_result"
    }
   ],
   "source": [
    "# 로우 단위로 순회하고 싶은 경우, axis 인자를 활용함\n",
    "# [axis = 1]의 경우 로우 단위로 순회\n",
    "df4.apply(lambda X: print(X), axis = 1)"
   ]
  },
  {
   "cell_type": "code",
   "execution_count": 23,
   "metadata": {},
   "outputs": [
    {
     "data": {
      "text/html": [
       "<div>\n",
       "<style scoped>\n",
       "    .dataframe tbody tr th:only-of-type {\n",
       "        vertical-align: middle;\n",
       "    }\n",
       "\n",
       "    .dataframe tbody tr th {\n",
       "        vertical-align: top;\n",
       "    }\n",
       "\n",
       "    .dataframe thead th {\n",
       "        text-align: right;\n",
       "    }\n",
       "</style>\n",
       "<table border=\"1\" class=\"dataframe\">\n",
       "  <thead>\n",
       "    <tr style=\"text-align: right;\">\n",
       "      <th></th>\n",
       "      <th>Class</th>\n",
       "      <th>Year</th>\n",
       "      <th>Price</th>\n",
       "      <th>Location</th>\n",
       "      <th>limitStudent</th>\n",
       "      <th>numStudent</th>\n",
       "      <th>priceLevel</th>\n",
       "    </tr>\n",
       "  </thead>\n",
       "  <tbody>\n",
       "    <tr>\n",
       "      <th>C01</th>\n",
       "      <td>IoT</td>\n",
       "      <td>2018</td>\n",
       "      <td>100</td>\n",
       "      <td>Korea</td>\n",
       "      <td>40</td>\n",
       "      <td>25</td>\n",
       "      <td>Low</td>\n",
       "    </tr>\n",
       "    <tr>\n",
       "      <th>C02</th>\n",
       "      <td>Network</td>\n",
       "      <td>2017</td>\n",
       "      <td>125</td>\n",
       "      <td>Korea</td>\n",
       "      <td>40</td>\n",
       "      <td>30</td>\n",
       "      <td>Low</td>\n",
       "    </tr>\n",
       "    <tr>\n",
       "      <th>C03</th>\n",
       "      <td>Economy</td>\n",
       "      <td>2018</td>\n",
       "      <td>132</td>\n",
       "      <td>Korea</td>\n",
       "      <td>40</td>\n",
       "      <td>10</td>\n",
       "      <td>Low</td>\n",
       "    </tr>\n",
       "    <tr>\n",
       "      <th>C04</th>\n",
       "      <td>Big Data</td>\n",
       "      <td>2018</td>\n",
       "      <td>312</td>\n",
       "      <td>US</td>\n",
       "      <td>40</td>\n",
       "      <td>23</td>\n",
       "      <td>High</td>\n",
       "    </tr>\n",
       "    <tr>\n",
       "      <th>C05</th>\n",
       "      <td>Cloud</td>\n",
       "      <td>2019</td>\n",
       "      <td>250</td>\n",
       "      <td>Korea</td>\n",
       "      <td>40</td>\n",
       "      <td>17</td>\n",
       "      <td>High</td>\n",
       "    </tr>\n",
       "  </tbody>\n",
       "</table>\n",
       "</div>"
      ],
      "text/plain": [
       "        Class  Year  Price Location  limitStudent  numStudent priceLevel\n",
       "C01       IoT  2018    100    Korea            40          25        Low\n",
       "C02   Network  2017    125    Korea            40          30        Low\n",
       "C03   Economy  2018    132    Korea            40          10        Low\n",
       "C04  Big Data  2018    312       US            40          23       High\n",
       "C05     Cloud  2019    250    Korea            40          17       High"
      ]
     },
     "execution_count": 23,
     "metadata": {},
     "output_type": "execute_result"
    }
   ],
   "source": [
    "df4['priceLevel'] = df4.apply(lambda X: get_plevel(X.Price), axis = 1)  # X의 Price 값을 인자로 전달\n",
    "df4"
   ]
  },
  {
   "cell_type": "code",
   "execution_count": 12,
   "metadata": {},
   "outputs": [
    {
     "data": {
      "text/html": [
       "<div>\n",
       "<style scoped>\n",
       "    .dataframe tbody tr th:only-of-type {\n",
       "        vertical-align: middle;\n",
       "    }\n",
       "\n",
       "    .dataframe tbody tr th {\n",
       "        vertical-align: top;\n",
       "    }\n",
       "\n",
       "    .dataframe thead th {\n",
       "        text-align: right;\n",
       "    }\n",
       "</style>\n",
       "<table border=\"1\" class=\"dataframe\">\n",
       "  <thead>\n",
       "    <tr style=\"text-align: right;\">\n",
       "      <th></th>\n",
       "      <th>Class</th>\n",
       "      <th>Year</th>\n",
       "      <th>Price</th>\n",
       "      <th>Location</th>\n",
       "      <th>PriceLevel</th>\n",
       "    </tr>\n",
       "  </thead>\n",
       "  <tbody>\n",
       "    <tr>\n",
       "      <th>C01</th>\n",
       "      <td>IoT</td>\n",
       "      <td>2018</td>\n",
       "      <td>100</td>\n",
       "      <td>Korea</td>\n",
       "      <td>Low</td>\n",
       "    </tr>\n",
       "    <tr>\n",
       "      <th>C02</th>\n",
       "      <td>Network</td>\n",
       "      <td>2017</td>\n",
       "      <td>125</td>\n",
       "      <td>Korea</td>\n",
       "      <td>Low</td>\n",
       "    </tr>\n",
       "    <tr>\n",
       "      <th>C03</th>\n",
       "      <td>Economy</td>\n",
       "      <td>2018</td>\n",
       "      <td>132</td>\n",
       "      <td>Korea</td>\n",
       "      <td>Low</td>\n",
       "    </tr>\n",
       "    <tr>\n",
       "      <th>C04</th>\n",
       "      <td>Big Data</td>\n",
       "      <td>2018</td>\n",
       "      <td>312</td>\n",
       "      <td>US</td>\n",
       "      <td>High</td>\n",
       "    </tr>\n",
       "    <tr>\n",
       "      <th>C05</th>\n",
       "      <td>Cloud</td>\n",
       "      <td>2019</td>\n",
       "      <td>250</td>\n",
       "      <td>Korea</td>\n",
       "      <td>High</td>\n",
       "    </tr>\n",
       "  </tbody>\n",
       "</table>\n",
       "</div>"
      ],
      "text/plain": [
       "        Class  Year  Price Location PriceLevel\n",
       "C01       IoT  2018    100    Korea        Low\n",
       "C02   Network  2017    125    Korea        Low\n",
       "C03   Economy  2018    132    Korea        Low\n",
       "C04  Big Data  2018    312       US       High\n",
       "C05     Cloud  2019    250    Korea       High"
      ]
     },
     "execution_count": 12,
     "metadata": {},
     "output_type": "execute_result"
    }
   ],
   "source": [
    "df4['PriceLevel'] = df4.Price.apply(lambda X: get_plevel(X))\n",
    "df4"
   ]
  },
  {
   "cell_type": "code",
   "execution_count": 24,
   "metadata": {
    "scrolled": false
   },
   "outputs": [
    {
     "data": {
      "text/html": [
       "<div>\n",
       "<style scoped>\n",
       "    .dataframe tbody tr th:only-of-type {\n",
       "        vertical-align: middle;\n",
       "    }\n",
       "\n",
       "    .dataframe tbody tr th {\n",
       "        vertical-align: top;\n",
       "    }\n",
       "\n",
       "    .dataframe thead th {\n",
       "        text-align: right;\n",
       "    }\n",
       "</style>\n",
       "<table border=\"1\" class=\"dataframe\">\n",
       "  <thead>\n",
       "    <tr style=\"text-align: right;\">\n",
       "      <th></th>\n",
       "      <th>Class</th>\n",
       "      <th>Year</th>\n",
       "      <th>Price</th>\n",
       "      <th>Location</th>\n",
       "      <th>limitStudent</th>\n",
       "      <th>numStudent</th>\n",
       "      <th>priceLevel</th>\n",
       "      <th>income</th>\n",
       "    </tr>\n",
       "  </thead>\n",
       "  <tbody>\n",
       "    <tr>\n",
       "      <th>C01</th>\n",
       "      <td>IoT</td>\n",
       "      <td>2018</td>\n",
       "      <td>100</td>\n",
       "      <td>Korea</td>\n",
       "      <td>40</td>\n",
       "      <td>25</td>\n",
       "      <td>Low</td>\n",
       "      <td>2500</td>\n",
       "    </tr>\n",
       "    <tr>\n",
       "      <th>C02</th>\n",
       "      <td>Network</td>\n",
       "      <td>2017</td>\n",
       "      <td>125</td>\n",
       "      <td>Korea</td>\n",
       "      <td>40</td>\n",
       "      <td>30</td>\n",
       "      <td>Low</td>\n",
       "      <td>3750</td>\n",
       "    </tr>\n",
       "    <tr>\n",
       "      <th>C03</th>\n",
       "      <td>Economy</td>\n",
       "      <td>2018</td>\n",
       "      <td>132</td>\n",
       "      <td>Korea</td>\n",
       "      <td>40</td>\n",
       "      <td>10</td>\n",
       "      <td>Low</td>\n",
       "      <td>1320</td>\n",
       "    </tr>\n",
       "    <tr>\n",
       "      <th>C04</th>\n",
       "      <td>Big Data</td>\n",
       "      <td>2018</td>\n",
       "      <td>312</td>\n",
       "      <td>US</td>\n",
       "      <td>40</td>\n",
       "      <td>23</td>\n",
       "      <td>High</td>\n",
       "      <td>7176</td>\n",
       "    </tr>\n",
       "    <tr>\n",
       "      <th>C05</th>\n",
       "      <td>Cloud</td>\n",
       "      <td>2019</td>\n",
       "      <td>250</td>\n",
       "      <td>Korea</td>\n",
       "      <td>40</td>\n",
       "      <td>17</td>\n",
       "      <td>High</td>\n",
       "      <td>4250</td>\n",
       "    </tr>\n",
       "  </tbody>\n",
       "</table>\n",
       "</div>"
      ],
      "text/plain": [
       "        Class  Year  Price Location  limitStudent  numStudent priceLevel  \\\n",
       "C01       IoT  2018    100    Korea            40          25        Low   \n",
       "C02   Network  2017    125    Korea            40          30        Low   \n",
       "C03   Economy  2018    132    Korea            40          10        Low   \n",
       "C04  Big Data  2018    312       US            40          23       High   \n",
       "C05     Cloud  2019    250    Korea            40          17       High   \n",
       "\n",
       "     income  \n",
       "C01    2500  \n",
       "C02    3750  \n",
       "C03    1320  \n",
       "C04    7176  \n",
       "C05    4250  "
      ]
     },
     "execution_count": 24,
     "metadata": {},
     "output_type": "execute_result"
    }
   ],
   "source": [
    "# 컬럼 추가하기 4 (기존 컬럼을 이용하여 새 컬럼 추가하기)\n",
    "# income 컬럼을 추가하고, Price와 numStudent의 값을 곱한 값으로 할당\n",
    "df4['income'] = df4.Price * df4.numStudent\n",
    "df4"
   ]
  },
  {
   "cell_type": "code",
   "execution_count": null,
   "metadata": {},
   "outputs": [],
   "source": [
    "# 산술 연산"
   ]
  },
  {
   "cell_type": "code",
   "execution_count": 25,
   "metadata": {},
   "outputs": [
    {
     "data": {
      "text/plain": [
       "15"
      ]
     },
     "execution_count": 25,
     "metadata": {},
     "output_type": "execute_result"
    }
   ],
   "source": [
    "# 1. 두 값의 연산\n",
    "5+10"
   ]
  },
  {
   "cell_type": "code",
   "execution_count": 26,
   "metadata": {},
   "outputs": [],
   "source": [
    "# 2. 1차원 데이터와 값 간의 연산\n",
    "sr = Series([3,5,7,9])"
   ]
  },
  {
   "cell_type": "code",
   "execution_count": 27,
   "metadata": {},
   "outputs": [
    {
     "data": {
      "text/plain": [
       "0    103\n",
       "1    105\n",
       "2    107\n",
       "3    109\n",
       "dtype: int64"
      ]
     },
     "execution_count": 27,
     "metadata": {},
     "output_type": "execute_result"
    }
   ],
   "source": [
    "# 시리즈 생성 후 100을 더할 경우\n",
    "# 시리즈의 각 항목 값에 100씩 더해짐\n",
    "sr + 100"
   ]
  },
  {
   "cell_type": "code",
   "execution_count": 29,
   "metadata": {},
   "outputs": [],
   "source": [
    "# 3. 1차원 데이터들 간의 연산\n",
    "# 1차원 데이터들 간의 산술연산은 같은 인덱스 라벨의 값들끼리 산술연산이 수행된다.\n",
    "sr2020 = Series([4500, 2800, 3000], index = ['삼성', '롯데', 'LG'])\n",
    "sr2021 = Series([4800, 3500, 2500], index = ['삼성', '롯데', 'SK'])"
   ]
  },
  {
   "cell_type": "code",
   "execution_count": 30,
   "metadata": {},
   "outputs": [
    {
     "data": {
      "text/plain": [
       "LG    3000.0\n",
       "SK    2500.0\n",
       "롯데    6300.0\n",
       "삼성    9300.0\n",
       "dtype: float64"
      ]
     },
     "execution_count": 30,
     "metadata": {},
     "output_type": "execute_result"
    }
   ],
   "source": [
    "# add() 함수를 통한 연산 수행 + fill_value 인자 사용 = sr2020.add(sr2021, fill_value = 0)\n",
    "# 한쪽이 없는 경우 NaN값이 아니라 0으로 처리해서 산술 연산을 수행할 수 있음\n",
    "# 시리즈 간의 산술연산을 수행할 경우 인덱스 라벨이 같은 항목들끼리 산술연산이 수행됨\n",
    "# sr2020 + sr2021\n",
    "sr2020.add(sr2021, fill_value = 0)"
   ]
  },
  {
   "cell_type": "code",
   "execution_count": null,
   "metadata": {},
   "outputs": [],
   "source": [
    "# 산술 연산 함수\n",
    "# + : add()\n",
    "# - : sub()\n",
    "# X : mul()\n",
    "# / : div()"
   ]
  },
  {
   "cell_type": "code",
   "execution_count": 33,
   "metadata": {
    "scrolled": true
   },
   "outputs": [
    {
     "data": {
      "text/html": [
       "<div>\n",
       "<style scoped>\n",
       "    .dataframe tbody tr th:only-of-type {\n",
       "        vertical-align: middle;\n",
       "    }\n",
       "\n",
       "    .dataframe tbody tr th {\n",
       "        vertical-align: top;\n",
       "    }\n",
       "\n",
       "    .dataframe thead th {\n",
       "        text-align: right;\n",
       "    }\n",
       "</style>\n",
       "<table border=\"1\" class=\"dataframe\">\n",
       "  <thead>\n",
       "    <tr style=\"text-align: right;\">\n",
       "      <th></th>\n",
       "      <th>Class</th>\n",
       "      <th>Year</th>\n",
       "      <th>Price</th>\n",
       "      <th>Location</th>\n",
       "      <th>limitStudent</th>\n",
       "      <th>numStudent</th>\n",
       "      <th>priceLevel</th>\n",
       "      <th>income</th>\n",
       "      <th>rate</th>\n",
       "    </tr>\n",
       "  </thead>\n",
       "  <tbody>\n",
       "    <tr>\n",
       "      <th>C01</th>\n",
       "      <td>IoT</td>\n",
       "      <td>2018</td>\n",
       "      <td>100</td>\n",
       "      <td>Korea</td>\n",
       "      <td>40</td>\n",
       "      <td>25</td>\n",
       "      <td>Low</td>\n",
       "      <td>2500</td>\n",
       "      <td>62.5</td>\n",
       "    </tr>\n",
       "    <tr>\n",
       "      <th>C02</th>\n",
       "      <td>Network</td>\n",
       "      <td>2017</td>\n",
       "      <td>125</td>\n",
       "      <td>Korea</td>\n",
       "      <td>40</td>\n",
       "      <td>30</td>\n",
       "      <td>Low</td>\n",
       "      <td>3750</td>\n",
       "      <td>75.0</td>\n",
       "    </tr>\n",
       "    <tr>\n",
       "      <th>C03</th>\n",
       "      <td>Economy</td>\n",
       "      <td>2018</td>\n",
       "      <td>132</td>\n",
       "      <td>Korea</td>\n",
       "      <td>40</td>\n",
       "      <td>10</td>\n",
       "      <td>Low</td>\n",
       "      <td>1320</td>\n",
       "      <td>25.0</td>\n",
       "    </tr>\n",
       "    <tr>\n",
       "      <th>C04</th>\n",
       "      <td>Big Data</td>\n",
       "      <td>2018</td>\n",
       "      <td>312</td>\n",
       "      <td>US</td>\n",
       "      <td>40</td>\n",
       "      <td>23</td>\n",
       "      <td>High</td>\n",
       "      <td>7176</td>\n",
       "      <td>57.5</td>\n",
       "    </tr>\n",
       "    <tr>\n",
       "      <th>C05</th>\n",
       "      <td>Cloud</td>\n",
       "      <td>2019</td>\n",
       "      <td>250</td>\n",
       "      <td>Korea</td>\n",
       "      <td>40</td>\n",
       "      <td>17</td>\n",
       "      <td>High</td>\n",
       "      <td>4250</td>\n",
       "      <td>42.5</td>\n",
       "    </tr>\n",
       "  </tbody>\n",
       "</table>\n",
       "</div>"
      ],
      "text/plain": [
       "        Class  Year  Price Location  limitStudent  numStudent priceLevel  \\\n",
       "C01       IoT  2018    100    Korea            40          25        Low   \n",
       "C02   Network  2017    125    Korea            40          30        Low   \n",
       "C03   Economy  2018    132    Korea            40          10        Low   \n",
       "C04  Big Data  2018    312       US            40          23       High   \n",
       "C05     Cloud  2019    250    Korea            40          17       High   \n",
       "\n",
       "     income  rate  \n",
       "C01    2500  62.5  \n",
       "C02    3750  75.0  \n",
       "C03    1320  25.0  \n",
       "C04    7176  57.5  \n",
       "C05    4250  42.5  "
      ]
     },
     "execution_count": 33,
     "metadata": {},
     "output_type": "execute_result"
    }
   ],
   "source": [
    "# 실습. rate 컬럼을 추가하고, 충원율을 계산하여 할당. \n",
    "# [limitStudent]와 [numStudent]의 기존 컬럼 값을 가지고 할당할 수 있음\n",
    "# 충원율은 정원(limitStudent) 대비 수강학생수(numStudent) 비율\n",
    "# [numStudent]의 컬럼 값을 [limitStudent]로 나누면 됨\n",
    "# rate는 각각의 강의에 해당하는 정원 수와 수강 학생 수를 기반으로 계산된 것\n",
    "df4['rate'] = df4.numStudent / df4.limitStudent * 100 \n",
    "df4"
   ]
  },
  {
   "cell_type": "code",
   "execution_count": 34,
   "metadata": {},
   "outputs": [
    {
     "data": {
      "text/html": [
       "<div>\n",
       "<style scoped>\n",
       "    .dataframe tbody tr th:only-of-type {\n",
       "        vertical-align: middle;\n",
       "    }\n",
       "\n",
       "    .dataframe tbody tr th {\n",
       "        vertical-align: top;\n",
       "    }\n",
       "\n",
       "    .dataframe thead th {\n",
       "        text-align: right;\n",
       "    }\n",
       "</style>\n",
       "<table border=\"1\" class=\"dataframe\">\n",
       "  <thead>\n",
       "    <tr style=\"text-align: right;\">\n",
       "      <th></th>\n",
       "      <th>Class</th>\n",
       "      <th>Year</th>\n",
       "      <th>Price</th>\n",
       "      <th>Location</th>\n",
       "      <th>limitStudent</th>\n",
       "      <th>numStudent</th>\n",
       "      <th>priceLevel</th>\n",
       "      <th>income</th>\n",
       "      <th>rate</th>\n",
       "    </tr>\n",
       "  </thead>\n",
       "  <tbody>\n",
       "    <tr>\n",
       "      <th>C01</th>\n",
       "      <td>IoT</td>\n",
       "      <td>2018</td>\n",
       "      <td>100</td>\n",
       "      <td>Korea</td>\n",
       "      <td>40</td>\n",
       "      <td>25</td>\n",
       "      <td>Low</td>\n",
       "      <td>2500</td>\n",
       "      <td>62.0</td>\n",
       "    </tr>\n",
       "    <tr>\n",
       "      <th>C02</th>\n",
       "      <td>Network</td>\n",
       "      <td>2017</td>\n",
       "      <td>125</td>\n",
       "      <td>Korea</td>\n",
       "      <td>40</td>\n",
       "      <td>30</td>\n",
       "      <td>Low</td>\n",
       "      <td>3750</td>\n",
       "      <td>75.0</td>\n",
       "    </tr>\n",
       "    <tr>\n",
       "      <th>C03</th>\n",
       "      <td>Economy</td>\n",
       "      <td>2018</td>\n",
       "      <td>132</td>\n",
       "      <td>Korea</td>\n",
       "      <td>40</td>\n",
       "      <td>10</td>\n",
       "      <td>Low</td>\n",
       "      <td>1320</td>\n",
       "      <td>25.0</td>\n",
       "    </tr>\n",
       "    <tr>\n",
       "      <th>C04</th>\n",
       "      <td>Big Data</td>\n",
       "      <td>2018</td>\n",
       "      <td>312</td>\n",
       "      <td>US</td>\n",
       "      <td>40</td>\n",
       "      <td>23</td>\n",
       "      <td>High</td>\n",
       "      <td>7176</td>\n",
       "      <td>57.0</td>\n",
       "    </tr>\n",
       "    <tr>\n",
       "      <th>C05</th>\n",
       "      <td>Cloud</td>\n",
       "      <td>2019</td>\n",
       "      <td>250</td>\n",
       "      <td>Korea</td>\n",
       "      <td>40</td>\n",
       "      <td>17</td>\n",
       "      <td>High</td>\n",
       "      <td>4250</td>\n",
       "      <td>42.0</td>\n",
       "    </tr>\n",
       "  </tbody>\n",
       "</table>\n",
       "</div>"
      ],
      "text/plain": [
       "        Class  Year  Price Location  limitStudent  numStudent priceLevel  \\\n",
       "C01       IoT  2018    100    Korea            40          25        Low   \n",
       "C02   Network  2017    125    Korea            40          30        Low   \n",
       "C03   Economy  2018    132    Korea            40          10        Low   \n",
       "C04  Big Data  2018    312       US            40          23       High   \n",
       "C05     Cloud  2019    250    Korea            40          17       High   \n",
       "\n",
       "     income  rate  \n",
       "C01    2500  62.0  \n",
       "C02    3750  75.0  \n",
       "C03    1320  25.0  \n",
       "C04    7176  57.0  \n",
       "C05    4250  42.0  "
      ]
     },
     "execution_count": 34,
     "metadata": {},
     "output_type": "execute_result"
    }
   ],
   "source": [
    "# 충원율을 반올림 하고 싶은 경우 [round() 함수] 사용\n",
    "# 소수점 몇 번째 자리에서 반올림할 것인지를 인자값으로 주면 됨\n",
    "# 0이라고 하는 것은 소수점 첫째 자리에서 반올림해서 정수의 형태로 변환을 해 달라고 하는 것\n",
    "df4.round(0)"
   ]
  },
  {
   "cell_type": "code",
   "execution_count": 36,
   "metadata": {},
   "outputs": [
    {
     "data": {
      "text/html": [
       "<div>\n",
       "<style scoped>\n",
       "    .dataframe tbody tr th:only-of-type {\n",
       "        vertical-align: middle;\n",
       "    }\n",
       "\n",
       "    .dataframe tbody tr th {\n",
       "        vertical-align: top;\n",
       "    }\n",
       "\n",
       "    .dataframe thead th {\n",
       "        text-align: right;\n",
       "    }\n",
       "</style>\n",
       "<table border=\"1\" class=\"dataframe\">\n",
       "  <thead>\n",
       "    <tr style=\"text-align: right;\">\n",
       "      <th></th>\n",
       "      <th>Class</th>\n",
       "      <th>Year</th>\n",
       "      <th>Price</th>\n",
       "      <th>Location</th>\n",
       "      <th>limitStudent</th>\n",
       "      <th>numStudent</th>\n",
       "      <th>priceLevel</th>\n",
       "      <th>income</th>\n",
       "      <th>rate</th>\n",
       "    </tr>\n",
       "  </thead>\n",
       "  <tbody>\n",
       "    <tr>\n",
       "      <th>C01</th>\n",
       "      <td>IoT</td>\n",
       "      <td>2018</td>\n",
       "      <td>100</td>\n",
       "      <td>Korea</td>\n",
       "      <td>40</td>\n",
       "      <td>25</td>\n",
       "      <td>Low</td>\n",
       "      <td>2500</td>\n",
       "      <td>62.0</td>\n",
       "    </tr>\n",
       "    <tr>\n",
       "      <th>C02</th>\n",
       "      <td>Network</td>\n",
       "      <td>2017</td>\n",
       "      <td>125</td>\n",
       "      <td>Korea</td>\n",
       "      <td>40</td>\n",
       "      <td>30</td>\n",
       "      <td>Low</td>\n",
       "      <td>3750</td>\n",
       "      <td>75.0</td>\n",
       "    </tr>\n",
       "    <tr>\n",
       "      <th>C03</th>\n",
       "      <td>Economy</td>\n",
       "      <td>2018</td>\n",
       "      <td>132</td>\n",
       "      <td>Korea</td>\n",
       "      <td>40</td>\n",
       "      <td>10</td>\n",
       "      <td>Low</td>\n",
       "      <td>1320</td>\n",
       "      <td>25.0</td>\n",
       "    </tr>\n",
       "    <tr>\n",
       "      <th>C04</th>\n",
       "      <td>Big Data</td>\n",
       "      <td>2018</td>\n",
       "      <td>312</td>\n",
       "      <td>US</td>\n",
       "      <td>40</td>\n",
       "      <td>23</td>\n",
       "      <td>High</td>\n",
       "      <td>7176</td>\n",
       "      <td>57.0</td>\n",
       "    </tr>\n",
       "    <tr>\n",
       "      <th>C05</th>\n",
       "      <td>Cloud</td>\n",
       "      <td>2019</td>\n",
       "      <td>250</td>\n",
       "      <td>Korea</td>\n",
       "      <td>40</td>\n",
       "      <td>17</td>\n",
       "      <td>High</td>\n",
       "      <td>4250</td>\n",
       "      <td>42.0</td>\n",
       "    </tr>\n",
       "  </tbody>\n",
       "</table>\n",
       "</div>"
      ],
      "text/plain": [
       "        Class  Year  Price Location  limitStudent  numStudent priceLevel  \\\n",
       "C01       IoT  2018    100    Korea            40          25        Low   \n",
       "C02   Network  2017    125    Korea            40          30        Low   \n",
       "C03   Economy  2018    132    Korea            40          10        Low   \n",
       "C04  Big Data  2018    312       US            40          23       High   \n",
       "C05     Cloud  2019    250    Korea            40          17       High   \n",
       "\n",
       "     income  rate  \n",
       "C01    2500  62.0  \n",
       "C02    3750  75.0  \n",
       "C03    1320  25.0  \n",
       "C04    7176  57.0  \n",
       "C05    4250  42.0  "
      ]
     },
     "execution_count": 36,
     "metadata": {},
     "output_type": "execute_result"
    }
   ],
   "source": [
    "# 데이터프레임의 rate라고 하는 컬럼만 소수점 몇 번째 자리로 하고 싶을 경우\n",
    "# key value의 형태로 지정해주면 됨\n",
    "df4.round({'rate': 0})"
   ]
  },
  {
   "cell_type": "markdown",
   "metadata": {},
   "source": [
    "### 2. 불필요한 컬럼이나 데이터 삭제하기"
   ]
  },
  {
   "cell_type": "code",
   "execution_count": null,
   "metadata": {},
   "outputs": [],
   "source": [
    "# drop()\n",
    "# 첫 번째 인자 : 삭제하고자 하는 인덱스명\n",
    "# 두 번째 인자 : 축(0 or 1), axis"
   ]
  },
  {
   "cell_type": "code",
   "execution_count": 37,
   "metadata": {},
   "outputs": [
    {
     "data": {
      "text/html": [
       "<div>\n",
       "<style scoped>\n",
       "    .dataframe tbody tr th:only-of-type {\n",
       "        vertical-align: middle;\n",
       "    }\n",
       "\n",
       "    .dataframe tbody tr th {\n",
       "        vertical-align: top;\n",
       "    }\n",
       "\n",
       "    .dataframe thead th {\n",
       "        text-align: right;\n",
       "    }\n",
       "</style>\n",
       "<table border=\"1\" class=\"dataframe\">\n",
       "  <thead>\n",
       "    <tr style=\"text-align: right;\">\n",
       "      <th></th>\n",
       "      <th>Class</th>\n",
       "      <th>Year</th>\n",
       "      <th>Price</th>\n",
       "      <th>Location</th>\n",
       "      <th>limitStudent</th>\n",
       "      <th>numStudent</th>\n",
       "      <th>priceLevel</th>\n",
       "      <th>income</th>\n",
       "      <th>rate</th>\n",
       "    </tr>\n",
       "  </thead>\n",
       "  <tbody>\n",
       "    <tr>\n",
       "      <th>C01</th>\n",
       "      <td>IoT</td>\n",
       "      <td>2018</td>\n",
       "      <td>100</td>\n",
       "      <td>Korea</td>\n",
       "      <td>40</td>\n",
       "      <td>25</td>\n",
       "      <td>Low</td>\n",
       "      <td>2500</td>\n",
       "      <td>62.5</td>\n",
       "    </tr>\n",
       "    <tr>\n",
       "      <th>C02</th>\n",
       "      <td>Network</td>\n",
       "      <td>2017</td>\n",
       "      <td>125</td>\n",
       "      <td>Korea</td>\n",
       "      <td>40</td>\n",
       "      <td>30</td>\n",
       "      <td>Low</td>\n",
       "      <td>3750</td>\n",
       "      <td>75.0</td>\n",
       "    </tr>\n",
       "    <tr>\n",
       "      <th>C03</th>\n",
       "      <td>Economy</td>\n",
       "      <td>2018</td>\n",
       "      <td>132</td>\n",
       "      <td>Korea</td>\n",
       "      <td>40</td>\n",
       "      <td>10</td>\n",
       "      <td>Low</td>\n",
       "      <td>1320</td>\n",
       "      <td>25.0</td>\n",
       "    </tr>\n",
       "    <tr>\n",
       "      <th>C04</th>\n",
       "      <td>Big Data</td>\n",
       "      <td>2018</td>\n",
       "      <td>312</td>\n",
       "      <td>US</td>\n",
       "      <td>40</td>\n",
       "      <td>23</td>\n",
       "      <td>High</td>\n",
       "      <td>7176</td>\n",
       "      <td>57.5</td>\n",
       "    </tr>\n",
       "  </tbody>\n",
       "</table>\n",
       "</div>"
      ],
      "text/plain": [
       "        Class  Year  Price Location  limitStudent  numStudent priceLevel  \\\n",
       "C01       IoT  2018    100    Korea            40          25        Low   \n",
       "C02   Network  2017    125    Korea            40          30        Low   \n",
       "C03   Economy  2018    132    Korea            40          10        Low   \n",
       "C04  Big Data  2018    312       US            40          23       High   \n",
       "\n",
       "     income  rate  \n",
       "C01    2500  62.5  \n",
       "C02    3750  75.0  \n",
       "C03    1320  25.0  \n",
       "C04    7176  57.5  "
      ]
     },
     "execution_count": 37,
     "metadata": {},
     "output_type": "execute_result"
    }
   ],
   "source": [
    "# C05 과목 삭제하기\n",
    "# 첫 번째 인자 : 'C05' 인덱스 지정\n",
    "# 두 번째 인자 : 0으로 지정(로우 인덱스를 의미)\n",
    "df4.drop('C05', 0)"
   ]
  },
  {
   "cell_type": "code",
   "execution_count": 39,
   "metadata": {},
   "outputs": [
    {
     "data": {
      "text/html": [
       "<div>\n",
       "<style scoped>\n",
       "    .dataframe tbody tr th:only-of-type {\n",
       "        vertical-align: middle;\n",
       "    }\n",
       "\n",
       "    .dataframe tbody tr th {\n",
       "        vertical-align: top;\n",
       "    }\n",
       "\n",
       "    .dataframe thead th {\n",
       "        text-align: right;\n",
       "    }\n",
       "</style>\n",
       "<table border=\"1\" class=\"dataframe\">\n",
       "  <thead>\n",
       "    <tr style=\"text-align: right;\">\n",
       "      <th></th>\n",
       "      <th>Class</th>\n",
       "      <th>Year</th>\n",
       "      <th>Price</th>\n",
       "      <th>Location</th>\n",
       "      <th>limitStudent</th>\n",
       "      <th>numStudent</th>\n",
       "      <th>income</th>\n",
       "      <th>rate</th>\n",
       "    </tr>\n",
       "  </thead>\n",
       "  <tbody>\n",
       "    <tr>\n",
       "      <th>C01</th>\n",
       "      <td>IoT</td>\n",
       "      <td>2018</td>\n",
       "      <td>100</td>\n",
       "      <td>Korea</td>\n",
       "      <td>40</td>\n",
       "      <td>25</td>\n",
       "      <td>2500</td>\n",
       "      <td>62.5</td>\n",
       "    </tr>\n",
       "    <tr>\n",
       "      <th>C02</th>\n",
       "      <td>Network</td>\n",
       "      <td>2017</td>\n",
       "      <td>125</td>\n",
       "      <td>Korea</td>\n",
       "      <td>40</td>\n",
       "      <td>30</td>\n",
       "      <td>3750</td>\n",
       "      <td>75.0</td>\n",
       "    </tr>\n",
       "    <tr>\n",
       "      <th>C03</th>\n",
       "      <td>Economy</td>\n",
       "      <td>2018</td>\n",
       "      <td>132</td>\n",
       "      <td>Korea</td>\n",
       "      <td>40</td>\n",
       "      <td>10</td>\n",
       "      <td>1320</td>\n",
       "      <td>25.0</td>\n",
       "    </tr>\n",
       "    <tr>\n",
       "      <th>C04</th>\n",
       "      <td>Big Data</td>\n",
       "      <td>2018</td>\n",
       "      <td>312</td>\n",
       "      <td>US</td>\n",
       "      <td>40</td>\n",
       "      <td>23</td>\n",
       "      <td>7176</td>\n",
       "      <td>57.5</td>\n",
       "    </tr>\n",
       "    <tr>\n",
       "      <th>C05</th>\n",
       "      <td>Cloud</td>\n",
       "      <td>2019</td>\n",
       "      <td>250</td>\n",
       "      <td>Korea</td>\n",
       "      <td>40</td>\n",
       "      <td>17</td>\n",
       "      <td>4250</td>\n",
       "      <td>42.5</td>\n",
       "    </tr>\n",
       "  </tbody>\n",
       "</table>\n",
       "</div>"
      ],
      "text/plain": [
       "        Class  Year  Price Location  limitStudent  numStudent  income  rate\n",
       "C01       IoT  2018    100    Korea            40          25    2500  62.5\n",
       "C02   Network  2017    125    Korea            40          30    3750  75.0\n",
       "C03   Economy  2018    132    Korea            40          10    1320  25.0\n",
       "C04  Big Data  2018    312       US            40          23    7176  57.5\n",
       "C05     Cloud  2019    250    Korea            40          17    4250  42.5"
      ]
     },
     "execution_count": 39,
     "metadata": {},
     "output_type": "execute_result"
    }
   ],
   "source": [
    "# priceLevel 컬럼 삭제하기\n",
    "# 첫 번째 인자 : 'priceLevel' 인덱스 지정\n",
    "# 두 번째 인자 : 1로 지정(컬럼 인덱스를 의미)\n",
    "df4.drop('priceLevel', 1)"
   ]
  },
  {
   "cell_type": "code",
   "execution_count": 43,
   "metadata": {},
   "outputs": [
    {
     "data": {
      "text/html": [
       "<div>\n",
       "<style scoped>\n",
       "    .dataframe tbody tr th:only-of-type {\n",
       "        vertical-align: middle;\n",
       "    }\n",
       "\n",
       "    .dataframe tbody tr th {\n",
       "        vertical-align: top;\n",
       "    }\n",
       "\n",
       "    .dataframe thead th {\n",
       "        text-align: right;\n",
       "    }\n",
       "</style>\n",
       "<table border=\"1\" class=\"dataframe\">\n",
       "  <thead>\n",
       "    <tr style=\"text-align: right;\">\n",
       "      <th></th>\n",
       "      <th>Class</th>\n",
       "      <th>Year</th>\n",
       "      <th>Price</th>\n",
       "      <th>Location</th>\n",
       "      <th>limitStudent</th>\n",
       "      <th>numStudent</th>\n",
       "      <th>income</th>\n",
       "      <th>rate</th>\n",
       "    </tr>\n",
       "  </thead>\n",
       "  <tbody>\n",
       "    <tr>\n",
       "      <th>C01</th>\n",
       "      <td>IoT</td>\n",
       "      <td>2018</td>\n",
       "      <td>100</td>\n",
       "      <td>Korea</td>\n",
       "      <td>40</td>\n",
       "      <td>25</td>\n",
       "      <td>2500</td>\n",
       "      <td>62.5</td>\n",
       "    </tr>\n",
       "    <tr>\n",
       "      <th>C02</th>\n",
       "      <td>Network</td>\n",
       "      <td>2017</td>\n",
       "      <td>125</td>\n",
       "      <td>Korea</td>\n",
       "      <td>40</td>\n",
       "      <td>30</td>\n",
       "      <td>3750</td>\n",
       "      <td>75.0</td>\n",
       "    </tr>\n",
       "    <tr>\n",
       "      <th>C03</th>\n",
       "      <td>Economy</td>\n",
       "      <td>2018</td>\n",
       "      <td>132</td>\n",
       "      <td>Korea</td>\n",
       "      <td>40</td>\n",
       "      <td>10</td>\n",
       "      <td>1320</td>\n",
       "      <td>25.0</td>\n",
       "    </tr>\n",
       "    <tr>\n",
       "      <th>C04</th>\n",
       "      <td>Big Data</td>\n",
       "      <td>2018</td>\n",
       "      <td>312</td>\n",
       "      <td>US</td>\n",
       "      <td>40</td>\n",
       "      <td>23</td>\n",
       "      <td>7176</td>\n",
       "      <td>57.5</td>\n",
       "    </tr>\n",
       "    <tr>\n",
       "      <th>C05</th>\n",
       "      <td>Cloud</td>\n",
       "      <td>2019</td>\n",
       "      <td>250</td>\n",
       "      <td>Korea</td>\n",
       "      <td>40</td>\n",
       "      <td>17</td>\n",
       "      <td>4250</td>\n",
       "      <td>42.5</td>\n",
       "    </tr>\n",
       "  </tbody>\n",
       "</table>\n",
       "</div>"
      ],
      "text/plain": [
       "        Class  Year  Price Location  limitStudent  numStudent  income  rate\n",
       "C01       IoT  2018    100    Korea            40          25    2500  62.5\n",
       "C02   Network  2017    125    Korea            40          30    3750  75.0\n",
       "C03   Economy  2018    132    Korea            40          10    1320  25.0\n",
       "C04  Big Data  2018    312       US            40          23    7176  57.5\n",
       "C05     Cloud  2019    250    Korea            40          17    4250  42.5"
      ]
     },
     "execution_count": 43,
     "metadata": {},
     "output_type": "execute_result"
    }
   ],
   "source": [
    "# 함수를 실행한 결과가 output에 출력이 됨\n",
    "# 출력은 되지만 실제로 원본 데이터에는 함수에 대한 결과가 반영되지 않음\n",
    "# 원본을 변경하는 방법\n",
    "# 01. 인자를 하나 더 추가하기\n",
    "# inplace 인자를 False -> True로 변경해주면 원본 데이터에 반영됨\n",
    "df4.drop('priceLevel', 1, inplace = True)\n",
    "df4"
   ]
  },
  {
   "cell_type": "code",
   "execution_count": 46,
   "metadata": {},
   "outputs": [
    {
     "data": {
      "text/html": [
       "<div>\n",
       "<style scoped>\n",
       "    .dataframe tbody tr th:only-of-type {\n",
       "        vertical-align: middle;\n",
       "    }\n",
       "\n",
       "    .dataframe tbody tr th {\n",
       "        vertical-align: top;\n",
       "    }\n",
       "\n",
       "    .dataframe thead th {\n",
       "        text-align: right;\n",
       "    }\n",
       "</style>\n",
       "<table border=\"1\" class=\"dataframe\">\n",
       "  <thead>\n",
       "    <tr style=\"text-align: right;\">\n",
       "      <th></th>\n",
       "      <th>Class</th>\n",
       "      <th>Year</th>\n",
       "      <th>Price</th>\n",
       "      <th>Location</th>\n",
       "      <th>limitStudent</th>\n",
       "      <th>numStudent</th>\n",
       "      <th>rate</th>\n",
       "    </tr>\n",
       "  </thead>\n",
       "  <tbody>\n",
       "    <tr>\n",
       "      <th>C01</th>\n",
       "      <td>IoT</td>\n",
       "      <td>2018</td>\n",
       "      <td>100</td>\n",
       "      <td>Korea</td>\n",
       "      <td>40</td>\n",
       "      <td>25</td>\n",
       "      <td>62.5</td>\n",
       "    </tr>\n",
       "    <tr>\n",
       "      <th>C02</th>\n",
       "      <td>Network</td>\n",
       "      <td>2017</td>\n",
       "      <td>125</td>\n",
       "      <td>Korea</td>\n",
       "      <td>40</td>\n",
       "      <td>30</td>\n",
       "      <td>75.0</td>\n",
       "    </tr>\n",
       "    <tr>\n",
       "      <th>C03</th>\n",
       "      <td>Economy</td>\n",
       "      <td>2018</td>\n",
       "      <td>132</td>\n",
       "      <td>Korea</td>\n",
       "      <td>40</td>\n",
       "      <td>10</td>\n",
       "      <td>25.0</td>\n",
       "    </tr>\n",
       "    <tr>\n",
       "      <th>C04</th>\n",
       "      <td>Big Data</td>\n",
       "      <td>2018</td>\n",
       "      <td>312</td>\n",
       "      <td>US</td>\n",
       "      <td>40</td>\n",
       "      <td>23</td>\n",
       "      <td>57.5</td>\n",
       "    </tr>\n",
       "    <tr>\n",
       "      <th>C05</th>\n",
       "      <td>Cloud</td>\n",
       "      <td>2019</td>\n",
       "      <td>250</td>\n",
       "      <td>Korea</td>\n",
       "      <td>40</td>\n",
       "      <td>17</td>\n",
       "      <td>42.5</td>\n",
       "    </tr>\n",
       "  </tbody>\n",
       "</table>\n",
       "</div>"
      ],
      "text/plain": [
       "        Class  Year  Price Location  limitStudent  numStudent  rate\n",
       "C01       IoT  2018    100    Korea            40          25  62.5\n",
       "C02   Network  2017    125    Korea            40          30  75.0\n",
       "C03   Economy  2018    132    Korea            40          10  25.0\n",
       "C04  Big Data  2018    312       US            40          23  57.5\n",
       "C05     Cloud  2019    250    Korea            40          17  42.5"
      ]
     },
     "execution_count": 46,
     "metadata": {},
     "output_type": "execute_result"
    }
   ],
   "source": [
    "# 02. 원본에 함수 결과를 할당하기\n",
    "df4 = df4.drop('income', 1)\n",
    "df4"
   ]
  },
  {
   "cell_type": "code",
   "execution_count": null,
   "metadata": {},
   "outputs": [],
   "source": [
    "# 동시에 여러 개를 삭제하는 방법\n",
    "# 인덱스를 첫 번째 인자로 지칭해줄 때, 리스트로 담아서 전달해주면 됨"
   ]
  },
  {
   "cell_type": "code",
   "execution_count": 53,
   "metadata": {},
   "outputs": [
    {
     "data": {
      "text/html": [
       "<div>\n",
       "<style scoped>\n",
       "    .dataframe tbody tr th:only-of-type {\n",
       "        vertical-align: middle;\n",
       "    }\n",
       "\n",
       "    .dataframe tbody tr th {\n",
       "        vertical-align: top;\n",
       "    }\n",
       "\n",
       "    .dataframe thead th {\n",
       "        text-align: right;\n",
       "    }\n",
       "</style>\n",
       "<table border=\"1\" class=\"dataframe\">\n",
       "  <thead>\n",
       "    <tr style=\"text-align: right;\">\n",
       "      <th></th>\n",
       "      <th>Class</th>\n",
       "      <th>Year</th>\n",
       "      <th>Price</th>\n",
       "      <th>Location</th>\n",
       "      <th>limitStudent</th>\n",
       "      <th>numStudent</th>\n",
       "      <th>rate</th>\n",
       "    </tr>\n",
       "  </thead>\n",
       "  <tbody>\n",
       "    <tr>\n",
       "      <th>C03</th>\n",
       "      <td>Economy</td>\n",
       "      <td>2018</td>\n",
       "      <td>132</td>\n",
       "      <td>Korea</td>\n",
       "      <td>40</td>\n",
       "      <td>10</td>\n",
       "      <td>25.0</td>\n",
       "    </tr>\n",
       "  </tbody>\n",
       "</table>\n",
       "</div>"
      ],
      "text/plain": [
       "       Class  Year  Price Location  limitStudent  numStudent  rate\n",
       "C03  Economy  2018    132    Korea            40          10  25.0"
      ]
     },
     "execution_count": 53,
     "metadata": {},
     "output_type": "execute_result"
    }
   ],
   "source": [
    "# 실습. 수강생이 가장 작은 클래스를 찾아서 삭제\n",
    "# 조건 색인을 통해 삭제하는 구문 실행하기\n",
    "# df4.drop('C03', 0)\n",
    "# 가장 작은 클래스를 모를 경우 [df4.numStudent.min()]\n",
    "del_class = df4[df4.numStudent == df4.numStudent.min()] \n",
    "# del_class : 내가 삭제하고자 하는 Class에 대한 정보를 찾을 수 있음\n",
    "del_class"
   ]
  },
  {
   "cell_type": "code",
   "execution_count": 54,
   "metadata": {},
   "outputs": [
    {
     "data": {
      "text/plain": [
       "Index(['C03'], dtype='object')"
      ]
     },
     "execution_count": 54,
     "metadata": {},
     "output_type": "execute_result"
    }
   ],
   "source": [
    "# del_class에 index를 실행해보면 C03번만 얻을 수 있음\n",
    "del_class.index"
   ]
  },
  {
   "cell_type": "code",
   "execution_count": 55,
   "metadata": {},
   "outputs": [
    {
     "data": {
      "text/html": [
       "<div>\n",
       "<style scoped>\n",
       "    .dataframe tbody tr th:only-of-type {\n",
       "        vertical-align: middle;\n",
       "    }\n",
       "\n",
       "    .dataframe tbody tr th {\n",
       "        vertical-align: top;\n",
       "    }\n",
       "\n",
       "    .dataframe thead th {\n",
       "        text-align: right;\n",
       "    }\n",
       "</style>\n",
       "<table border=\"1\" class=\"dataframe\">\n",
       "  <thead>\n",
       "    <tr style=\"text-align: right;\">\n",
       "      <th></th>\n",
       "      <th>Class</th>\n",
       "      <th>Year</th>\n",
       "      <th>Price</th>\n",
       "      <th>Location</th>\n",
       "      <th>limitStudent</th>\n",
       "      <th>numStudent</th>\n",
       "      <th>rate</th>\n",
       "    </tr>\n",
       "  </thead>\n",
       "  <tbody>\n",
       "    <tr>\n",
       "      <th>C01</th>\n",
       "      <td>IoT</td>\n",
       "      <td>2018</td>\n",
       "      <td>100</td>\n",
       "      <td>Korea</td>\n",
       "      <td>40</td>\n",
       "      <td>25</td>\n",
       "      <td>62.5</td>\n",
       "    </tr>\n",
       "    <tr>\n",
       "      <th>C02</th>\n",
       "      <td>Network</td>\n",
       "      <td>2017</td>\n",
       "      <td>125</td>\n",
       "      <td>Korea</td>\n",
       "      <td>40</td>\n",
       "      <td>30</td>\n",
       "      <td>75.0</td>\n",
       "    </tr>\n",
       "    <tr>\n",
       "      <th>C04</th>\n",
       "      <td>Big Data</td>\n",
       "      <td>2018</td>\n",
       "      <td>312</td>\n",
       "      <td>US</td>\n",
       "      <td>40</td>\n",
       "      <td>23</td>\n",
       "      <td>57.5</td>\n",
       "    </tr>\n",
       "    <tr>\n",
       "      <th>C05</th>\n",
       "      <td>Cloud</td>\n",
       "      <td>2019</td>\n",
       "      <td>250</td>\n",
       "      <td>Korea</td>\n",
       "      <td>40</td>\n",
       "      <td>17</td>\n",
       "      <td>42.5</td>\n",
       "    </tr>\n",
       "  </tbody>\n",
       "</table>\n",
       "</div>"
      ],
      "text/plain": [
       "        Class  Year  Price Location  limitStudent  numStudent  rate\n",
       "C01       IoT  2018    100    Korea            40          25  62.5\n",
       "C02   Network  2017    125    Korea            40          30  75.0\n",
       "C04  Big Data  2018    312       US            40          23  57.5\n",
       "C05     Cloud  2019    250    Korea            40          17  42.5"
      ]
     },
     "execution_count": 55,
     "metadata": {},
     "output_type": "execute_result"
    }
   ],
   "source": [
    "# del_class.index를 C03번 대신에 바꿔 주면 동일하게 C03번을 삭제하게 됨\n",
    "df4.drop(del_class.index, 0)"
   ]
  }
 ],
 "metadata": {
  "kernelspec": {
   "display_name": "Python 3",
   "language": "python",
   "name": "python3"
  },
  "language_info": {
   "codemirror_mode": {
    "name": "ipython",
    "version": 3
   },
   "file_extension": ".py",
   "mimetype": "text/x-python",
   "name": "python",
   "nbconvert_exporter": "python",
   "pygments_lexer": "ipython3",
   "version": "3.8.8"
  },
  "toc": {
   "base_numbering": 1,
   "nav_menu": {},
   "number_sections": true,
   "sideBar": true,
   "skip_h1_title": false,
   "title_cell": "Table of Contents",
   "title_sidebar": "Contents",
   "toc_cell": false,
   "toc_position": {},
   "toc_section_display": true,
   "toc_window_display": false
  }
 },
 "nbformat": 4,
 "nbformat_minor": 2
}
