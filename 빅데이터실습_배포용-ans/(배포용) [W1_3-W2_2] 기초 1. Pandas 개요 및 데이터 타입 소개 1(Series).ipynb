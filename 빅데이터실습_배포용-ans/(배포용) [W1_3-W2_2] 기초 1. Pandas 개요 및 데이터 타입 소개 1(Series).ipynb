{
 "cells": [
  {
   "cell_type": "markdown",
   "metadata": {},
   "source": [
    "# Series (시리즈)의 개념\n",
    "<img src=\"img/1강/Series개념.jpg\" alt=\"datetime\" style=\"width: 1200px;\"/>"
   ]
  },
  {
   "cell_type": "code",
   "execution_count": null,
   "metadata": {},
   "outputs": [],
   "source": [
    "# Series\n",
    "# 01.1차원 데이터를 이해한다.\n",
    "# 02.Series의 구조를 설명할 수 있다.\n",
    "# 03.1차원 데이터를 저장한 Series를 생성할 수 있다."
   ]
  },
  {
   "cell_type": "code",
   "execution_count": null,
   "metadata": {},
   "outputs": [],
   "source": [
    "# 01.1차원 데이터를 이해한다.\n",
    "# 스칼라(scalar)\n",
    "# 하나의 값\n",
    "# 벡터(vector)\n",
    "# 여러 개의 값으로 이루어진 집합\n",
    "# 벡터 = 배열(array) = 1차원 데이터\n",
    "# 문자 하나하나는 스칼라고 문자가 여러 개로 이루어진 '빅데이터'와 같은 문자열의 경우도 벡터 즉, 일차원 데이터\n",
    "# '빅데이터', 30, 100, '서울' 이러한 정보들도 여러 개의 스칼라 값들이 이루어져 있기 때문에 벡터"
   ]
  },
  {
   "cell_type": "code",
   "execution_count": null,
   "metadata": {},
   "outputs": [],
   "source": [
    "# 파이썬의 1차원 데이터 타입\n",
    "# 리스트(list)\n",
    "# 대괄호로 표현되며, 대괄호 안에 각각의 값들을 콤마(,)로 구분해서 나열\n",
    "# 튜플(tuple)\n",
    "# 괄호로 표현되며, 괄호 안에 각각의 값들을 콤마(,)로 구분해서 나열\n",
    "# 리스트는 한 번 생성하고 나서 항목을 수정, 삽입, 삭제할 수 있지만,\n",
    "# 튜플은 한 번 생성하면 값을 변경할 수 없음\n",
    "# 숫자 인덱스를 통해 각 리스트나 튜플에 있는 항목에 접근할 수 있음\n",
    "# 사전(dict)\n",
    "# 스칼라가 key와 value의 쌍으로 여러 개 나열되어 있기 때문에 사전 타입의 데이터들도 일차원 데이터, 벡터\n",
    "# 중괄호로 표현되며, 중괄호 안에 key와 value는 콜론(:)으로 구분해서 데이터를 기입하여 사전 타입의 변수를 생성할 수 있음"
   ]
  },
  {
   "cell_type": "code",
   "execution_count": null,
   "metadata": {},
   "outputs": [],
   "source": [
    "# pandas의 데이터 타입\n",
    "# Series\n",
    "# numpy.ndarray를 기반으로 구현\n",
    "# numpy는 데이터 분석에 많이 활용되는 python library 중 하나\n",
    "# 인덱스(index)와 값(value)으로 구성\n",
    "# 인덱스(index)는 사전 타입의 key와 같은 역할을 하며, 각각의 값의 제목이라고 생각하면 됨\n",
    "# 인덱스(index)\n",
    "# 숫자 인덱스 : 0부터 시작하여 자동부여\n",
    "# 문자 인덱스(인덱스 라벨) : 인덱스에 이름(의미)을 부여\n",
    "# 숫자 인덱스가 단순히 순서의 의미만 가지고 있다면, 인덱스 라벨은 각각의 값들에 대해 의미와 제목을 부여\n",
    "# 값(value) : 데이터\n",
    "# 모든 데이터 타입 가능(정수, 실수, 문자열, 리스트, 튜플 등)\n",
    "# 일차원 데이터에 들어가는 각각의 값의 데이터 타입이 모두 동일할 필요는 없음\n",
    "# 시리즈는 python의 리스트와 사전 타입의 하이브리드 형태\n",
    "# 숫자 인덱스로 시리즈를 활용하는 경우에는 리스트와 비슷한 형태\n",
    "# 문자 인덱스로 시리즈를 활용하는 경우에는 사전 타입과 비슷한 형태\n",
    "# Series는 python의 사전 타입이나 리스트에서 제공하지 않는 다양하고 편리한 기능을 함수를 통해 제공해 주는 데이터 타입"
   ]
  },
  {
   "cell_type": "markdown",
   "metadata": {},
   "source": [
    "# pandas 라이브러리 import 하기"
   ]
  },
  {
   "cell_type": "code",
   "execution_count": null,
   "metadata": {},
   "outputs": [],
   "source": [
    "# pandas 라이브러리\n",
    "# 외부 라이브러리(third party 라이브러리), 즉 추가적인 라이브러리임\n",
    "# pandas는 반드시 라이브러리를 import 해야 함"
   ]
  },
  {
   "cell_type": "code",
   "execution_count": 1,
   "metadata": {},
   "outputs": [
    {
     "data": {
      "text/plain": [
       "[3, 5, 1, 2]"
      ]
     },
     "execution_count": 1,
     "metadata": {},
     "output_type": "execute_result"
    }
   ],
   "source": [
    "# Python의 리스트(List) 타입의 데이터 생성하기\n",
    "data = [3,5,1,2]\n",
    "data"
   ]
  },
  {
   "cell_type": "code",
   "execution_count": 2,
   "metadata": {
    "scrolled": true
   },
   "outputs": [
    {
     "ename": "NameError",
     "evalue": "name 'pandas' is not defined",
     "output_type": "error",
     "traceback": [
      "\u001b[1;31m---------------------------------------------------------------------------\u001b[0m",
      "\u001b[1;31mNameError\u001b[0m                                 Traceback (most recent call last)",
      "\u001b[1;32m<ipython-input-2-d12a3f313492>\u001b[0m in \u001b[0;36m<module>\u001b[1;34m\u001b[0m\n\u001b[0;32m      1\u001b[0m \u001b[1;31m# Pandas의 Series 타입의 데이터 생성하기\u001b[0m\u001b[1;33m\u001b[0m\u001b[1;33m\u001b[0m\u001b[1;33m\u001b[0m\u001b[0m\n\u001b[1;32m----> 2\u001b[1;33m \u001b[0mpandas\u001b[0m\u001b[1;33m.\u001b[0m\u001b[0mSeries\u001b[0m\u001b[1;33m(\u001b[0m\u001b[1;33m[\u001b[0m\u001b[1;36m3\u001b[0m\u001b[1;33m,\u001b[0m\u001b[1;36m5\u001b[0m\u001b[1;33m,\u001b[0m\u001b[1;36m1\u001b[0m\u001b[1;33m,\u001b[0m\u001b[1;36m2\u001b[0m\u001b[1;33m]\u001b[0m\u001b[1;33m)\u001b[0m\u001b[1;33m\u001b[0m\u001b[1;33m\u001b[0m\u001b[0m\n\u001b[0m",
      "\u001b[1;31mNameError\u001b[0m: name 'pandas' is not defined"
     ]
    }
   ],
   "source": [
    "# Pandas의 Series 타입의 데이터 생성하기\n",
    "pandas.Series([3,5,1,2])"
   ]
  },
  {
   "cell_type": "code",
   "execution_count": 5,
   "metadata": {},
   "outputs": [
    {
     "data": {
      "text/plain": [
       "0    3\n",
       "1    5\n",
       "2    1\n",
       "3    2\n",
       "dtype: int64"
      ]
     },
     "execution_count": 5,
     "metadata": {},
     "output_type": "execute_result"
    }
   ],
   "source": [
    "# pandas 라이브러리 임포트하기 (1)\n",
    "# 01.import 구문 사용하기\n",
    "# pandas에 있는 기능을 사용하려면 'pandas.'이라는 문구를 써야 함\n",
    "import pandas\n",
    "pandas.Series([3,5,1,2])"
   ]
  },
  {
   "cell_type": "code",
   "execution_count": 6,
   "metadata": {},
   "outputs": [
    {
     "data": {
      "text/plain": [
       "0    3\n",
       "1    5\n",
       "2    1\n",
       "3    2\n",
       "dtype: int64"
      ]
     },
     "execution_count": 6,
     "metadata": {},
     "output_type": "execute_result"
    }
   ],
   "source": [
    "# pandas 라이브러리 임포트하기 (2)\n",
    "# 02.별칭을 사용해서 import 하기\n",
    "# 'as'라고 하는 키워드를 쓰고 뒤에 사용하기 편한 별칭을 줌\n",
    "# 보통 줄임말을 사용함\n",
    "import pandas as pd\n",
    "pd.Series([3,5,1,2])"
   ]
  },
  {
   "cell_type": "code",
   "execution_count": 7,
   "metadata": {},
   "outputs": [
    {
     "data": {
      "text/plain": [
       "0    3\n",
       "1    5\n",
       "2    1\n",
       "3    2\n",
       "dtype: int64"
      ]
     },
     "execution_count": 7,
     "metadata": {},
     "output_type": "execute_result"
    }
   ],
   "source": [
    "# pandas 라이브러리 임포트하기 (3)\n",
    "# 03.명시적으로 특정 기능이나 객체를 import 하기\n",
    "# 'Series'라고 선언하면, '이 Series'는 pandas로부터 import 한 것이다.'라고 명시적으로 알려주는 것\n",
    "from pandas import Series\n",
    "Series([3,5,1,2])"
   ]
  },
  {
   "cell_type": "markdown",
   "metadata": {},
   "source": [
    "#  Series 생성\n",
    " - 1차원 데이터를 저장하는 파이썬의 데이터타입인 리스트, 튜플, 사전 타입 등을 이용해서 Series 객체를 생성해 보고, Series 객체의 특징들을 살펴보도록 하겠습니다. "
   ]
  },
  {
   "cell_type": "code",
   "execution_count": null,
   "metadata": {},
   "outputs": [],
   "source": [
    "# Series 생성하기\n",
    "# 생성자를 통해 생성하며, 몇 가지 인자가 있음\n",
    "# 아무런 인자를 주지 않고 생성하면 빈 객체가 생성\n",
    "# 데이터나 인덱스와 같은 인자를 지정해서 생성하면 그에 합당한 데이터를 가진 시리즈를 생성\n",
    "# 5개의 인자(data, index, dtype, name, copy)\n",
    "# data : 하나의 값(스칼라) 혹은 1차원 데이터(벡터)\n",
    "# index : 인덱스 라벨 지정(data의 크기와 동일해야 함)\n",
    "# dtype : 값의 데이터 타입 지정. 미지정 시, 자동 지정\n",
    "# data 인자의 데이터를 기반으로 자동으로 데이터 타입이 지정되는 것이 기본\n",
    "# dtype을 지정하지 않으면 자동으로 적절한 데이터 타입으로 지정\n",
    "# 명시적으로 데이터 타입을 지정하고 싶은 경우(e.f. 숫자형 데이터를 문자로 처리하고 싶다면?) 'dtype'을 '문자'라는 형태로 데이터 타입을 명시적으로 지정\n",
    "# name : 이름 설정\n",
    "# copy : 입력 데이터 복사 여부"
   ]
  },
  {
   "cell_type": "markdown",
   "metadata": {},
   "source": [
    "### 1) List를 사용하여 Series 생성하기"
   ]
  },
  {
   "cell_type": "code",
   "execution_count": 101,
   "metadata": {
    "scrolled": false
   },
   "outputs": [
    {
     "data": {
      "text/plain": [
       "0    3\n",
       "1    5\n",
       "2    1\n",
       "3    2\n",
       "dtype: int64"
      ]
     },
     "execution_count": 101,
     "metadata": {},
     "output_type": "execute_result"
    }
   ],
   "source": [
    "# 'arr'로 리스트 타입 변수 선언\n",
    "# 리스트 타입 변수를 인자로 넘겨주면 동일한 값을 가진 시리즈 객체가 생성됨\n",
    "# 숫자 인덱스는 우리가 지정하지 않아도 자동 부여되는 인덱스\n",
    "arr = [3,5,1,2] # 파이썬의 리스트 타입 변수\n",
    "data1 = Series(arr)\n",
    "data1"
   ]
  },
  {
   "cell_type": "code",
   "execution_count": 102,
   "metadata": {},
   "outputs": [
    {
     "data": {
      "text/plain": [
       "a    3\n",
       "b    5\n",
       "c    1\n",
       "d    2\n",
       "dtype: int64"
      ]
     },
     "execution_count": 102,
     "metadata": {},
     "output_type": "execute_result"
    }
   ],
   "source": [
    "# 인덱스 라벨 추가하기\n",
    "# 'data1.index'에 원하는 인덱스의 이름을 부여할 수 있음\n",
    "data1.index = ['a','b','c','d']\n",
    "data1"
   ]
  },
  {
   "cell_type": "code",
   "execution_count": 103,
   "metadata": {},
   "outputs": [
    {
     "data": {
      "text/plain": [
       "a    3\n",
       "b    5\n",
       "c    1\n",
       "d    2\n",
       "dtype: int64"
      ]
     },
     "execution_count": 103,
     "metadata": {},
     "output_type": "execute_result"
    }
   ],
   "source": [
    "# Series 생성할 때 인덱스 라벨도 함께 정의하기\n",
    "# Series의 생성자의 파라미터들의 이름을 명시적으로 해주어도 됨\n",
    "# Series 생성할 때 데이터 길이와 인덱스 길이가 각각 동일해야 함(값은 4개이지만 인덱스가 3개인 형태로 실행하면 에러(ValueError)가 발생함)\n",
    "data1 = Series([3,5,1,2], index = ['a','b','c','d'])\n",
    "data1"
   ]
  },
  {
   "cell_type": "markdown",
   "metadata": {},
   "source": [
    "### 2) Tuple을 사용하여 Series 생성하기"
   ]
  },
  {
   "cell_type": "code",
   "execution_count": 14,
   "metadata": {},
   "outputs": [
    {
     "data": {
      "text/plain": [
       "0    3\n",
       "1    5\n",
       "2    1\n",
       "3    2\n",
       "dtype: int64"
      ]
     },
     "execution_count": 14,
     "metadata": {},
     "output_type": "execute_result"
    }
   ],
   "source": [
    "# Tuple 타입 선언\n",
    "#'arr2'라고 하는 Tuple을 괄호를 사용해서 선언\n",
    "arr2 = (3,5,1,2) # 튜플 타입의 데이터 생성\n",
    "data2 = Series(arr2)\n",
    "data2"
   ]
  },
  {
   "cell_type": "markdown",
   "metadata": {},
   "source": [
    "### 3) Dict 타입의 변수를 사용하여 Series 생성하기"
   ]
  },
  {
   "cell_type": "code",
   "execution_count": 15,
   "metadata": {},
   "outputs": [
    {
     "data": {
      "text/plain": [
       "a    3\n",
       "b    5\n",
       "c    1\n",
       "d    2\n",
       "dtype: int64"
      ]
     },
     "execution_count": 15,
     "metadata": {},
     "output_type": "execute_result"
    }
   ],
   "source": [
    "# Dict(사전) 타입\n",
    "# key-value의 쌍으로 이루어져 있는 데이터 타입\n",
    "# 'arr3'는 Dict(사전) 타입의 변수\n",
    "# key와 value를 콜론(:)으로 구분해서 나열\n",
    "# 사전 타입의 key는 인덱스 라벨이 되고 value는 값이 됨\n",
    "arr3 = {\n",
    "    'a':3,\n",
    "    'b':5,\n",
    "    'c':1,\n",
    "    'd':2\n",
    "} # Dict(사전) 타입의 데이터 생성\n",
    "data3 = Series(arr3)\n",
    "data3"
   ]
  },
  {
   "cell_type": "markdown",
   "metadata": {},
   "source": [
    "### ** 몇 가지 Series 특징들 **"
   ]
  },
  {
   "cell_type": "markdown",
   "metadata": {},
   "source": [
    "- Series.values는 numpy의 ndarray객체입니다. "
   ]
  },
  {
   "cell_type": "code",
   "execution_count": 17,
   "metadata": {},
   "outputs": [
    {
     "data": {
      "text/plain": [
       "numpy.ndarray"
      ]
     },
     "execution_count": 17,
     "metadata": {},
     "output_type": "execute_result"
    }
   ],
   "source": [
    "# data3.values에는 ndarray 함수들을 적용할 수 잇음\n",
    "# data3.values는 data3의 값만 출력하는 Series의 속성임\n",
    "type(data3.values)"
   ]
  },
  {
   "cell_type": "markdown",
   "metadata": {},
   "source": [
    "- 값에는 모든 데이터 타입 사용이 가능합니다. "
   ]
  },
  {
   "cell_type": "code",
   "execution_count": 19,
   "metadata": {},
   "outputs": [
    {
     "data": {
      "text/plain": [
       "0                             big data\n",
       "1                                   10\n",
       "2                                  3.5\n",
       "3                            [1, 2, 3]\n",
       "4                     {'a': 5, 'b': 3}\n",
       "5    0    1\n",
       "1    2\n",
       "2    3\n",
       "dtype: int64\n",
       "dtype: object"
      ]
     },
     "execution_count": 19,
     "metadata": {},
     "output_type": "execute_result"
    }
   ],
   "source": [
    "# 문자열, 숫자, 리스트, 사전(Dict), Series 등 모든 데이터 타입 사용 가능\n",
    "Series(['big data', 10, 3.5, [1,2,3], {'a':5, 'b':3}, Series([1,2,3])])"
   ]
  },
  {
   "cell_type": "markdown",
   "metadata": {},
   "source": [
    "# Series의 속성(Attributes)와 함수(Method)들"
   ]
  },
  {
   "cell_type": "code",
   "execution_count": null,
   "metadata": {},
   "outputs": [],
   "source": [
    "# Series\n",
    "# 01.Series의 속성(Attribute) 이해\n",
    "# 02.Series의 주요 함수(Methods) 이해\n",
    "# 03.Series의 주요 속성들을 활용할 수 있다.\n",
    "# 04.Series의 주요 함수들을 활용할 수 있다.\n",
    "# 05.pandas의 공식 홈페이지를 통해 Series가 제공하는 기능들을 스스로 찾아서 활용할 수 있다."
   ]
  },
  {
   "cell_type": "markdown",
   "metadata": {},
   "source": [
    "#### 샘플 데이터 생성\n",
    " 값과 Index 인자를 사용하여, Series 생성"
   ]
  },
  {
   "cell_type": "code",
   "execution_count": 30,
   "metadata": {
    "scrolled": true
   },
   "outputs": [
    {
     "data": {
      "text/plain": [
       "a     85\n",
       "b     90\n",
       "c     75\n",
       "d     55\n",
       "e     45\n",
       "f     90\n",
       "g     95\n",
       "h     85\n",
       "i     90\n",
       "j    100\n",
       "dtype: int64"
      ]
     },
     "execution_count": 30,
     "metadata": {},
     "output_type": "execute_result"
    }
   ],
   "source": [
    "sample = Series([85, 90, 75, 55, 45, 90, 95, 85, 90, 100], \n",
    "               index = ['a','b','c','d','e','f','g','h','i','j'])\n",
    "sample"
   ]
  },
  {
   "cell_type": "markdown",
   "metadata": {},
   "source": [
    "### 속성(Attribute) = Series가 가지고 있는 객체, 속성(특징) 혹은 간단한 기능을 제공"
   ]
  },
  {
   "cell_type": "markdown",
   "metadata": {},
   "source": [
    "1) index - Series의 인덱스 (혹은 인덱스 라벨)"
   ]
  },
  {
   "cell_type": "code",
   "execution_count": 31,
   "metadata": {},
   "outputs": [
    {
     "data": {
      "text/plain": [
       "Index(['a', 'b', 'c', 'd', 'e', 'f', 'g', 'h', 'i', 'j'], dtype='object')"
      ]
     },
     "execution_count": 31,
     "metadata": {},
     "output_type": "execute_result"
    }
   ],
   "source": [
    "sample.index # sample Series의 index에만 접근가능"
   ]
  },
  {
   "cell_type": "markdown",
   "metadata": {},
   "source": [
    "2) values - Series의 데이터"
   ]
  },
  {
   "cell_type": "code",
   "execution_count": 32,
   "metadata": {},
   "outputs": [
    {
     "data": {
      "text/plain": [
       "array([ 85,  90,  75,  55,  45,  90,  95,  85,  90, 100], dtype=int64)"
      ]
     },
     "execution_count": 32,
     "metadata": {},
     "output_type": "execute_result"
    }
   ],
   "source": [
    "sample.values # sample Series의 values에만 접근가능"
   ]
  },
  {
   "cell_type": "markdown",
   "metadata": {},
   "source": [
    "3) size - Series의 크기 (데이터의 길이)"
   ]
  },
  {
   "cell_type": "code",
   "execution_count": 33,
   "metadata": {},
   "outputs": [
    {
     "data": {
      "text/plain": [
       "10"
      ]
     },
     "execution_count": 33,
     "metadata": {},
     "output_type": "execute_result"
    }
   ],
   "source": [
    "sample.size # sample Series 항목의 개수"
   ]
  },
  {
   "cell_type": "markdown",
   "metadata": {},
   "source": [
    "4) dtype - Series의 데이터(Series.values)의 데이터 타입\n",
    "* 정수형 숫자: int64\n",
    "* 실수형 숫자: float64\n",
    "* 문자열이거나 2개 이상의 데이터 타입으로 이루어진 경우: 'O' (Object)"
   ]
  },
  {
   "cell_type": "code",
   "execution_count": 104,
   "metadata": {},
   "outputs": [
    {
     "data": {
      "text/plain": [
       "dtype('int64')"
      ]
     },
     "execution_count": 104,
     "metadata": {},
     "output_type": "execute_result"
    }
   ],
   "source": [
    "sample.dtype # 데이터의 타입 출력"
   ]
  },
  {
   "cell_type": "code",
   "execution_count": 105,
   "metadata": {},
   "outputs": [
    {
     "data": {
      "text/plain": [
       "dtype('O')"
      ]
     },
     "execution_count": 105,
     "metadata": {},
     "output_type": "execute_result"
    }
   ],
   "source": [
    "# 문자열로 이루어져 있는 데이터의 경우에는 dtype이 object로 출력\n",
    "Series(['a', 'c']).dtype # dtype('O') = Object(문자열이거나 2개 이상의 데이터 타입으로 이루어진 경우)"
   ]
  },
  {
   "cell_type": "code",
   "execution_count": 106,
   "metadata": {},
   "outputs": [
    {
     "data": {
      "text/plain": [
       "dtype('O')"
      ]
     },
     "execution_count": 106,
     "metadata": {},
     "output_type": "execute_result"
    }
   ],
   "source": [
    "Series([3, 5.3, 'abc']).dtype"
   ]
  },
  {
   "cell_type": "code",
   "execution_count": 107,
   "metadata": {},
   "outputs": [
    {
     "data": {
      "text/plain": [
       "dtype('float64')"
      ]
     },
     "execution_count": 107,
     "metadata": {},
     "output_type": "execute_result"
    }
   ],
   "source": [
    "# 정수형 데이터와 실수형 데이터\n",
    "Series([3, 5.3]).dtype # '3'도 실수에 포함되므로 실수형 데이터 타입으로 출력"
   ]
  },
  {
   "cell_type": "code",
   "execution_count": null,
   "metadata": {},
   "outputs": [],
   "source": []
  },
  {
   "cell_type": "markdown",
   "metadata": {},
   "source": [
    "### 함수(Methods)\n",
    "- 속성(Attribute)보다 다양한 기능 제공\n",
    "- 함수 호출 시 전달되는 자료들을 인자(argument, parameter)\n",
    "- 각 함수들은 정의된 인자가 있으며, 인자값을 토대로 함수 실행됩니다.\n",
    "- 동일한 함수라고 하더라도 인자값 설정에 따라 동작방식은 달라질 수 있습니다.\n",
    "\n",
    "1) describe() - 통계 정보를 한 눈에 제공해주는 함수, 데이터 탐색 시 사용"
   ]
  },
  {
   "cell_type": "code",
   "execution_count": null,
   "metadata": {},
   "outputs": [],
   "source": [
    "# 속성과 함수의 차이\n",
    "# 속성 : 속성명 뒷 부분이 공백\n",
    "# 함수 : 속성명 뒷 부분에 () 추가"
   ]
  },
  {
   "cell_type": "code",
   "execution_count": 40,
   "metadata": {},
   "outputs": [
    {
     "data": {
      "text/plain": [
       "count     10.000000\n",
       "mean      81.000000\n",
       "std       17.763883\n",
       "min       45.000000\n",
       "25%       77.500000\n",
       "50%       87.500000\n",
       "75%       90.000000\n",
       "max      100.000000\n",
       "dtype: float64"
      ]
     },
     "execution_count": 40,
     "metadata": {},
     "output_type": "execute_result"
    }
   ],
   "source": [
    "sample.describe() # 데이터 탐색 시 사용"
   ]
  },
  {
   "cell_type": "markdown",
   "metadata": {},
   "source": [
    "2) 통계함수들 - max(), min(), avg(), ... "
   ]
  },
  {
   "cell_type": "code",
   "execution_count": 44,
   "metadata": {},
   "outputs": [
    {
     "data": {
      "text/plain": [
       "81.0"
      ]
     },
     "execution_count": 44,
     "metadata": {},
     "output_type": "execute_result"
    }
   ],
   "source": [
    "sample.max() # 최댓값\n",
    "sample.min() # 최솟값\n",
    "sample.avg() # 평균값\n",
    "sample.mean() # sample.agg('mean')"
   ]
  },
  {
   "cell_type": "markdown",
   "metadata": {},
   "source": [
    "3) add_prefix(prefix) - 인덱스 라벨 앞에 prefix 문자열을 추가"
   ]
  },
  {
   "cell_type": "code",
   "execution_count": 46,
   "metadata": {},
   "outputs": [
    {
     "data": {
      "text/plain": [
       "a     85\n",
       "b     90\n",
       "c     75\n",
       "d     55\n",
       "e     45\n",
       "f     90\n",
       "g     95\n",
       "h     85\n",
       "i     90\n",
       "j    100\n",
       "dtype: int64"
      ]
     },
     "execution_count": 46,
     "metadata": {},
     "output_type": "execute_result"
    }
   ],
   "source": [
    "# a부터 j에 해당하는 index 앞에 'data-'문자열이 붙게 됨\n",
    "# 인자가 없는 경우엔 빈 괄호가 전달되지만, 함수가 있는 경우엔 인자값을 나열하여 전달\n",
    "# add_prefix() 함수는 인자로 받은 문자열을 index의 prefix로 추가하는 함수, 인자값 필수\n",
    "sample.add_prefix('data-')"
   ]
  },
  {
   "cell_type": "code",
   "execution_count": 108,
   "metadata": {},
   "outputs": [
    {
     "data": {
      "text/plain": [
       "big-a     85\n",
       "big-b     90\n",
       "big-c     75\n",
       "big-d     55\n",
       "big-e     45\n",
       "big-f     90\n",
       "big-g     95\n",
       "big-h     85\n",
       "big-i     90\n",
       "big-j    100\n",
       "dtype: int64"
      ]
     },
     "execution_count": 108,
     "metadata": {},
     "output_type": "execute_result"
    }
   ],
   "source": [
    "sample.add_prefix(prefix = 'big-')"
   ]
  },
  {
   "cell_type": "code",
   "execution_count": 109,
   "metadata": {},
   "outputs": [
    {
     "data": {
      "text/plain": [
       "a     85\n",
       "b     90\n",
       "c     75\n",
       "d     55\n",
       "e     45\n",
       "f     90\n",
       "g     95\n",
       "h     85\n",
       "i     90\n",
       "j    100\n",
       "dtype: int64"
      ]
     },
     "execution_count": 109,
     "metadata": {},
     "output_type": "execute_result"
    }
   ],
   "source": [
    "# 출력된 결과는 원본 데이터에 반영되지 않음\n",
    "sample "
   ]
  },
  {
   "cell_type": "code",
   "execution_count": 112,
   "metadata": {},
   "outputs": [
    {
     "data": {
      "text/plain": [
       "big-a     85\n",
       "big-b     90\n",
       "big-c     75\n",
       "big-d     55\n",
       "big-e     45\n",
       "big-f     90\n",
       "big-g     95\n",
       "big-h     85\n",
       "big-i     90\n",
       "big-j    100\n",
       "dtype: int64"
      ]
     },
     "execution_count": 112,
     "metadata": {},
     "output_type": "execute_result"
    }
   ],
   "source": [
    "# 결과를 원본에 반영\n",
    "# 함수의 결과를 다시 원본에 할당\n",
    "sample2 = sample.add_prefix(prefix = 'big-')\n",
    "sample2"
   ]
  },
  {
   "cell_type": "markdown",
   "metadata": {},
   "source": [
    "4) value_counts() - Series에 있는 데이터 값들의 개수"
   ]
  },
  {
   "cell_type": "code",
   "execution_count": 48,
   "metadata": {},
   "outputs": [
    {
     "data": {
      "text/plain": [
       "90     3\n",
       "85     2\n",
       "100    1\n",
       "55     1\n",
       "75     1\n",
       "45     1\n",
       "95     1\n",
       "dtype: int64"
      ]
     },
     "execution_count": 48,
     "metadata": {},
     "output_type": "execute_result"
    }
   ],
   "source": [
    "# value 값들의 통계 정보 제공\n",
    "# Series에 있는 데이터 값의 개수 출력\n",
    "sample.value_counts()"
   ]
  },
  {
   "cell_type": "markdown",
   "metadata": {},
   "source": [
    "5) add(값) - Series의 데이터 각각에 값을 더하기"
   ]
  },
  {
   "cell_type": "code",
   "execution_count": 49,
   "metadata": {},
   "outputs": [
    {
     "data": {
      "text/plain": [
       "a    185\n",
       "b    190\n",
       "c    175\n",
       "d    155\n",
       "e    145\n",
       "f    190\n",
       "g    195\n",
       "h    185\n",
       "i    190\n",
       "j    200\n",
       "dtype: int64"
      ]
     },
     "execution_count": 49,
     "metadata": {},
     "output_type": "execute_result"
    }
   ],
   "source": [
    "sample.add(100) # Series에 있는 각 항목에 인자값을 더하는 함수"
   ]
  },
  {
   "cell_type": "markdown",
   "metadata": {},
   "source": [
    "\n",
    "<b>[Mini Quiz #1]</b> 앞에 5개의 데이터에는 5를 더하고, 나머지 5개의 데이터에는 10을 더하시오.\n"
   ]
  },
  {
   "cell_type": "code",
   "execution_count": 50,
   "metadata": {},
   "outputs": [
    {
     "data": {
      "text/plain": [
       "a     90\n",
       "b     95\n",
       "c     80\n",
       "d     60\n",
       "e     50\n",
       "f    100\n",
       "g    105\n",
       "h     95\n",
       "i    100\n",
       "j    110\n",
       "dtype: int64"
      ]
     },
     "execution_count": 50,
     "metadata": {},
     "output_type": "execute_result"
    }
   ],
   "source": [
    "# 인자에 2개 이상의 값을 전달할 때는 list로 묶어서 전달\n",
    "# Series의 데이터와 인자로 전달한 list의 크기가 같아야 함\n",
    "sample.add([5, 5, 5 ,5 ,5, 10, 10, 10, 10, 10]) "
   ]
  },
  {
   "cell_type": "markdown",
   "metadata": {},
   "source": [
    "6) append(series) - 인자로 받은 series를 기존 series 뒤에 이어붙여서 하나의 series로 만든다."
   ]
  },
  {
   "cell_type": "code",
   "execution_count": 113,
   "metadata": {},
   "outputs": [
    {
     "data": {
      "text/plain": [
       "k    80\n",
       "dtype: int64"
      ]
     },
     "execution_count": 113,
     "metadata": {},
     "output_type": "execute_result"
    }
   ],
   "source": [
    "# 기존의 sample 데이터에 'k 80'이라는 데이터를 추가하기 위해 append 함수를 사용\n",
    "# index는 값이 하나인 경우라도 list로 전달\n",
    "# index의 값이 일차원 배열 형태의 데이터로 호출되지 않으면 에러 발생\n",
    "sr = Series(80, index = ['k']) \n",
    "sr"
   ]
  },
  {
   "cell_type": "code",
   "execution_count": 114,
   "metadata": {},
   "outputs": [
    {
     "data": {
      "text/plain": [
       "a     85\n",
       "b     90\n",
       "c     75\n",
       "d     55\n",
       "e     45\n",
       "f     90\n",
       "g     95\n",
       "h     85\n",
       "i     90\n",
       "j    100\n",
       "k     80\n",
       "dtype: int64"
      ]
     },
     "execution_count": 114,
     "metadata": {},
     "output_type": "execute_result"
    }
   ],
   "source": [
    "# 생성한 'sr' Series 추가\n",
    "sample.append(sr)"
   ]
  },
  {
   "cell_type": "markdown",
   "metadata": {},
   "source": [
    "7) isin(val_list) - Series에 있는 각각의 데이터들이 val_list에 포함되어 있는지 여부를 확인"
   ]
  },
  {
   "cell_type": "code",
   "execution_count": 56,
   "metadata": {},
   "outputs": [
    {
     "data": {
      "text/plain": [
       "a     True\n",
       "b    False\n",
       "c    False\n",
       "d    False\n",
       "e    False\n",
       "f    False\n",
       "g    False\n",
       "h     True\n",
       "i    False\n",
       "j    False\n",
       "dtype: bool"
      ]
     },
     "execution_count": 56,
     "metadata": {},
     "output_type": "execute_result"
    }
   ],
   "source": [
    "# 데이터 중에 85라는 값의 유무 확인\n",
    "# isin에 호출되는 인자는 list 형태만 가능\n",
    "# 각각의 데이터 항목들이 인자로 받은 리스트에 있으면 True, 없으면 False로 나타냄\n",
    "sample.isin([85]) "
   ]
  },
  {
   "cell_type": "code",
   "execution_count": 57,
   "metadata": {},
   "outputs": [
    {
     "data": {
      "text/plain": [
       "a     True\n",
       "b     True\n",
       "c    False\n",
       "d    False\n",
       "e    False\n",
       "f     True\n",
       "g    False\n",
       "h     True\n",
       "i     True\n",
       "j    False\n",
       "dtype: bool"
      ]
     },
     "execution_count": 57,
     "metadata": {},
     "output_type": "execute_result"
    }
   ],
   "source": [
    "# data가 [85, 90] 에 포함여부 출력\n",
    "# 2개 이상의 데이터도 가능\n",
    "sample.isin([85, 90])"
   ]
  },
  {
   "cell_type": "markdown",
   "metadata": {},
   "source": [
    "<b>[Mini Quiz #2]</b> sample 데이터 내에 80이 있는지 확인하여 있으면 True, 없으면 False를 출력"
   ]
  },
  {
   "cell_type": "code",
   "execution_count": 63,
   "metadata": {},
   "outputs": [
    {
     "data": {
      "text/plain": [
       "False"
      ]
     },
     "execution_count": 63,
     "metadata": {},
     "output_type": "execute_result"
    }
   ],
   "source": [
    "# sample 데이터 내에 80이 있는가를 나타내줌\n",
    "80 in sample.values"
   ]
  },
  {
   "cell_type": "code",
   "execution_count": 64,
   "metadata": {},
   "outputs": [
    {
     "data": {
      "text/plain": [
       "True"
      ]
     },
     "execution_count": 64,
     "metadata": {},
     "output_type": "execute_result"
    }
   ],
   "source": [
    "# 85라는 값이 데이터 항목에 있으면 True가 출력\n",
    "85 in sample.values"
   ]
  },
  {
   "cell_type": "markdown",
   "metadata": {},
   "source": [
    "<b>[Mini Quiz #3]</b> sample의 인덱스 내에 'h'가 있는지 확인하여 있으면 True, 없으면 False를 출력"
   ]
  },
  {
   "cell_type": "code",
   "execution_count": 62,
   "metadata": {},
   "outputs": [
    {
     "data": {
      "text/plain": [
       "True"
      ]
     },
     "execution_count": 62,
     "metadata": {},
     "output_type": "execute_result"
    }
   ],
   "source": [
    "# sample의 index 내에 'h'가 있는가를 나타내줌\n",
    "'h' in sample.index"
   ]
  },
  {
   "cell_type": "markdown",
   "metadata": {},
   "source": [
    "8) apply(<i>func</i>) - Series의 값에 <i>func</i> 함수를 적용\n",
    "- Series의 값에 인자값으로 전달 받은 함수를 적용하는 함수"
   ]
  },
  {
   "cell_type": "code",
   "execution_count": 66,
   "metadata": {},
   "outputs": [],
   "source": [
    "# 80 이상이면 Good, 80 미만이면 Bad로 변경하는 함수\n",
    "def get_grade(val):\n",
    "    if val >= 80:\n",
    "        return 'Good'\n",
    "    else:\n",
    "        return 'Bad'"
   ]
  },
  {
   "cell_type": "code",
   "execution_count": 67,
   "metadata": {},
   "outputs": [
    {
     "data": {
      "text/plain": [
       "a    Good\n",
       "b    Good\n",
       "c     Bad\n",
       "d     Bad\n",
       "e     Bad\n",
       "f    Good\n",
       "g    Good\n",
       "h    Good\n",
       "i    Good\n",
       "j    Good\n",
       "dtype: object"
      ]
     },
     "execution_count": 67,
     "metadata": {},
     "output_type": "execute_result"
    }
   ],
   "source": [
    "# 함수를 샘플 데이터 각각의 항목에 적용\n",
    "# apply 함수 사용\n",
    "# 미리 만들어 놓은 'get_grade' 함수가 적용되어 'Good'이나 'Bad'로 변환\n",
    "sample.apply(get_grade)"
   ]
  },
  {
   "cell_type": "code",
   "execution_count": null,
   "metadata": {},
   "outputs": [],
   "source": [
    "# 익명함수\n",
    "# 람다(lamda) 함수라고도 함\n",
    "# 이름이 없는 함수\n",
    "# 함수를 재사용할 가능성이 희박하거나 굉장히 간단한 함수일 경우에 사용\n",
    "# 여러 줄의 코드가 필요한 일반함수에 비해 간결\n",
    "# 메모리의 공간 절약 가능"
   ]
  },
  {
   "cell_type": "code",
   "execution_count": 68,
   "metadata": {},
   "outputs": [
    {
     "data": {
      "text/plain": [
       "a    Good\n",
       "b    Good\n",
       "c     Bad\n",
       "d     Bad\n",
       "e     Bad\n",
       "f    Good\n",
       "g    Good\n",
       "h    Good\n",
       "i    Good\n",
       "j    Good\n",
       "dtype: object"
      ]
     },
     "execution_count": 68,
     "metadata": {},
     "output_type": "execute_result"
    }
   ],
   "source": [
    "# 익명함수(람다 함수) 활용\n",
    "# 'get_grade' 함수를 사용하는 대신 익명함수인 lamda 함수 사용\n",
    "# 'get_grade' 함수를 간단하게 'lamda' 함수로 선언할 수 있음\n",
    "sample.apply(lambda val: 'Good' if val >= 80 else 'Bad')"
   ]
  },
  {
   "cell_type": "markdown",
   "metadata": {},
   "source": [
    "## Series 인덱싱 - 원하는 데이터만 선택하기"
   ]
  },
  {
   "cell_type": "code",
   "execution_count": null,
   "metadata": {},
   "outputs": [],
   "source": [
    "# indexing\n",
    "# 01.인덱스를 활용하여 내가 원하는 데이터 선택하기\n",
    "# 02.조건 색인(불리언 색인)을 활용하여 내가 원하는 데이터 선택하기\n",
    "# 03.인덱스를 활용하여 특정 인덱스(들)에 해당하는 데이터만 선택할 수 있다.\n",
    "# 04.인덱스 슬라이싱으로 주어진 범위에 해당하는 데이터를 선택할 수 있다.\n",
    "# 05.조건 색인(불리언 색인, 팬시 색인)을 활용하여 조건에 맞는 데이터만 선택할 수 있다."
   ]
  },
  {
   "cell_type": "code",
   "execution_count": null,
   "metadata": {},
   "outputs": [],
   "source": [
    "# 01.인덱스를 활용하여 내가 원하는 데이터 선택하기\n",
    "# Series Indexing\n",
    "# Series 전체 데이터 중에서 내가 원하는 데이터만 선택해 오는 방법"
   ]
  },
  {
   "cell_type": "markdown",
   "metadata": {},
   "source": [
    "1) 특정 인덱스 선택하기\n",
    "- 숫자 인덱스와 인덱스 라벨 모두 가능"
   ]
  },
  {
   "cell_type": "code",
   "execution_count": 69,
   "metadata": {},
   "outputs": [
    {
     "data": {
      "text/plain": [
       "75"
      ]
     },
     "execution_count": 69,
     "metadata": {},
     "output_type": "execute_result"
    }
   ],
   "source": [
    "# 숫자 인덱스\n",
    "# 숫자 인덱스는 0부터 시작하기 때문에 c의 숫자 인덱스는 2가 된다.\n",
    "sample[2]"
   ]
  },
  {
   "cell_type": "code",
   "execution_count": 70,
   "metadata": {},
   "outputs": [
    {
     "data": {
      "text/plain": [
       "75"
      ]
     },
     "execution_count": 70,
     "metadata": {},
     "output_type": "execute_result"
    }
   ],
   "source": [
    "# 인덱스 라벨로 선택 가능\n",
    "# c라는 인덱스 라벨(문자 인덱스)를 사용하여 동일한 결과를 얻을 수 있음\n",
    "sample['c']"
   ]
  },
  {
   "cell_type": "markdown",
   "metadata": {},
   "source": [
    "2) 여러 인덱스를 동시에 선택하기\n",
    "- 선택하고자 하는 인덱스 목록을 리스트(List, [])로 전달"
   ]
  },
  {
   "cell_type": "code",
   "execution_count": 71,
   "metadata": {},
   "outputs": [
    {
     "data": {
      "text/plain": [
       "c    75\n",
       "e    45\n",
       "g    95\n",
       "dtype: int64"
      ]
     },
     "execution_count": 71,
     "metadata": {},
     "output_type": "execute_result"
    }
   ],
   "source": [
    "# 3,5,7번째 데이터를 선택하기\n",
    "# 여러 개 값을 한 번에 전달하는 경우 항상 리스트로 담아서 전달\n",
    "# 단순히 여러 숫자 값을 나열할 경우 에러가 발생함\n",
    "# 바깥쪽 [] : 색인\n",
    "# 안쪽 [] : 리스트 타입의 데이터 선언\n",
    "sample[[2, 4, 6]]"
   ]
  },
  {
   "cell_type": "code",
   "execution_count": 72,
   "metadata": {},
   "outputs": [
    {
     "data": {
      "text/plain": [
       "c    75\n",
       "e    45\n",
       "g    95\n",
       "dtype: int64"
      ]
     },
     "execution_count": 72,
     "metadata": {},
     "output_type": "execute_result"
    }
   ],
   "source": [
    "# 인덱스 라벨을 리스트로 담아 전달해 주면 정상적으로 데이터 색인이 가능함\n",
    "sample[['c', 'e', 'g']]"
   ]
  },
  {
   "cell_type": "code",
   "execution_count": 73,
   "metadata": {},
   "outputs": [
    {
     "data": {
      "text/plain": [
       "c    75\n",
       "d    55\n",
       "e    45\n",
       "f    90\n",
       "g    95\n",
       "dtype: int64"
      ]
     },
     "execution_count": 73,
     "metadata": {},
     "output_type": "execute_result"
    }
   ],
   "source": [
    "# c부터 g까지의 데이터 선택\n",
    "sample[['c', 'd', 'e', 'f', 'g']]"
   ]
  },
  {
   "cell_type": "markdown",
   "metadata": {},
   "source": [
    "3)인덱스 슬라이싱 - 주어진 범위에 해당하는 데이터 선택\n",
    "<img src=\"img/1강/Series-슬라이싱.jpg\" alt=\"datetime\" style=\"width: 500px;\"/>"
   ]
  },
  {
   "cell_type": "markdown",
   "metadata": {},
   "source": [
    "- start idx와 end idx는 생략이 가능\n",
    "- start idx를 생략 -> 맨 첫 데이터부터 선택\n",
    "- end idx를 생략 -> 데이터 끝까지 선택\n",
    "- 숫자 인덱스로 슬라이싱 하는 경우 엔드 인덱스 미포함\n",
    "- 문자 인덱스(인덱스 라벨)로 슬라이싱 하는 경우 엔드 인덱스 포함"
   ]
  },
  {
   "cell_type": "code",
   "execution_count": 76,
   "metadata": {},
   "outputs": [
    {
     "data": {
      "text/plain": [
       "a    85\n",
       "b    90\n",
       "c    75\n",
       "d    55\n",
       "e    45\n",
       "dtype: int64"
      ]
     },
     "execution_count": 76,
     "metadata": {},
     "output_type": "execute_result"
    }
   ],
   "source": [
    "# 인덱스 슬라이싱을 통해 간결하게 데이터 선택하기\n",
    "# sample의 맨 앞에 5개 데이터 선택\n",
    "# 엔드 인덱스 미포함\n",
    "# 스타트 인덱스를 생략하는 것은 무조건 처음부터 슬라이싱을 하겠다는 의미\n",
    "# 스타트 인덱스가 0인 경우에는 스타트 인덱스를 생략해도 동일한 결과를 얻을 수 있음\n",
    "sample[0:5] \n",
    "sample[:5]"
   ]
  },
  {
   "cell_type": "code",
   "execution_count": 77,
   "metadata": {},
   "outputs": [
    {
     "data": {
      "text/plain": [
       "a    85\n",
       "b    90\n",
       "c    75\n",
       "d    55\n",
       "e    45\n",
       "dtype: int64"
      ]
     },
     "execution_count": 77,
     "metadata": {},
     "output_type": "execute_result"
    }
   ],
   "source": [
    "# 슬라이싱으로 색인을 정의\n",
    "# 엔드 인덱스 포함\n",
    "sample['a':'e'] "
   ]
  },
  {
   "cell_type": "code",
   "execution_count": 80,
   "metadata": {},
   "outputs": [
    {
     "data": {
      "text/plain": [
       "h     85\n",
       "i     90\n",
       "j    100\n",
       "dtype: int64"
      ]
     },
     "execution_count": 80,
     "metadata": {},
     "output_type": "execute_result"
    }
   ],
   "source": [
    "# sample의 맨 뒤에 있는 3개의 데이터 선택\n",
    "# 엔드 인덱스를 생략하면 마지막 데이터까지 선택함\n",
    "# 뒤에서부터 선택하는 마이너스 인덱스를 사용할 수도 있음\n",
    "sample[7:10]\n",
    "sample[7:]\n",
    "sample[-3:]"
   ]
  },
  {
   "cell_type": "code",
   "execution_count": 81,
   "metadata": {},
   "outputs": [
    {
     "data": {
      "text/plain": [
       "c    75\n",
       "d    55\n",
       "e    45\n",
       "f    90\n",
       "g    95\n",
       "dtype: int64"
      ]
     },
     "execution_count": 81,
     "metadata": {},
     "output_type": "execute_result"
    }
   ],
   "source": [
    "# c부터 g까지의 데이터 선택\n",
    "sample['c':'g']"
   ]
  },
  {
   "cell_type": "markdown",
   "metadata": {},
   "source": [
    "4) 조건 색인(불리언 색인) : 조건을 활용한 인덱스 선택\n",
    "- 조건에 충족하는 데이터만 선택하는 방법\n",
    "- 매우 많이 활용되므로, 꼭 알고 있어야 함!\n",
    "<img src=\"img/1강/조건색인1.jpg\" alt=\"datetime\" style=\"width: 1200px;\"/>"
   ]
  },
  {
   "cell_type": "code",
   "execution_count": 84,
   "metadata": {},
   "outputs": [],
   "source": [
    "# 불리언 인덱스에 있는 True, False의 개수와 불리언 인덱스를 사용할 Series 데이터(항목)의 개수가 동일해야 사용할 수 있음\n",
    "boolean_idx = [True, False, False, False, False, \n",
    "               True, True, True, True, True] "
   ]
  },
  {
   "cell_type": "code",
   "execution_count": 85,
   "metadata": {},
   "outputs": [
    {
     "data": {
      "text/plain": [
       "a     85\n",
       "f     90\n",
       "g     95\n",
       "h     85\n",
       "i     90\n",
       "j    100\n",
       "dtype: int64"
      ]
     },
     "execution_count": 85,
     "metadata": {},
     "output_type": "execute_result"
    }
   ],
   "source": [
    "sample[boolean_idx]"
   ]
  },
  {
   "cell_type": "markdown",
   "metadata": {},
   "source": [
    "- 명시적으로 지정하는 것보다 어떤 조건을 생성해서 그 조건을 통해 불리언 색인을 자동으로 만들어내는 방식을 주로 활용함\n",
    "- 조건 색인이라는 것을 통해 불리언 인덱스를 생성한 후 이를 색인을 해 올 수 있음\n",
    "- boolean index를 조건을 통해 생성할 수 있다. \n",
    "- 샘플에 있는 데이터 항목 개수만큼 '90보다 크거나 작다.'라는 조건을 수행해서 True, False를 데이터 항목의 개수만큼 생성할 수 있다.\n",
    "<img src=\"img/1강/조건색인2.jpg\" alt=\"datetime\" style=\"width: 1200px;\"/>"
   ]
  },
  {
   "cell_type": "code",
   "execution_count": 86,
   "metadata": {},
   "outputs": [
    {
     "data": {
      "text/plain": [
       "a    False\n",
       "b     True\n",
       "c    False\n",
       "d    False\n",
       "e    False\n",
       "f     True\n",
       "g     True\n",
       "h    False\n",
       "i     True\n",
       "j     True\n",
       "dtype: bool"
      ]
     },
     "execution_count": 86,
     "metadata": {},
     "output_type": "execute_result"
    }
   ],
   "source": [
    "# 샘플에 있는 각 데이터 항목에 90보다 크거나 같다고 하는 조건이 수행되어 True, False의 리스트가 리턴 됨\n",
    "sample >= 90"
   ]
  },
  {
   "cell_type": "code",
   "execution_count": 87,
   "metadata": {},
   "outputs": [
    {
     "data": {
      "text/plain": [
       "b     90\n",
       "f     90\n",
       "g     95\n",
       "i     90\n",
       "j    100\n",
       "dtype: int64"
      ]
     },
     "execution_count": 87,
     "metadata": {},
     "output_type": "execute_result"
    }
   ],
   "source": [
    "# 조건 색인을 사용하면 내가 원하는 조건에 해당하는 데이터만 가지고 올 수 있음\n",
    "sample[sample >= 90]"
   ]
  },
  {
   "cell_type": "markdown",
   "metadata": {},
   "source": [
    "<b>[Mini Quiz #4]</b> sample 데이터의 평균값보다 큰 데이터만 선택"
   ]
  },
  {
   "cell_type": "code",
   "execution_count": 88,
   "metadata": {},
   "outputs": [
    {
     "data": {
      "text/plain": [
       "81.0"
      ]
     },
     "execution_count": 88,
     "metadata": {},
     "output_type": "execute_result"
    }
   ],
   "source": [
    "# 10개 데이터의 평균 점수 보다 높은 점수만 선택해서 출력할 경우\n",
    "# 1) 평균값 구하기\n",
    "# 샘플에 'mean'이라는 함수를 통해 구할 수 있음\n",
    "sample.mean()"
   ]
  },
  {
   "cell_type": "code",
   "execution_count": 91,
   "metadata": {},
   "outputs": [],
   "source": [
    "# 2) 부릴언 인덱스를 생성\n",
    "bool_idx = sample > sample.mean()"
   ]
  },
  {
   "cell_type": "code",
   "execution_count": 93,
   "metadata": {},
   "outputs": [
    {
     "data": {
      "text/plain": [
       "a     85\n",
       "b     90\n",
       "f     90\n",
       "g     95\n",
       "h     85\n",
       "i     90\n",
       "j    100\n",
       "dtype: int64"
      ]
     },
     "execution_count": 93,
     "metadata": {},
     "output_type": "execute_result"
    }
   ],
   "source": [
    "sample[bool_idx]"
   ]
  },
  {
   "cell_type": "markdown",
   "metadata": {},
   "source": [
    "<b>[Mini Quiz #5]</b> sample의 값이 50과 80 사이의 데이터만 선택"
   ]
  },
  {
   "cell_type": "code",
   "execution_count": 95,
   "metadata": {},
   "outputs": [],
   "source": [
    "# 50보다 크거나 같고, 80보다 작거나 같다고 하는 2개의 조건 만들기\n",
    "# 01.[sample >= 50] 조건 생성하기\n",
    "# 02. & 연산 사용하기\n",
    "# 조건 2개 이상을 나열할 때는 조건을 괄호로 묶어 주어야 함\n",
    "# 03.[sample <= 80] 조건 생성하기\n",
    "# 둘 다 충족하는 경우 True, 그렇지 않은 경우 False로 리턴해서 불리언 색인을 만들 수 있음\n",
    "# 04.'cond_50_80'이라는 변수에 저장하기\n",
    "cond_50_80 = (sample >= 50) &  (sample <= 80)"
   ]
  },
  {
   "cell_type": "code",
   "execution_count": 96,
   "metadata": {},
   "outputs": [
    {
     "data": {
      "text/plain": [
       "c    75\n",
       "d    55\n",
       "dtype: int64"
      ]
     },
     "execution_count": 96,
     "metadata": {},
     "output_type": "execute_result"
    }
   ],
   "source": [
    "sample[cond_50_80]"
   ]
  },
  {
   "cell_type": "markdown",
   "metadata": {},
   "source": [
    "=============================================================\n",
    "# 실습 문제 "
   ]
  },
  {
   "cell_type": "code",
   "execution_count": 5,
   "metadata": {},
   "outputs": [],
   "source": [
    "import random\n",
    "from pandas import Series"
   ]
  },
  {
   "cell_type": "code",
   "execution_count": 6,
   "metadata": {},
   "outputs": [
    {
     "data": {
      "text/plain": [
       "A    62\n",
       "B    52\n",
       "C    51\n",
       "D    91\n",
       "E    85\n",
       "F    26\n",
       "G    79\n",
       "H    47\n",
       "I    94\n",
       "J    31\n",
       "K    70\n",
       "L    22\n",
       "M     7\n",
       "N    10\n",
       "O    49\n",
       "P    63\n",
       "Q    95\n",
       "R    98\n",
       "S    24\n",
       "T    89\n",
       "U    32\n",
       "V    55\n",
       "W    23\n",
       "X    60\n",
       "Y    54\n",
       "Z    21\n",
       "dtype: int64"
      ]
     },
     "execution_count": 6,
     "metadata": {},
     "output_type": "execute_result"
    }
   ],
   "source": [
    "# 실습 데이터 생성\n",
    "# 1~100사이의 값을 26개 생성하여 list로 반환\n",
    "sample = random.sample(range(1,100),26) \n",
    "data = Series(sample, index = list('ABCDEFGHIJKLMNOPQRSTUVWXYZ'))\n",
    "data"
   ]
  },
  {
   "cell_type": "code",
   "execution_count": 7,
   "metadata": {},
   "outputs": [
    {
     "data": {
      "text/plain": [
       "70"
      ]
     },
     "execution_count": 7,
     "metadata": {},
     "output_type": "execute_result"
    }
   ],
   "source": [
    "# 1) 인덱스 라벨이 'K' 항목의 값 출력\n",
    "data['K']"
   ]
  },
  {
   "cell_type": "code",
   "execution_count": 9,
   "metadata": {},
   "outputs": [
    {
     "data": {
      "text/plain": [
       "A    62\n",
       "F    26\n",
       "C    51\n",
       "dtype: int64"
      ]
     },
     "execution_count": 9,
     "metadata": {},
     "output_type": "execute_result"
    }
   ],
   "source": [
    "# 2) 인덱스 라벨이 'A','F','C' 항목의 값 출력\n",
    "# 리스트로 전달\n",
    "data[['A', 'F', 'C']] "
   ]
  },
  {
   "cell_type": "code",
   "execution_count": 10,
   "metadata": {},
   "outputs": [
    {
     "data": {
      "text/plain": [
       "F    26\n",
       "G    79\n",
       "H    47\n",
       "I    94\n",
       "J    31\n",
       "K    70\n",
       "L    22\n",
       "M     7\n",
       "N    10\n",
       "O    49\n",
       "P    63\n",
       "dtype: int64"
      ]
     },
     "execution_count": 10,
     "metadata": {},
     "output_type": "execute_result"
    }
   ],
   "source": [
    "# 3) 5번 인덱스부터 15번 인덱스까지의 항목 출력\n",
    "data[5:16]"
   ]
  },
  {
   "cell_type": "code",
   "execution_count": 11,
   "metadata": {},
   "outputs": [
    {
     "data": {
      "text/plain": [
       "V    55\n",
       "W    23\n",
       "X    60\n",
       "Y    54\n",
       "Z    21\n",
       "dtype: int64"
      ]
     },
     "execution_count": 11,
     "metadata": {},
     "output_type": "execute_result"
    }
   ],
   "source": [
    "# 4) 뒤에서 5개 항목 출력\n",
    "data[-5:]"
   ]
  },
  {
   "cell_type": "code",
   "execution_count": 13,
   "metadata": {},
   "outputs": [
    {
     "data": {
      "text/plain": [
       "26"
      ]
     },
     "execution_count": 13,
     "metadata": {},
     "output_type": "execute_result"
    }
   ],
   "source": [
    "# 5) data의 항목의 갯수를 출력\n",
    "len(data)\n",
    "data.size"
   ]
  },
  {
   "cell_type": "code",
   "execution_count": 120,
   "metadata": {},
   "outputs": [
    {
     "data": {
      "text/plain": [
       "53.46153846153846"
      ]
     },
     "execution_count": 120,
     "metadata": {},
     "output_type": "execute_result"
    }
   ],
   "source": [
    "# 6) data 항목 값들의 평균보다 큰 항목만 출력 \n",
    "## Hint. data 항목 값들의 평균은 data.mean()으로 구할 수 있다.\n",
    "data.mean()"
   ]
  },
  {
   "cell_type": "code",
   "execution_count": 121,
   "metadata": {},
   "outputs": [
    {
     "data": {
      "text/plain": [
       "A    62\n",
       "D    91\n",
       "E    85\n",
       "G    79\n",
       "I    94\n",
       "K    70\n",
       "P    63\n",
       "Q    95\n",
       "R    98\n",
       "T    89\n",
       "V    55\n",
       "X    60\n",
       "Y    54\n",
       "dtype: int64"
      ]
     },
     "execution_count": 121,
     "metadata": {},
     "output_type": "execute_result"
    }
   ],
   "source": [
    "data[data > data.mean()]"
   ]
  },
  {
   "cell_type": "code",
   "execution_count": 122,
   "metadata": {},
   "outputs": [
    {
     "data": {
      "text/plain": [
       "False"
      ]
     },
     "execution_count": 122,
     "metadata": {},
     "output_type": "execute_result"
    }
   ],
   "source": [
    "# 7) data의 항목 값 중에 50이 있는지 확인하여, 있으면 True, 없으면 False를 출력\n",
    "# 15 in [10, 20, 30]\n",
    "50 in data.values"
   ]
  },
  {
   "cell_type": "code",
   "execution_count": 123,
   "metadata": {},
   "outputs": [
    {
     "name": "stdout",
     "output_type": "stream",
     "text": [
      "('A', 62)\n",
      "('B', 52)\n",
      "('C', 51)\n",
      "('D', 91)\n",
      "('E', 85)\n",
      "('F', 26)\n",
      "('G', 79)\n",
      "('H', 47)\n",
      "('I', 94)\n",
      "('J', 31)\n",
      "('K', 70)\n",
      "('L', 22)\n",
      "('M', 7)\n",
      "('N', 10)\n",
      "('O', 49)\n",
      "('P', 63)\n",
      "('Q', 95)\n",
      "('R', 98)\n",
      "('S', 24)\n",
      "('T', 89)\n",
      "('U', 32)\n",
      "('V', 55)\n",
      "('W', 23)\n",
      "('X', 60)\n",
      "('Y', 54)\n",
      "('Z', 21)\n"
     ]
    }
   ],
   "source": [
    "# 8) data의 인덱스 라벨과 각 항목 값을 아래와 같이 출력\n",
    "# index: A, value: XX\n",
    "# index: B, value: XX\n",
    "# index: C, value: XX\n",
    "for i in data.items():\n",
    "    print(i)\n",
    "# for idx, val in data.items():\n",
    "    # print('index:', idx, 'value:', val)"
   ]
  },
  {
   "cell_type": "code",
   "execution_count": null,
   "metadata": {},
   "outputs": [],
   "source": []
  }
 ],
 "metadata": {
  "kernelspec": {
   "display_name": "Python 3",
   "language": "python",
   "name": "python3"
  },
  "language_info": {
   "codemirror_mode": {
    "name": "ipython",
    "version": 3
   },
   "file_extension": ".py",
   "mimetype": "text/x-python",
   "name": "python",
   "nbconvert_exporter": "python",
   "pygments_lexer": "ipython3",
   "version": "3.8.8"
  },
  "toc": {
   "base_numbering": 1,
   "nav_menu": {},
   "number_sections": true,
   "sideBar": true,
   "skip_h1_title": false,
   "title_cell": "Table of Contents",
   "title_sidebar": "Contents",
   "toc_cell": false,
   "toc_position": {},
   "toc_section_display": true,
   "toc_window_display": false
  }
 },
 "nbformat": 4,
 "nbformat_minor": 2
}
